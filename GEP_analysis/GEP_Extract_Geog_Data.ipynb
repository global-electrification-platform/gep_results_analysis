{
 "cells": [
  {
   "cell_type": "markdown",
   "metadata": {},
   "source": [
    "# Process and download GEP data"
   ]
  },
  {
   "cell_type": "code",
   "execution_count": 2,
   "metadata": {},
   "outputs": [],
   "source": [
    "import os, sys, logging, importlib, math, time, boto3, shutil\n",
    "import rasterio, affine\n",
    "\n",
    "import geopandas as gpd\n",
    "import pandas as pd\n",
    "\n",
    "from zipfile import ZipFile\n",
    "from affine import Affine\n",
    "from rasterio import features\n",
    "from rasterio.mask import mask\n",
    "from rasterio.features import rasterize\n",
    "\n",
    "import GEP\n",
    "from GEP import gep_results\n",
    "\n",
    "'''prints the time along with the message'''\n",
    "def tPrint(s):\n",
    "    print(\"%s\\t%s\" % (time.strftime(\"%H:%M:%S\"), s))"
   ]
  },
  {
   "cell_type": "code",
   "execution_count": 3,
   "metadata": {},
   "outputs": [],
   "source": [
    "scenario = \"0_0_0_0_1_0\" \n",
    "base_folder = '/media/gost/DATA1/GEP'\n",
    "scenario_base_folder =  os.path.join(base_folder, 'Scenarios')\n",
    "scenario_folder = os.path.join(scenario_base_folder, scenario)\n",
    "summaries_folder = os.path.join(base_folder, 'Scenario_Summaries')\n",
    "zip_folder =       os.path.join(scenario_base_folder, 'zipfiles')\n"
   ]
  },
  {
   "cell_type": "markdown",
   "metadata": {},
   "source": [
    "## Download results from S3"
   ]
  },
  {
   "cell_type": "code",
   "execution_count": null,
   "metadata": {
    "scrolled": true
   },
   "outputs": [],
   "source": [
    "s3_bucket = \"wbg-geography01\"\n",
    "prefix = 'GEP/models-2021/'\n",
    "\n",
    "s3_client = boto3.client('s3')\n",
    "s3 = boto3.resource('s3')\n",
    "bucket = s3.Bucket(s3_bucket)\n",
    "\n",
    "for obj in bucket.objects.filter(Prefix=prefix):\n",
    "    key = obj.key    \n",
    "    if 'scenarios-summaries' in key:\n",
    "        print(key)\n",
    "        out_file = os.path.join(summaries_folder, os.path.basename(key))\n",
    "        s3_client.download_file(s3_bucket, key, out_file)\n",
    "    \n",
    "    if 'scenarios-results' in key:\n",
    "        print(key)\n",
    "        out_file = os.path.join(scenario_folder, os.path.basename(key))\n",
    "        s3_client.download_file(s3_bucket, key, out_file)\n",
    "        \n",
    "    "
   ]
  },
  {
   "cell_type": "markdown",
   "metadata": {},
   "source": [
    "## Extract scenario files from zipfiles"
   ]
  },
  {
   "cell_type": "code",
   "execution_count": 4,
   "metadata": {
    "scrolled": true
   },
   "outputs": [
    {
     "name": "stdout",
     "output_type": "stream",
     "text": [
      "sb-2\n",
      "so-2\n",
      "vu-2\n"
     ]
    }
   ],
   "source": [
    "importlib.reload(GEP)\n",
    "   \n",
    "for zFile in os.listdir(zip_folder):\n",
    "    cur_zip = os.path.join(zip_folder, zFile)\n",
    "    country = \"-\".join(zFile.split(\"-\")[:2])  \n",
    "    out_scenario_file = os.path.join(scenario_folder, f'{country}-{scenario}.csv')\n",
    "    if not os.path.exists(out_scenario_file):\n",
    "        if country in ['fm-2','sb-2','so-2','vu-2']:\n",
    "            spl = scenario.split(\"_\")\n",
    "            new_scenario = \"_\".join([spl[0],spl[1],spl[3]])\n",
    "            cur_res = GEP.gep_results(country, scenariosFolder=scenario_base_folder, scenario=scenario)\n",
    "            out_file = cur_res.extract_sample_scenario(new_scenario, scenario_folder)\n",
    "            os.rename(out_file, out_scenario_file)        \n",
    "        else:\n",
    "            cur_res = GEP.gep_results(country, scenariosFolder=scenario_base_folder, scenario=scenario)\n",
    "            cur_res.extract_sample_scenario(scenario, scenario_folder)\n",
    "        print(country)"
   ]
  },
  {
   "cell_type": "markdown",
   "metadata": {},
   "source": [
    "## Connect scenario data to geospatial data"
   ]
  },
  {
   "cell_type": "code",
   "execution_count": null,
   "metadata": {
    "scrolled": true
   },
   "outputs": [],
   "source": [
    "cluster_folder = '/media/gost/DATA1/GEP/Clusters'\n",
    "scenario_base = '/media/gost/DATA1/GEP/Scenarios'\n",
    "vrt_folder = '/media/gost/DATA1/GEP/GEP_VRTs'\n",
    "scenario = '0_0_0_0_1_0'\n",
    "scenario_folder = os.path.join(scenario_base, scenario)\n",
    "countries = [x[:4] for x in os.listdir(scenario_folder)]\n",
    "countries   "
   ]
  },
  {
   "cell_type": "code",
   "execution_count": null,
   "metadata": {},
   "outputs": [],
   "source": [
    "importlib.reload(GEP)\n",
    "\n",
    "for country in countries:\n",
    "    tPrint(country)\n",
    "    out_file = '/media/gost/DATA1/GEP/Country_Scenarios/%s_electrifrication_status.shp' % country\n",
    "    if not os.path.exists(out_file):\n",
    "        xx_so = GEP.gep_results(country, scenario=scenario)\n",
    "        res = xx_so.join_results()\n",
    "        sel_res = res.loc[:,['FinalElecCode2018','Pop','geometry']]\n",
    "        sel_res.to_file(out_file)\n",
    "        "
   ]
  },
  {
   "cell_type": "code",
   "execution_count": null,
   "metadata": {},
   "outputs": [],
   "source": []
  }
 ],
 "metadata": {
  "kernelspec": {
   "display_name": "Python Geog",
   "language": "python",
   "name": "geog"
  },
  "language_info": {
   "codemirror_mode": {
    "name": "ipython",
    "version": 3
   },
   "file_extension": ".py",
   "mimetype": "text/x-python",
   "name": "python",
   "nbconvert_exporter": "python",
   "pygments_lexer": "ipython3",
   "version": "3.7.2"
  }
 },
 "nbformat": 4,
 "nbformat_minor": 2
}
