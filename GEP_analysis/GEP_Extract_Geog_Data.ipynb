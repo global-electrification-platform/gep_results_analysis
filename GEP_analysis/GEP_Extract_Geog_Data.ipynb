{
 "cells": [
  {
   "cell_type": "code",
   "execution_count": 1,
   "metadata": {},
   "outputs": [],
   "source": [
    "import os, sys, logging, importlib, math, time\n",
    "import rasterio, affine\n",
    "\n",
    "import geopandas as gpd\n",
    "import pandas as pd\n",
    "\n",
    "from zipfile import ZipFile\n",
    "from affine import Affine\n",
    "from rasterio import features\n",
    "from rasterio.mask import mask\n",
    "from rasterio.features import rasterize\n",
    "\n",
    "import GEP\n",
    "from GEP import gep_results\n",
    "\n",
    "'''prints the time along with the message'''\n",
    "def tPrint(s):\n",
    "    print(\"%s\\t%s\" % (time.strftime(\"%H:%M:%S\"), s))"
   ]
  },
  {
   "cell_type": "code",
   "execution_count": 18,
   "metadata": {},
   "outputs": [],
   "source": [
    "cluster_folder = '/media/gost/DATA1/GEP/Clusters'\n",
    "scenario_base = '/media/gost/DATA1/GEP/Scenarios'\n",
    "vrt_folder = '/media/gost/DATA1/GEP/GEP_VRTs'\n",
    "\n",
    "scenario = '0_0_0_0_0_0'\n",
    "countries = ['cm-1','td-1','ne-1','ng-1','et-1','ke-1','so-1']\n",
    "\n",
    "scenario_folder = os.path.join(scenario_base, f'Scenario_{scenario}')\n",
    "    "
   ]
  },
  {
   "cell_type": "code",
   "execution_count": 19,
   "metadata": {},
   "outputs": [
    {
     "name": "stdout",
     "output_type": "stream",
     "text": [
      "15:32:11\tcm-1\n",
      "15:32:11\ttd-1\n",
      "15:33:40\tne-1\n",
      "15:35:14\tng-1\n",
      "15:42:40\tet-1\n",
      "15:53:29\tke-1\n",
      "15:58:01\tso-1\n"
     ]
    }
   ],
   "source": [
    "for country in countries:\n",
    "    tPrint(country)\n",
    "    out_file = '/media/gost/DATA1/GEP/temp/%s_electrifrication_status.shp' % country\n",
    "    if not os.path.exists(out_file):\n",
    "        xx_so = gep_results(country, \n",
    "                            scenariosFolder=scenario_folder,\n",
    "                            clustersFolder = cluster_folder,\n",
    "                            scenario=scenario)\n",
    "        res = xx_so.join_results()\n",
    "        sel_res = res.loc[:,['FinalElecCode2018','Pop','geometry']]\n",
    "        sel_res.to_file(out_file)"
   ]
  },
  {
   "cell_type": "code",
   "execution_count": 7,
   "metadata": {},
   "outputs": [
    {
     "data": {
      "text/plain": [
       "['__class__',\n",
       " '__delattr__',\n",
       " '__dict__',\n",
       " '__dir__',\n",
       " '__doc__',\n",
       " '__eq__',\n",
       " '__format__',\n",
       " '__ge__',\n",
       " '__getattribute__',\n",
       " '__gt__',\n",
       " '__hash__',\n",
       " '__init__',\n",
       " '__init_subclass__',\n",
       " '__le__',\n",
       " '__lt__',\n",
       " '__module__',\n",
       " '__ne__',\n",
       " '__new__',\n",
       " '__reduce__',\n",
       " '__reduce_ex__',\n",
       " '__repr__',\n",
       " '__setattr__',\n",
       " '__sizeof__',\n",
       " '__str__',\n",
       " '__subclasshook__',\n",
       " '__weakref__',\n",
       " 'clustersFile',\n",
       " 'clustersFolder',\n",
       " 'clustersZipFile',\n",
       " 'country',\n",
       " 'countryClustersFolder',\n",
       " 'create_subset_data',\n",
       " 'extract_sample_scenario',\n",
       " 'join_results',\n",
       " 'rasterize_results',\n",
       " 'sampleScenarioFile',\n",
       " 'sampleScenarioFolder',\n",
       " 'scenariosZipFile']"
      ]
     },
     "execution_count": 7,
     "metadata": {},
     "output_type": "execute_result"
    }
   ],
   "source": [
    "dir(xx_so)"
   ]
  },
  {
   "cell_type": "code",
   "execution_count": 10,
   "metadata": {},
   "outputs": [],
   "source": [
    "\n"
   ]
  },
  {
   "cell_type": "code",
   "execution_count": 16,
   "metadata": {},
   "outputs": [
    {
     "data": {
      "text/html": [
       "<div>\n",
       "<style scoped>\n",
       "    .dataframe tbody tr th:only-of-type {\n",
       "        vertical-align: middle;\n",
       "    }\n",
       "\n",
       "    .dataframe tbody tr th {\n",
       "        vertical-align: top;\n",
       "    }\n",
       "\n",
       "    .dataframe thead th {\n",
       "        text-align: right;\n",
       "    }\n",
       "</style>\n",
       "<table border=\"1\" class=\"dataframe\">\n",
       "  <thead>\n",
       "    <tr style=\"text-align: right;\">\n",
       "      <th></th>\n",
       "      <th></th>\n",
       "      <th>Pop</th>\n",
       "    </tr>\n",
       "    <tr>\n",
       "      <th>ElecStatus</th>\n",
       "      <th>FinalElecCode2018</th>\n",
       "      <th></th>\n",
       "    </tr>\n",
       "  </thead>\n",
       "  <tbody>\n",
       "    <tr>\n",
       "      <th>0</th>\n",
       "      <th>99</th>\n",
       "      <td>3.909428e+06</td>\n",
       "    </tr>\n",
       "    <tr>\n",
       "      <th rowspan=\"2\" valign=\"top\">1</th>\n",
       "      <th>1</th>\n",
       "      <td>1.557249e+07</td>\n",
       "    </tr>\n",
       "    <tr>\n",
       "      <th>99</th>\n",
       "      <td>3.680159e+06</td>\n",
       "    </tr>\n",
       "  </tbody>\n",
       "</table>\n",
       "</div>"
      ],
      "text/plain": [
       "                                       Pop\n",
       "ElecStatus FinalElecCode2018              \n",
       "0          99                 3.909428e+06\n",
       "1          1                  1.557249e+07\n",
       "           99                 3.680159e+06"
      ]
     },
     "execution_count": 16,
     "metadata": {},
     "output_type": "execute_result"
    }
   ],
   "source": []
  },
  {
   "cell_type": "code",
   "execution_count": 15,
   "metadata": {},
   "outputs": [],
   "source": []
  },
  {
   "cell_type": "code",
   "execution_count": 13,
   "metadata": {},
   "outputs": [
    {
     "data": {
      "text/plain": [
       "array(['id', 'GridCellAr', 'TravelHour', 'Residentia', 'NightLight',\n",
       "       'Substation', 'Transforme', 'CurrentHVL', 'PlannedHVL',\n",
       "       'CurrentMVL', 'PlannedMVL', 'Hydropow_1', 'Hydropow_2',\n",
       "       'PerCapitaD', 'HealthDema', 'EducationD', 'Electrific',\n",
       "       'Commercial', 'Resident_1', 'Resident_2', 'Resident_3',\n",
       "       'Resident_4', 'Resident_5', 'RoadDistCl', 'Substati_1',\n",
       "       'LandCoverC', 'ElevationC', 'SlopeClass', 'GridClassi',\n",
       "       'GridPenalt', 'PopStartYe', 'ElecPopCal', 'Pop2025Hig',\n",
       "       'Pop2030Hig', 'GridDistCa', 'Elec_Initi', 'Elec_Init_',\n",
       "       'Actual_Ele', 'FinalElecC', 'GridReachY', 'MVConnectD',\n",
       "       'NewConnect', 'NumPeopleP', 'EnergyPerS', 'TotalEnerg',\n",
       "       'MG_Hydro20', 'MG_Wind202', 'MG_Diesel2', 'SA_Diesel2',\n",
       "       'Minimum_Te', 'Minimum_LC', 'Off_Grid_C', 'Elec_Ini_1',\n",
       "       'Elec_Ini_2', 'Actual_E_1', 'new_connec', 'MinGridDis',\n",
       "       'Electrif_1', 'MinimumOve', 'MinimumO_1', 'MinimumO_2',\n",
       "       'Investment', 'ElecStatus', 'Investme_1', 'GridElecIn',\n",
       "       'OffGridEle', 'FinalEle_1', 'NewCapacit', 'NewConne_1',\n",
       "       'EnergyPe_1', 'MG_Hydro_1', 'MG_Wind203', 'MG_Diese_1',\n",
       "       'SA_Diese_1', 'Minimum__1', 'Minimum__2', 'Off_Grid_1',\n",
       "       'Elec_Ini_3', 'Elec_Ini_4', 'Actual_E_2', 'MinGridD_1',\n",
       "       'Electrif_2', 'MinimumO_3', 'MinimumO_4', 'MinimumO_5',\n",
       "       'Investme_2', 'ElecStat_1', 'Investme_3', 'GridElec_1',\n",
       "       'OffGridE_1', 'FinalEle_2', 'NewCapac_1', 'GridPop203',\n",
       "       'OffGridPop', 'geometry', 'Pop', 'GridCellArea', 'Country',\n",
       "       'ElecPop', 'WindVel', 'GHI', 'TravelHours', 'Elevation',\n",
       "       'ResidentialDemandTierCustom', 'Slope', 'NightLights', 'LandCover',\n",
       "       'SubstationDist', 'TransformerDist', 'CurrentHVLineDist',\n",
       "       'PlannedHVLineDist', 'CurrentMVLineDist', 'PlannedMVLineDist',\n",
       "       'RoadDist', 'HydropowerDist', 'Hydropower', 'HydropowerFID',\n",
       "       'IsUrban', 'PerCapitaDemand', 'HealthDemand', 'EducationDemand',\n",
       "       'AgriDemand', 'ElectrificationOrder', 'Conflict',\n",
       "       'CommercialDemand', 'ResidentialDemandTier1',\n",
       "       'ResidentialDemandTier2', 'ResidentialDemandTier3',\n",
       "       'ResidentialDemandTier4', 'ResidentialDemandTier5', 'X_deg',\n",
       "       'Y_deg', 'RoadDistClassified', 'SubstationDistClassified',\n",
       "       'LandCoverClassified', 'ElevationClassified', 'SlopeClassified',\n",
       "       'GridClassification', 'GridPenalty', 'WindCF', 'PopStartYear',\n",
       "       'ElecPopCalib', 'Pop2025High', 'Pop2025Low', 'Pop2030High',\n",
       "       'Pop2030Low', 'Pop2018', 'ElecStart', 'GridDistCalibElec',\n",
       "       'Elec_Initial_Status_Grid2018', 'Elec_Init_Status_Offgrid2018',\n",
       "       'Actual_Elec_Status_2018', 'FinalElecCode2018', 'GridReachYear',\n",
       "       'MVConnectDist', 'minTDdist', 'Pop2025', 'NewConnections2025',\n",
       "       'NumPeoplePerHH', 'Tier', 'EnergyPerSettlement2025',\n",
       "       'TotalEnergyPerCell', 'MG_Hydro2025', 'MG_PV2025', 'MG_Wind2025',\n",
       "       'MG_Diesel2025', 'SA_Diesel2025', 'SA_PV2025',\n",
       "       'Minimum_Tech_Off_grid2025', 'Minimum_LCOE_Off_grid2025',\n",
       "       'Off_Grid_Code2025', 'Elec_Initial_Status_Grid2025',\n",
       "       'Elec_Init_Status_Offgrid2025', 'Actual_Elec_Status_2025',\n",
       "       'Grid2025', 'new_connections_household', 'MinGridDist2025',\n",
       "       'ElectrificationOrder2025', 'MinimumOverall2025',\n",
       "       'MinimumOverallLCOE2025', 'MinimumOverallCode2025',\n",
       "       'InvestmentCost2025', 'ElecStatusIn2025', 'InvestmentCapita2025',\n",
       "       'GridElecIn2025', 'OffGridElecIn2025', 'FinalElecCode2025',\n",
       "       'NewCapacity2025', 'Pop2030', 'NewConnections2030',\n",
       "       'EnergyPerSettlement2030', 'MG_Hydro2030', 'MG_PV2030',\n",
       "       'MG_Wind2030', 'MG_Diesel2030', 'SA_Diesel2030', 'SA_PV2030',\n",
       "       'Minimum_Tech_Off_grid2030', 'Minimum_LCOE_Off_grid2030',\n",
       "       'Off_Grid_Code2030', 'Elec_Initial_Status_Grid2030',\n",
       "       'Elec_Init_Status_Offgrid2030', 'Actual_Elec_Status_2030',\n",
       "       'Grid2030', 'MinGridDist2030', 'ElectrificationOrder2030',\n",
       "       'MinimumOverall2030', 'MinimumOverallLCOE2030',\n",
       "       'MinimumOverallCode2030', 'InvestmentCost2030', 'ElecStatusIn2030',\n",
       "       'InvestmentCapita2030', 'GridElecIn2030', 'OffGridElecIn2030',\n",
       "       'FinalElecCode2030', 'NewCapacity2030', 'GridPop2030',\n",
       "       'OffGridPop2030'], dtype=object)"
      ]
     },
     "execution_count": 13,
     "metadata": {},
     "output_type": "execute_result"
    }
   ],
   "source": [
    "res.columns.values"
   ]
  },
  {
   "cell_type": "code",
   "execution_count": null,
   "metadata": {},
   "outputs": [],
   "source": []
  }
 ],
 "metadata": {
  "kernelspec": {
   "display_name": "Python Geog",
   "language": "python",
   "name": "geog"
  },
  "language_info": {
   "codemirror_mode": {
    "name": "ipython",
    "version": 3
   },
   "file_extension": ".py",
   "mimetype": "text/x-python",
   "name": "python",
   "nbconvert_exporter": "python",
   "pygments_lexer": "ipython3",
   "version": "3.7.2"
  }
 },
 "nbformat": 4,
 "nbformat_minor": 2
}
