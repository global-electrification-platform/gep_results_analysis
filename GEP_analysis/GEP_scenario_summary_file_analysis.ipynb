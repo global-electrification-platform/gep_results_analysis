{
 "cells": [
  {
   "cell_type": "markdown",
   "metadata": {},
   "source": [
    "# Comparing GEP results\n",
    "For each country, results are defined by the geographic and secnario summary files. In this script, results are downloaded, extracted, and analyzed to see how the scenarios affect results"
   ]
  },
  {
   "cell_type": "code",
   "execution_count": 1,
   "metadata": {},
   "outputs": [],
   "source": [
    "import os, sys, importlib, shutil, zipfile\n",
    "import pandas as pd\n",
    "import numpy as np\n",
    "import matplotlib.pyplot as plt\n",
    "\n",
    "import GEP\n",
    "from GEP import gepResults\n",
    "\n",
    "importlib.reload(GEP)\n",
    "\n",
    "pd.set_option('display.float_format', lambda x: '%.3f' % x)"
   ]
  },
  {
   "cell_type": "code",
   "execution_count": 2,
   "metadata": {},
   "outputs": [
    {
     "data": {
      "text/plain": [
       "['Electricity demand target: Bottom-up',\n",
       " 'Social & commercial uses: Productive included',\n",
       " 'Grid generation cost: Estimated',\n",
       " 'PV cost: Estimated',\n",
       " 'Intermediate investment: Capped connections in 2025',\n",
       " 'Rollout: Least-cost nationwide']"
      ]
     },
     "execution_count": 2,
     "metadata": {},
     "output_type": "execute_result"
    }
   ],
   "source": [
    "importlib.reload(GEP)\n",
    "GEP.get_assumptions(\"0_0_0_0_1_0\")"
   ]
  },
  {
   "cell_type": "code",
   "execution_count": 3,
   "metadata": {},
   "outputs": [],
   "source": [
    "resultsFolder = \"/media/gost/DATA1/GEP/Scenario_Summaries/\"\n",
    "shapesFolder = \"/media/gost/DATA1/GEP/Clusters\"\n",
    "outFolder = \"/media/gost/DATA1/GEP/Summaries_Summary\"\n",
    "country_summaries_folder = \"/media/gost/DATA1/GEP/Country_Scenarios\"\n",
    "chart_folder = \"/media/gost/DATA1/GEP/CHARTS/\"\n",
    "\n",
    "for x in [country_summaries_folder]:\n",
    "    if not os.path.exists(country_summaries_folder):\n",
    "        os.makedirs(country_summaries_folder)"
   ]
  },
  {
   "cell_type": "code",
   "execution_count": 4,
   "metadata": {},
   "outputs": [],
   "source": [
    "# Create summary output table containing all the summary files stacked together\n",
    "all_results = []\n",
    "for root, dirs, files in os.walk(resultsFolder):\n",
    "    for f in files:\n",
    "        if \"summary.csv\" in f:\n",
    "            all_results.append(os.path.join(root, f))"
   ]
  },
  {
   "cell_type": "code",
   "execution_count": 5,
   "metadata": {
    "scrolled": true
   },
   "outputs": [],
   "source": [
    "importlib.reload(GEP)\n",
    "try:\n",
    "    del(final)\n",
    "except:\n",
    "    pass\n",
    "all_res = {}\n",
    "broken_res = {}\n",
    "for x in all_results:\n",
    "    xx = GEP.gep_summary(x)\n",
    "    tempD = xx.get_data()\n",
    "    if tempD.shape[1] == 5:\n",
    "        all_res[x.split(\"/\")[-1][:16]] = tempD\n",
    "        try:\n",
    "            final = final.append(tempD)\n",
    "        except:\n",
    "            final = tempD\n",
    "    else:\n",
    "        broken_res[x.split(\"/\")[-1][:16]] = tempD\n",
    "        \n",
    "final.columns = ['Attribute','2025','2030','Country','Scenario']\n",
    "final['Attr'] = final['Attribute'].apply(lambda x: x[:1])\n",
    "final = final.loc[final['Attr'] != 'M',]"
   ]
  },
  {
   "cell_type": "code",
   "execution_count": 6,
   "metadata": {
    "scrolled": true
   },
   "outputs": [],
   "source": [
    "importlib.reload(GEP)\n",
    "final.reset_index(inplace=True)\n",
    "final['Tech'] = final['Attribute'].apply(lambda x: GEP.get_simple_tech(x))\n",
    "final['Tech_detail'] = final['Attribute'].apply(lambda x: GEP.get_tech(x))\n",
    "final['2030Sum'] = final['2025'] + final['2030']\n",
    "final['PP'] = final['Country'].apply(GEP.get_pp)\n",
    "africa = final.loc[final['PP'] != \"other\"]"
   ]
  },
  {
   "cell_type": "markdown",
   "metadata": {},
   "source": [
    "# Determine most expensive scenario per country"
   ]
  },
  {
   "cell_type": "code",
   "execution_count": 7,
   "metadata": {},
   "outputs": [],
   "source": [
    "country_grouped = final.loc[final['Attr'] == '4'].groupby(['Country'])"
   ]
  },
  {
   "cell_type": "code",
   "execution_count": 8,
   "metadata": {
    "scrolled": true
   },
   "outputs": [],
   "source": [
    "all_res = []\n",
    "for x in country_grouped:\n",
    "    max_scenario = x[1].groupby('Scenario').sum().idxmax()['2030Sum']\n",
    "    all_res.append([x[0]] + max_scenario.split(\"_\") + [max_scenario])\n",
    "max_scenarios = pd.DataFrame(all_res, columns = [\"Country\",\"Demand\",\"Uses\",\"GridCost\",\"PVCost\",\"Plan\",\"Rollout\",'Scenario'])    \n",
    "\n",
    "all_res = []\n",
    "for x in country_grouped:\n",
    "    min_scenario = x[1].groupby('Scenario').sum().idxmin()['2030Sum']\n",
    "    all_res.append([x[0]] + min_scenario.split(\"_\") + [max_scenario])\n",
    "min_scenarios = pd.DataFrame(all_res, columns = [\"Country\",\"Demand\",\"Uses\",\"GridCost\",\"PVCost\",\"Plan\",\"Rollout\",'Scenario'])    "
   ]
  },
  {
   "cell_type": "code",
   "execution_count": 9,
   "metadata": {},
   "outputs": [
    {
     "data": {
      "text/plain": [
       "1    53\n",
       "0     1\n",
       "Name: Rollout, dtype: int64"
      ]
     },
     "execution_count": 9,
     "metadata": {},
     "output_type": "execute_result"
    }
   ],
   "source": [
    "max_scenarios['Demand'].value_counts()\n",
    "max_scenarios['Uses'].value_counts()\n",
    "max_scenarios['GridCost'].value_counts()\n",
    "max_scenarios['PVCost'].value_counts()\n",
    "max_scenarios['Plan'].value_counts()\n",
    "max_scenarios['Rollout'].value_counts()"
   ]
  },
  {
   "cell_type": "markdown",
   "metadata": {},
   "source": [
    "# Calculate wide-averages\n",
    "Summarize scenarios across Africa and across the entire datasets. We want to calculate the following\n",
    "\n",
    "1. Total new connections between start and 2030 for all technologies  \n",
    "   a. Africa only  \n",
    "   b. Global  \n"
   ]
  },
  {
   "cell_type": "code",
   "execution_count": 10,
   "metadata": {},
   "outputs": [],
   "source": [
    "res_folder = \"/media/gost/DATA1/GEP/Analytic_Results\"\n",
    "if not os.path.exists(res_folder):\n",
    "    os.makedirs(res_folder)"
   ]
  },
  {
   "cell_type": "code",
   "execution_count": 11,
   "metadata": {},
   "outputs": [],
   "source": [
    "# Summarize all variables by technology across globe by default scenario\n",
    "scenario = \"0_0_0_0_1_0\"\n",
    "com = final.loc[final['Scenario'] == scenario].groupby(['Tech', 'Attr'])\n",
    "glo_default_summary = com.sum()\n",
    "glo_default_summary.to_csv(os.path.join(res_folder, f\"GLO_{scenario}.csv\"))"
   ]
  },
  {
   "cell_type": "code",
   "execution_count": 12,
   "metadata": {},
   "outputs": [],
   "source": [
    "# Summarize all variables by technology across afr by default scenario\n",
    "scenario = \"0_0_0_0_1_0\"\n",
    "com = africa.loc[africa['Scenario'] == scenario].groupby(['Tech', 'Attr'])\n",
    "afr_default_summary = com.sum()\n",
    "afr_default_summary.to_csv(os.path.join(res_folder, f\"AFR_{scenario}.csv\"))"
   ]
  },
  {
   "cell_type": "code",
   "execution_count": 13,
   "metadata": {
    "scrolled": true
   },
   "outputs": [],
   "source": [
    "# Summarize all variables by least expensive scenario\n",
    "filter_dict = min_scenarios.loc[:,['Country','Scenario']]\n",
    "all_idx = []\n",
    "for idx, row in filter_dict.iterrows():\n",
    "    tempD = final.loc[final['Country'] == row['Country']]\n",
    "    tempD = tempD.loc[tempD['Scenario'] == row['Scenario']]\n",
    "    all_idx = all_idx + tempD.index.to_list()\n",
    "    \n",
    "min_data = final.loc[all_idx]\n",
    "\n",
    "com = min_data.groupby(['Tech','Attr'])\n",
    "glo_min_summary = com.sum()\n",
    "glo_min_summary.to_csv(os.path.join(res_folder, f\"GLO_MIN_Scenario.csv\"))\n",
    "\n",
    "min_data = min_data.loc[min_data['PP'] != \"other\"]\n",
    "com = min_data.groupby(['Tech','Attr'])\n",
    "afr_min_summary = com.sum()\n",
    "afr_min_summary.to_csv(os.path.join(res_folder, f\"AFR_MIN_Scenario.csv\"))"
   ]
  },
  {
   "cell_type": "code",
   "execution_count": 14,
   "metadata": {},
   "outputs": [],
   "source": [
    "# Summarize all variables by most expensive scenario\n",
    "filter_dict = max_scenarios.loc[:,['Country','Scenario']]\n",
    "all_idx = []\n",
    "for idx, row in filter_dict.iterrows():\n",
    "    tempD = final.loc[final['Country'] == row['Country']]\n",
    "    tempD = tempD.loc[tempD['Scenario'] == row['Scenario']]\n",
    "    all_idx = all_idx + tempD.index.to_list()\n",
    "    \n",
    "max_data = final.loc[all_idx]\n",
    "\n",
    "com = max_data.groupby(['Tech','Attr'])\n",
    "glo_max_summary = com.sum()\n",
    "glo_max_summary.to_csv(os.path.join(res_folder, f\"GLO_MAX_Scenario.csv\"))\n",
    "\n",
    "max_data = max_data.loc[max_data['PP'] != \"other\"]\n",
    "com = max_data.groupby(['Tech','Attr'])\n",
    "afr_max_summary = com.sum()\n",
    "afr_max_summary.to_csv(os.path.join(res_folder, f\"AFR_MAX_Scenario.csv\"))"
   ]
  },
  {
   "cell_type": "code",
   "execution_count": 15,
   "metadata": {},
   "outputs": [],
   "source": [
    "# Combine the scenario summaries\n",
    "combined_results = glo_default_summary.copy()\n",
    "combined_results.drop(['index','2025','2030'], axis=1, inplace=True)\n",
    "combined_results.columns = ['GLO_Default']\n",
    "combined_results['AFR_Default'] = afr_default_summary['2030Sum']\n",
    "combined_results['GLO_Max'] = glo_max_summary['2030Sum']\n",
    "combined_results['AFR_Max'] = afr_max_summary['2030Sum']\n",
    "combined_results['GLO_Min'] = glo_min_summary['2030Sum']\n",
    "combined_results['AFR_Min'] = afr_min_summary['2030Sum']\n",
    "\n",
    "combined_results.to_csv(os.path.join(res_folder, \"COMBO_Attribute_summaries.csv\"))"
   ]
  },
  {
   "cell_type": "code",
   "execution_count": null,
   "metadata": {},
   "outputs": [],
   "source": [
    "### Global summary of percentage of new connections that are MG\n",
    "attr='2'\n",
    "tech='SA'\n",
    "### Summarize across technologies\n",
    "ag = final.loc[(final['Attr'] == attr) & (final['Tech'] == tech)].groupby(['Scenario','Attr','Tech'])\n",
    "summed_ag = ag.sum()\n",
    "summed_ag = summed_ag.loc[summed_ag['2030Sum'] > 0]\n",
    "max_mg_new_connections = summed_ag.sort_values(['2030Sum'], ascending=False).iloc[0,]\n",
    "min_mg_new_connections = summed_ag.sort_values(['2030Sum'], ascending=True ).iloc[0,]\n",
    "pd.DataFrame([max_mg_new_connections,min_mg_new_connections])"
   ]
  },
  {
   "cell_type": "code",
   "execution_count": null,
   "metadata": {},
   "outputs": [],
   "source": [
    "### africa summary of percentage of new connections that are MG\n",
    "attr='2'\n",
    "tech='MG'\n",
    "for attr in africa['Attr'].unique():\n",
    "    for tech in africa['Tech'].unique():\n",
    "        ### Summarize across technologies\n",
    "        ag = africa.loc[(africa['Attr'] == attr) & (africa['Tech'] == tech)].groupby(['Scenario','Attr','Tech'])\n",
    "        summed_ag = ag.sum()\n",
    "        summed_ag = summed_ag.loc[summed_ag['2030Sum'] > 0]\n",
    "        summed_ag.to_csv(os.path.join(res_folder, f\"AFRICA_{attr}_{tech}.csv\"))\n",
    "'''\n",
    "max_mg_new_connections = summed_ag.sort_values(['2030Sum'], ascending=False).iloc[0,]\n",
    "min_mg_new_connections = summed_ag.sort_values(['2030Sum'], ascending=True ).iloc[0,]\n",
    "pd.DataFrame([max_mg_new_connections,min_mg_new_connections])\n",
    "'''"
   ]
  },
  {
   "cell_type": "code",
   "execution_count": null,
   "metadata": {},
   "outputs": [],
   "source": [
    "### africa compare all technologies \n",
    "ag = africa.groupby(['Scenario','Attr','Tech'])\n",
    "summed_ag = ag.sum()\n",
    "summed_ag = summed_ag.loc[summed_ag['2030Sum'] > 0]\n",
    "summed_ag.to_csv(os.path.join(res_folder, f\"AFRICA_compare_everything.csv\"))"
   ]
  },
  {
   "cell_type": "code",
   "execution_count": null,
   "metadata": {},
   "outputs": [],
   "source": [
    "### global compare all technologies \n",
    "ag = final.groupby(['Scenario','Attr','Tech'])\n",
    "summed_ag = ag.sum()\n",
    "summed_ag = summed_ag.loc[summed_ag['2030Sum'] > 0]\n",
    "summed_ag.to_csv(os.path.join(res_folder, f\"GLOBAL_compare_everything.csv\"))"
   ]
  },
  {
   "cell_type": "code",
   "execution_count": null,
   "metadata": {},
   "outputs": [],
   "source": [
    "summed_ag"
   ]
  },
  {
   "cell_type": "markdown",
   "metadata": {},
   "source": [
    "# Compare 2025 and 2030 new connections"
   ]
  },
  {
   "cell_type": "code",
   "execution_count": null,
   "metadata": {},
   "outputs": [],
   "source": [
    "### Global summary of percentage of new connections that are MG\n",
    "attr='2'\n",
    "tech='MG'\n",
    "### Summarize across technologies\n",
    "ag = final.loc[(final['Attr'] == attr) & (final['Tech'] == tech)].groupby(['Country','Scenario','Attr','Tech'])\n",
    "for name, group in ag:\n",
    "    if group['2025'].sum() > group['2030'].sum() and name[1] == \"1_1_0_1_1_0\":\n",
    "        break"
   ]
  },
  {
   "cell_type": "markdown",
   "metadata": {},
   "source": [
    "# Create plots"
   ]
  },
  {
   "cell_type": "code",
   "execution_count": null,
   "metadata": {},
   "outputs": [],
   "source": [
    "importlib.reload(GEP)\n",
    "# Create plots describing all costs for all separate scenarios\n",
    "attributes = joined_data.index.get_level_values(0)\n",
    "scenarios = joined_data.index.get_level_values(1)\n",
    "for selected_attribute in ['1','2','3','4']:\n",
    "    for selected_scenario in scenarios:\n",
    "        if selected_scenario[-1] == '0':\n",
    "            GEP.extract_plot(joined_data, selected_attribute, selected_scenario, \"Africa\", chart_folder)\n",
    "            GEP.extract_plot(wapp_data,   selected_attribute, selected_scenario, \"WAPP\", chart_folder)\n",
    "            GEP.extract_plot(eapp_data,   selected_attribute, selected_scenario, \"EAPP\", chart_folder)\n",
    "            GEP.extract_plot(sapp_data,   selected_attribute, selected_scenario, \"SAPP\", chart_folder)\n",
    "            break"
   ]
  },
  {
   "cell_type": "code",
   "execution_count": null,
   "metadata": {},
   "outputs": [],
   "source": [
    "importlib.reload(GEP)\n",
    "# Create boxplots of scenarios for selected countries\n",
    "countries = ['ht-1']\n",
    "for country in countries:        \n",
    "    inD = final.loc[final['Country'] == country]\n",
    "    inD = inD.loc[inD['Scenario'].apply(lambda x: int(x[-1]) == 0)]\n",
    "    chart_folder = '/media/gost/DATA1/GEP/CHARTS/Box_Plot'\n",
    "    for selected_attribute in ['1','2','3','4']:\n",
    "        res = GEP.box_plot(inD, selected_attribute, f'{chart_folder}/boxPlot_{country}_{selected_attribute}.png')\n",
    "        "
   ]
  },
  {
   "cell_type": "code",
   "execution_count": null,
   "metadata": {},
   "outputs": [],
   "source": [
    "wapp_data = pd.DataFrame(final[final['Country'].isin(WAPP)].groupby(['Attribute','Scenario']).sum())\n",
    "wapp_data.reset_index(inplace=True)\n",
    "eapp_data = pd.DataFrame(final[final['Country'].isin(EAPP)].groupby(['Attribute','Scenario']).sum())\n",
    "eapp_data.reset_index(inplace=True)\n",
    "sapp_data = pd.DataFrame(final[final['Country'].isin(SAPP)].groupby(['Attribute','Scenario']).sum())\n",
    "sapp_data.reset_index(inplace=True)\n",
    "\n",
    "for selected_attribute in ['1','2','3','4']:\n",
    "    res = box_plot(wapp_data, selected_attribute, f'{chart_folder}/boxPlot_WAPP_{selected_attribute}.png')\n",
    "    res = box_plot(eapp_data, selected_attribute, f'{chart_folder}/boxPlot_EAPP_{selected_attribute}.png')\n",
    "    res = box_plot(sapp_data, selected_attribute, f'{chart_folder}/boxPlot_SAPP_{selected_attribute}.png')"
   ]
  },
  {
   "cell_type": "markdown",
   "metadata": {},
   "source": [
    "# Summarize all scenarios for single country"
   ]
  },
  {
   "cell_type": "code",
   "execution_count": null,
   "metadata": {},
   "outputs": [],
   "source": [
    "country = \"mz\""
   ]
  },
  {
   "cell_type": "code",
   "execution_count": null,
   "metadata": {},
   "outputs": [],
   "source": [
    "sel_data = final.loc[final['Country'] == country]\n",
    "#remove scenarios from final lever\n",
    "sel_grouped = sel_data.groupby(['Attr', 'Tech'])"
   ]
  },
  {
   "cell_type": "code",
   "execution_count": null,
   "metadata": {},
   "outputs": [],
   "source": [
    "def get_vals(x):\n",
    "    return(\n",
    "        x['2025'].min(),\n",
    "        x['2030'].max(),\n",
    "        x['2025'].min(),\n",
    "        x['2030'].max()\n",
    "    )\n",
    "\n",
    "    \n",
    "#results = pd.DataFrame(sel_grouped.apply(get_vals))\n",
    "\n",
    "results = pd.DataFrame([sel_grouped['2025'].min(),\n",
    "                      sel_grouped['2025'].max(),\n",
    "                      sel_grouped['2030'].min(),\n",
    "                      sel_grouped['2030'].max(),\n",
    "                     ]).transpose()\n",
    "results.reset_index(inplace=True)\n",
    "results.columns = ['Attr','Tech','2025min','2025max','2030min','2030max']\n",
    "results"
   ]
  },
  {
   "cell_type": "markdown",
   "metadata": {},
   "source": [
    "# Summarize scenarios across countries"
   ]
  },
  {
   "cell_type": "code",
   "execution_count": null,
   "metadata": {},
   "outputs": [],
   "source": [
    "### Generate national summary table - as simple as possible\n",
    "scenario = \"1_1_1_1_1_0\"\n",
    "\n",
    "attr = '2'\n",
    "summaryData = final.loc[(final['Scenario'] == scenario) & (final['Attr'] == attr),]\n",
    "#summaryData.loc[summaryData['2025'] != summaryData['2030'],]\n",
    "\n",
    "summaryData['Attr'] = summaryData['Attribute'].apply(lambda x: x[:1])\n",
    "summaryData = summaryData.loc[summaryData['Attr'] != 'M',]\n",
    "summaryData['Tech'] = summaryData['Attribute'].apply(lambda x: get_tech(x))\n",
    "summaryData['PP'] = summaryData['Country'].apply(lambda x: get_pp(x))\n",
    "summaryData['Continent'] = summaryData['Country'].apply(lambda x: get_continent(x)) \n",
    "\n",
    "#summary_grouped = summaryData.groupby(['Country','Attr','Tech'])\n",
    "#pd.DataFrame(summary_grouped.mean()).to_csv(f\"{chart_folder}_country_breakdown_{scenario}.csv\")\n",
    "\n",
    "summary_grouped = summaryData.groupby(['Continent','Attr','Tech'])\n",
    "#pd.DataFrame(summary_grouped.mean()).to_csv(f\"{chart_folder}_PP_breakdown_{scenario}.csv\")\n",
    "summary_grouped.sum()"
   ]
  },
  {
   "cell_type": "code",
   "execution_count": null,
   "metadata": {},
   "outputs": [],
   "source": [
    "# Generate output table of Country with population (1) and investment (4) by grid and off grid\n",
    "scenario = scenario #\"0_0_0_0_0_0\"\n",
    "summaryData = final.loc[final['Scenario'] == scenario,]\n",
    "summaryData['Attr'] = summaryData['Attribute'].apply(lambda x: x[:1])\n",
    "summaryData = summaryData.loc[summaryData['Attr'] != 'M',]\n",
    "summaryData['Tech'] = summaryData['Attribute'].apply(lambda x: get_tech(x))\n",
    "summary_grouped = summaryData.groupby(['Country','Attr','Tech'])\n",
    "pd.DataFrame(summary_grouped.mean()).to_csv(f\"{chart_folder}_country_breakdown_GRID_OFFGRID.csv\")\n"
   ]
  },
  {
   "cell_type": "code",
   "execution_count": null,
   "metadata": {},
   "outputs": [],
   "source": [
    "# For a single country and scenario, generate description of scenario \n",
    "# with population (1) and investment (4) by grid, MG, off grid\n",
    "scenario = \"0_1_0_0_0_0\"\n",
    "country = 'bi-1'\n",
    "out_file = os.path.join(country_summaries_folder, f\"{country}_{scenario}\")\n",
    "\n",
    "summaryData = final.loc[(final['Scenario'] == scenario) & (final['Country'] == country),]\n",
    "summary_grouped = summaryData.groupby(['Attr','Tech'])\n",
    "grouped_vals = pd.DataFrame(summary_grouped.mean())\n",
    "\n",
    "#Print outputs to screen and or file\n",
    "grid_pop = grouped_vals.loc[(grouped_vals.index.get_level_values('Attr') == '1') & \n",
    "                            (grouped_vals.index.get_level_values('Tech') == 'GRID'),'2030'].iloc[0]\n",
    "off_grid_pop = grouped_vals.loc[(grouped_vals.index.get_level_values('Attr') == '1') & \n",
    "                            (grouped_vals.index.get_level_values('Tech') == 'SA'),'2030'].iloc[0]\n",
    "mini_grid_pop = grouped_vals.loc[(grouped_vals.index.get_level_values('Attr') == '1') & \n",
    "                            (grouped_vals.index.get_level_values('Tech') == 'MG'),'2030'].iloc[0]\n",
    "\n",
    "grid_i = grouped_vals.loc[(grouped_vals.index.get_level_values('Attr') == '4') & \n",
    "                            (grouped_vals.index.get_level_values('Tech') == 'GRID'),'2030Sum'].iloc[0]\n",
    "off_grid_i = grouped_vals.loc[(grouped_vals.index.get_level_values('Attr') == '4') & \n",
    "                            (grouped_vals.index.get_level_values('Tech') == 'SA'),'2030Sum'].iloc[0]\n",
    "mini_grid_i = grouped_vals.loc[(grouped_vals.index.get_level_values('Attr') == '4') & \n",
    "                            (grouped_vals.index.get_level_values('Tech') == 'MG'),'2030Sum'].iloc[0]\n",
    "\n",
    "scenario_description = GEP.get_assumptions(scenario)\n",
    "\n",
    "messages = []\n",
    "messages.append(f\"***Scenario {scenario}***\")\n",
    "messages.append(\"\\n\".join(scenario_description))\n",
    "messages.append(\"\\n\")\n",
    "messages.append(f'2030 Grid pop: \\t {round(grid_pop)} \\t Grid Investment {round(grid_i)}')\n",
    "messages.append(f'2030 Offgrid pop: \\t {round(off_grid_pop)} \\t Grid Investment {round(off_grid_i)}')\n",
    "messages.append(f'2030 Mini grid pop: \\t {round(mini_grid_pop)} \\t Grid Investment {round(mini_grid_i)}')\n",
    "\n",
    "if out_file != '':\n",
    "    with open(out_file, 'w') as output_file:\n",
    "        for m in messages:\n",
    "            output_file.write(m)\n",
    "            output_file.write(\"\\n\")\n",
    "\n",
    "for m in messages:\n",
    "    print(m)"
   ]
  },
  {
   "cell_type": "code",
   "execution_count": null,
   "metadata": {},
   "outputs": [],
   "source": [
    "# Calculate the percentage of new connections that are GRID in each scenario\n",
    "maxConnect = 0\n",
    "minConnect = 1000\n",
    "attr = '2' # Looking at number of grid connections\n",
    "for scenario in final['Scenario'].unique():\n",
    "    if scenario[-1] == '0':\n",
    "        summaryData = final.loc[final['Scenario'] == scenario,]\n",
    "        allConnect  = summaryData.loc[summaryData['Attr'] == attr,'2030Sum'].sum()\n",
    "        gridConnect = summaryData.loc[summaryData['Attribute'] == '2.New_Connections_Grid', '2030Sum'].sum()\n",
    "        gridTotal = gridConnect / allConnect\n",
    "        if gridTotal > maxConnect:\n",
    "            maxConnect = gridTotal\n",
    "            maxScenario = scenario\n",
    "        if gridTotal < minConnect:\n",
    "            minConnect = gridTotal\n",
    "            minScenario = scenario\n",
    "        print(f'{scenario} - {gridTotal}')\n",
    "print('***')\n",
    "print(f'Maximum Grid: {maxScenario} - {maxConnect}')\n",
    "print(f'Minimum Grid: {minScenario} - {minConnect}')"
   ]
  },
  {
   "cell_type": "code",
   "execution_count": null,
   "metadata": {},
   "outputs": [],
   "source": [
    "# Calculate the percentage of new connections that are SA in each scenario in 2030\n",
    "maxConnect = 0\n",
    "minConnect = 1000\n",
    "attr = '2' # Looking at number of grid connections\n",
    "for scenario in final['Scenario'].unique():\n",
    "    if scenario[-1] == '0':\n",
    "        summaryData = final.loc[final['Scenario'] == scenario,]\n",
    "        allConnect  = summaryData.loc[summaryData['Attr'] == attr,'2030'].sum()\n",
    "        SAConnect = summaryData.loc[summaryData['Attribute'] == '2.New_Connections_SA_PV', '2030'].sum()\n",
    "        SATotal = SAConnect / allConnect\n",
    "        if SATotal > maxConnect:\n",
    "            maxConnect = SATotal\n",
    "            maxScenario = scenario\n",
    "        if SATotal < minConnect:\n",
    "            minConnect = SATotal\n",
    "            minScenario = scenario\n",
    "        print(f'{scenario} - {gridTotal}')\n",
    "print('***')\n",
    "print(f'Maximum SA: {maxScenario} - {maxConnect}')\n",
    "print(f'Minimum SA: {minScenario} - {minConnect}')"
   ]
  },
  {
   "cell_type": "code",
   "execution_count": null,
   "metadata": {},
   "outputs": [],
   "source": []
  }
 ],
 "metadata": {
  "kernelspec": {
   "display_name": "Python 3",
   "language": "python",
   "name": "python3"
  },
  "language_info": {
   "codemirror_mode": {
    "name": "ipython",
    "version": 3
   },
   "file_extension": ".py",
   "mimetype": "text/x-python",
   "name": "python",
   "nbconvert_exporter": "python",
   "pygments_lexer": "ipython3",
   "version": "3.7.2"
  }
 },
 "nbformat": 4,
 "nbformat_minor": 2
}
