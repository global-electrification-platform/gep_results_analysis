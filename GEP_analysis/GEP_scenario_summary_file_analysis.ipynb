{
 "cells": [
  {
   "cell_type": "markdown",
   "metadata": {},
   "source": [
    "# Comparing GEP results\n",
    "For each country, results are defined by the geographic and secnario summary files. In this script, results are downloaded, extracted, and analyzed to see how the scenarios affect results"
   ]
  },
  {
   "cell_type": "code",
   "execution_count": 1,
   "metadata": {},
   "outputs": [],
   "source": [
    "import os, sys, importlib, shutil, zipfile\n",
    "import pandas as pd\n",
    "import numpy as np\n",
    "import matplotlib.pyplot as plt\n",
    "\n",
    "import GEP\n",
    "from GEP import gepResults\n",
    "\n",
    "importlib.reload(GEP)\n",
    "\n",
    "pd.set_option('display.float_format', lambda x: '%.3f' % x)\n",
    "\n",
    "scenarioDefs = {\n",
    "               0:[[\"Baseline\",\"High\"], \"Population Growth\"],\n",
    "               1:[[\"Baseline\",\"Low\", \"High\"], \"Electricity demand targer\"],\n",
    "               2:[[\"Baseline\",\"Best Practice\"], \"5-year investment plan\"],\n",
    "               3:[[\"Baseline\",\"High\"], \"Grid generation cost\"],\n",
    "               4:[[\"Baseline\",\"High\"], \"PV Cost\"],\n",
    "               5:[[\"Baseline\",\"High\"], \"Prioritization\"],\n",
    "               }"
   ]
  },
  {
   "cell_type": "code",
   "execution_count": 2,
   "metadata": {},
   "outputs": [],
   "source": [
    "resultsFolder = \"/media/gost/DATA1/GEP/Summaries/\"\n",
    "shapesFolder = \"/media/gost/DATA1/GEP/Clusters\"\n",
    "outFolder = \"/media/gost/DATA1/GEP/Summaries_Summary\"\n",
    "chart_folder = \"/media/gost/DATA1/GEP/CHARTS/Africa\""
   ]
  },
  {
   "cell_type": "code",
   "execution_count": 3,
   "metadata": {},
   "outputs": [],
   "source": [
    "# Functions used throughout the code to re-classify variables\n",
    "def get_pp(x):\n",
    "    ''' classify power pools - used in pandas apply function\n",
    "    '''\n",
    "    EAPP = [f'{x}-1' for x in ['bi','dj','eg','et','ke','ly','rw','sd','ss','ug']]\n",
    "    WAPP = [f'{x}-1' for x in ['bf','bj','ci','gh','gm','gn','gw','lr','ml','ng','sl','sn','tg']]\n",
    "    SAPP = [f'{x}-1' for x in ['ao','bw','ls','mw','mz','na','sz','tz','za','zm','zw']]\n",
    "    AFR = [f'{x}-1' for x in ['cd','cg','cf','cm','er','ga','gq','km','mg','mr','ne','so','st','td']]\n",
    "    if x in EAPP:\n",
    "        return('EAPP')\n",
    "    if x in WAPP:\n",
    "        return('WAPP')\n",
    "    if x in SAPP:\n",
    "        return('SAPP')\n",
    "    if x in AFR:\n",
    "        return('AFR')\n",
    "    return(\"other\")\n",
    "\n",
    "def get_tech(x):\n",
    "    ''' Convert TECH column in GRID, OFF-GRID (SA and MG)\n",
    "    '''\n",
    "    x_spl = x.split(\"_\")\n",
    "    if x_spl[-1] == \"Grid\":\n",
    "        return(\"GRID\")\n",
    "    else:\n",
    "        return(x_spl[-2])\n",
    "    \n"
   ]
  },
  {
   "cell_type": "code",
   "execution_count": 4,
   "metadata": {},
   "outputs": [],
   "source": [
    "# Create summary output table containing all the summary files stacked together\n",
    "resultsFolder = \"/media/gost/DATA1/GEP/Summaries/\"\n",
    "all_results = []\n",
    "for root, dirs, files in os.walk(resultsFolder):\n",
    "    for f in files:\n",
    "        if \"summary.csv\" in f:\n",
    "            all_results.append(os.path.join(root, f))"
   ]
  },
  {
   "cell_type": "code",
   "execution_count": 5,
   "metadata": {},
   "outputs": [],
   "source": [
    "for x in all_results:\n",
    "    xx = GEP.gep_summary(x)\n",
    "    tempD = xx.get_data()\n",
    "    try:\n",
    "        final = final.append(tempD)\n",
    "    except:\n",
    "        final = tempD\n",
    "final.columns = ['Attribute','2025','2030','Country','Scenario']\n",
    "final['Attr'] = final['Attribute'].apply(lambda x: x[:1])\n",
    "final = final.loc[final['Attr'] != 'M',]\n",
    "final['Tech'] = final['Attribute'].apply(lambda x: get_tech(x))\n",
    "final['PP'] = final['Country'].apply(lambda x: get_pp(x))"
   ]
  },
  {
   "cell_type": "code",
   "execution_count": 8,
   "metadata": {},
   "outputs": [],
   "source": [
    "africa = final.loc[final['PP'] != \"other\"]"
   ]
  },
  {
   "cell_type": "markdown",
   "metadata": {},
   "source": [
    "# Calculate wide-averages\n",
    "Summarize scenarios across Africa and across the entire datasets"
   ]
  },
  {
   "cell_type": "code",
   "execution_count": null,
   "metadata": {},
   "outputs": [],
   "source": [
    "### Global-ish summaries\n",
    "attr='2'\n",
    "tech='MG'\n",
    "### Summarize across technologies\n",
    "#ag = final.loc[(final['Attr'] == attr) & (final['Tech'] == tech)].groupby(['Scenario','Attr','Tech'])\n",
    "#ag.sum().sort_values(['2030'], ascending=False)\n",
    "\n",
    "### Group all technologies to get all summaries\n",
    "ag = final.loc[(final['Attr'] == attr)].groupby(['Scenario','Attr'])\n",
    "#ag.sum().sort_values(['2030'], ascending=False)\n",
    "ag.sum().sort_values(['2030'], ascending=False).iloc[0:100]"
   ]
  },
  {
   "cell_type": "code",
   "execution_count": null,
   "metadata": {},
   "outputs": [],
   "source": [
    "### Africa summaries\n",
    "attr='2'\n",
    "tech='MG'\n",
    "ag = africa.loc[(africa['Attr'] == attr) & (africa['Tech'] == tech)].groupby(['Scenario','Attr','Tech'])\n",
    "ag.sum().sort_values(['2030'], ascending=False).iloc[50:150]\n",
    "\n",
    "#ag = africa.loc[(africa['Attr'] == attr)].groupby(['Scenario','Attr'])\n",
    "#ag.sum().sort_values(['2030'], ascending=False)"
   ]
  },
  {
   "cell_type": "markdown",
   "metadata": {},
   "source": [
    "# Create plots"
   ]
  },
  {
   "cell_type": "code",
   "execution_count": null,
   "metadata": {},
   "outputs": [],
   "source": [
    "importlib.reload(GEP)\n",
    "# Create plots describing all costs for all separate scenarios\n",
    "attributes = joined_data.index.get_level_values(0)\n",
    "scenarios = joined_data.index.get_level_values(1)\n",
    "for selected_attribute in ['1','2','3','4']:\n",
    "    for selected_scenario in scenarios:\n",
    "        if selected_scenario[-1] == '0':\n",
    "            GEP.extract_plot(joined_data, selected_attribute, selected_scenario, \"Africa\", chart_folder)\n",
    "            GEP.extract_plot(wapp_data,   selected_attribute, selected_scenario, \"WAPP\", chart_folder)\n",
    "            GEP.extract_plot(eapp_data,   selected_attribute, selected_scenario, \"EAPP\", chart_folder)\n",
    "            GEP.extract_plot(sapp_data,   selected_attribute, selected_scenario, \"SAPP\", chart_folder)\n",
    "            break"
   ]
  },
  {
   "cell_type": "code",
   "execution_count": null,
   "metadata": {},
   "outputs": [],
   "source": [
    "importlib.reload(GEP)\n",
    "# Create boxplots of scenarios for selected countries\n",
    "countries = ['zm-1']\n",
    "for country in countries:        \n",
    "    inD = final.loc[final['Country'] == country]\n",
    "    inD = inD.loc[inD['Scenario'].apply(lambda x: int(x[-1]) == 0)]\n",
    "    chart_folder = '/media/gost/DATA1/GEP/CHARTS/Box_Plot'\n",
    "    for selected_attribute in ['1','2','3','4']:\n",
    "        res = GEP.box_plot(inD, selected_attribute, f'{chart_folder}/boxPlot_{country}_{selected_attribute}.png')\n",
    "        "
   ]
  },
  {
   "cell_type": "code",
   "execution_count": null,
   "metadata": {},
   "outputs": [],
   "source": [
    "wapp_data = pd.DataFrame(final[final['Country'].isin(WAPP)].groupby(['Attribute','Scenario']).sum())\n",
    "wapp_data.reset_index(inplace=True)\n",
    "eapp_data = pd.DataFrame(final[final['Country'].isin(EAPP)].groupby(['Attribute','Scenario']).sum())\n",
    "eapp_data.reset_index(inplace=True)\n",
    "sapp_data = pd.DataFrame(final[final['Country'].isin(SAPP)].groupby(['Attribute','Scenario']).sum())\n",
    "sapp_data.reset_index(inplace=True)\n",
    "\n",
    "for selected_attribute in ['1','2','3','4']:\n",
    "    res = box_plot(wapp_data, selected_attribute, f'{chart_folder}/boxPlot_WAPP_{selected_attribute}.png')\n",
    "    res = box_plot(eapp_data, selected_attribute, f'{chart_folder}/boxPlot_EAPP_{selected_attribute}.png')\n",
    "    res = box_plot(sapp_data, selected_attribute, f'{chart_folder}/boxPlot_SAPP_{selected_attribute}.png')"
   ]
  },
  {
   "cell_type": "markdown",
   "metadata": {},
   "source": [
    "# Summarize scenarios across countries"
   ]
  },
  {
   "cell_type": "code",
   "execution_count": 12,
   "metadata": {},
   "outputs": [
    {
     "name": "stderr",
     "output_type": "stream",
     "text": [
      "/home/gost/anaconda3/envs/Geog/lib/python3.7/site-packages/ipykernel_launcher.py:6: SettingWithCopyWarning: \n",
      "A value is trying to be set on a copy of a slice from a DataFrame.\n",
      "Try using .loc[row_indexer,col_indexer] = value instead\n",
      "\n",
      "See the caveats in the documentation: http://pandas.pydata.org/pandas-docs/stable/indexing.html#indexing-view-versus-copy\n",
      "  \n"
     ]
    }
   ],
   "source": [
    "### Generate national summary table - as simple as possible\n",
    "scenario = \"0_2_0_0_0_0\"\n",
    "summaryData = final.loc[final['Scenario'] == scenario,]\n",
    "#summaryData.loc[summaryData['2025'] != summaryData['2030'],]\n",
    "\n",
    "summaryData['Attr'] = summaryData['Attribute'].apply(lambda x: x[:1])\n",
    "summaryData = summaryData.loc[summaryData['Attr'] != 'M',]\n",
    "summaryData['Tech'] = summaryData['Attribute'].apply(lambda x: get_tech(x))\n",
    "summaryData['PP'] = summaryData['Country'].apply(lambda x: get_pp(x))\n",
    "\n",
    "summary_grouped = summaryData.groupby(['Country','Attr','Tech'])\n",
    "pd.DataFrame(summary_grouped.mean()).to_csv(f\"{chart_folder}_country_breakdown_{scenario}.csv\")\n",
    "\n",
    "summary_grouped = summaryData.groupby(['PP','Attr','Tech'])\n",
    "pd.DataFrame(summary_grouped.mean()).to_csv(f\"{chart_folder}_PP_breakdown_{scenario}.csv\")"
   ]
  },
  {
   "cell_type": "code",
   "execution_count": null,
   "metadata": {},
   "outputs": [],
   "source": [
    "# Generate output table of Country with population (1) and investment (4) by grid and off grid\n",
    "scenario = scenario #\"0_0_0_0_0_0\"\n",
    "summaryData = final.loc[final['Scenario'] == scenario,]\n",
    "summaryData['Attr'] = summaryData['Attribute'].apply(lambda x: x[:1])\n",
    "summaryData = summaryData.loc[summaryData['Attr'] != 'M',]\n",
    "summaryData['Tech'] = summaryData['Attribute'].apply(lambda x: get_tech(x))\n",
    "summary_grouped = summaryData.groupby(['Country','Attr','Tech'])\n",
    "pd.DataFrame(summary_grouped.mean()).to_csv(f\"{chart_folder}_country_breakdown_GRID_OFFGRID.csv\")"
   ]
  },
  {
   "cell_type": "code",
   "execution_count": 11,
   "metadata": {},
   "outputs": [
    {
     "name": "stdout",
     "output_type": "stream",
     "text": [
      "0_0_0_0_0_0 - 0.3985938972330056\n",
      "0_0_0_0_1_0 - 0.42518069142867826\n",
      "0_0_0_0_2_0 - 0.3717679690102625\n",
      "0_0_0_1_0_0 - 0.3964323345811144\n",
      "0_0_0_1_1_0 - 0.4225421074666658\n",
      "0_0_0_1_2_0 - 0.36459121480167883\n",
      "0_0_1_0_0_0 - 0.3984044686421864\n",
      "0_0_1_0_1_0 - 0.4204845157085565\n",
      "0_0_1_0_2_0 - 0.37178059772114747\n",
      "0_0_1_1_1_0 - 0.4184432590235899\n",
      "0_0_1_1_2_0 - 0.3646036054573854\n",
      "0_1_0_0_0_0 - 0.6461752307652961\n",
      "0_1_0_0_1_0 - 0.6777296967514571\n",
      "0_1_0_0_2_0 - 0.598660634629906\n",
      "0_1_0_1_0_0 - 0.6316465222119607\n",
      "0_1_0_1_1_0 - 0.6684758878405409\n",
      "0_1_0_1_2_0 - 0.5795757835693217\n",
      "0_1_1_0_0_0 - 0.7122535348945389\n",
      "0_0_1_1_0_0 - 0.3962548216524002\n",
      "0_1_1_1_2_0 - 0.6616803543953556\n",
      "1_0_0_0_1_0 - 0.43909868111745737\n",
      "1_1_0_1_0_0 - 0.6484981065622344\n",
      "1_2_0_1_2_0 - 0.5942697394162845\n",
      "0_1_1_0_1_0 - 0.7375020550153555\n",
      "0_1_1_0_2_0 - 0.6795314933347237\n",
      "0_1_1_1_0_0 - 0.6989811771729301\n",
      "0_1_1_1_1_0 - 0.7288379340135013\n",
      "0_2_0_0_0_0 - 0.6431206399969854\n",
      "0_2_0_0_1_0 - 0.6774317945981845\n",
      "0_2_0_0_2_0 - 0.5951590689193798\n",
      "0_2_0_1_0_0 - 0.6281341922021316\n",
      "0_2_0_1_1_0 - 0.6688284530227556\n",
      "0_2_0_1_2_0 - 0.5788754957548898\n",
      "0_2_1_0_0_0 - 0.6894326875845336\n",
      "0_2_1_0_1_0 - 0.7172325645751136\n",
      "0_2_1_0_2_0 - 0.6345958279191534\n",
      "0_2_1_1_0_0 - 0.6770710194106494\n",
      "0_2_1_1_1_0 - 0.7105250635082492\n",
      "0_2_1_1_2_0 - 0.6205845932804762\n",
      "1_0_0_0_0_0 - 0.41379202577950985\n",
      "1_0_0_0_2_0 - 0.3865906435276056\n",
      "1_0_0_1_0_0 - 0.41107878380253776\n",
      "1_0_0_1_1_0 - 0.43657373295671115\n",
      "1_0_0_1_2_0 - 0.3797421281881173\n",
      "1_0_1_0_0_0 - 0.4131294118252274\n",
      "1_0_1_0_1_0 - 0.43382318949845355\n",
      "1_0_1_0_2_0 - 0.38659912161917726\n",
      "1_0_1_1_0_0 - 0.4109060531345023\n",
      "1_0_1_1_1_0 - 0.4320228481732062\n",
      "1_0_1_1_2_0 - 0.37975046003640595\n",
      "1_1_0_0_0_0 - 0.6631813355900323\n",
      "1_1_0_0_1_0 - 0.6973218882558375\n",
      "1_1_0_0_2_0 - 0.6185294994091762\n",
      "1_1_0_1_1_0 - 0.6881202365173607\n",
      "1_1_0_1_2_0 - 0.5978819368249975\n",
      "1_1_1_0_0_0 - 0.7270756836064325\n",
      "1_1_1_0_1_0 - 0.7547377068536841\n",
      "1_1_1_0_2_0 - 0.6942382255670119\n",
      "1_1_1_1_0_0 - 0.7140544762128628\n",
      "1_1_1_1_1_0 - 0.7464782993506786\n",
      "1_1_1_1_2_0 - 0.6748367227674096\n",
      "1_2_0_0_0_0 - 0.6578222793020448\n",
      "1_2_0_0_1_0 - 0.692578306438648\n",
      "1_2_0_0_2_0 - 0.6114914487459672\n",
      "1_2_0_1_0_0 - 0.6434074589958299\n",
      "1_2_0_1_1_0 - 0.6831738600403691\n",
      "1_2_1_0_0_0 - 0.7020196909658557\n",
      "1_2_1_0_1_0 - 0.7287340223207316\n",
      "1_2_1_0_2_0 - 0.6490869743709259\n",
      "1_2_1_1_0_0 - 0.68969674295791\n",
      "1_2_1_1_1_0 - 0.7222191696391878\n",
      "1_2_1_1_2_0 - 0.6354261393401371\n",
      "***\n",
      "Maximum Grid: 1_1_1_0_1_0 - 0.7547377068536841\n",
      "Minimum Grid: 0_0_0_1_2_0 - 0.36459121480167883\n"
     ]
    }
   ],
   "source": [
    "# Calculate the percentage of new connections that are GRID in each scenario\n",
    "maxConnect = 0\n",
    "minConnect = 1000\n",
    "attr = '2' # Looking at number of grid connections\n",
    "for scenario in final['Scenario'].unique():\n",
    "    if scenario[-1] == '0':\n",
    "        summaryData = final.loc[final['Scenario'] == scenario,]\n",
    "        allConnect  = summaryData.loc[summaryData['Attr'] == attr,'2030'].sum()\n",
    "        gridConnect = summaryData.loc[summaryData['Attribute'] == '2.New_Connections_Grid', '2030'].sum()\n",
    "        gridTotal = gridConnect / allConnect\n",
    "        if gridTotal > maxConnect:\n",
    "            maxConnect = gridTotal\n",
    "            maxScenario = scenario\n",
    "        if gridTotal < minConnect:\n",
    "            minConnect = gridTotal\n",
    "            minScenario = scenario\n",
    "        print(f'{scenario} - {gridTotal}')\n",
    "print('***')\n",
    "print(f'Maximum Grid: {maxScenario} - {maxConnect}')\n",
    "print(f'Minimum Grid: {minScenario} - {minConnect}')"
   ]
  }
 ],
 "metadata": {
  "kernelspec": {
   "display_name": "Python 3",
   "language": "python",
   "name": "python3"
  },
  "language_info": {
   "codemirror_mode": {
    "name": "ipython",
    "version": 3
   },
   "file_extension": ".py",
   "mimetype": "text/x-python",
   "name": "python",
   "nbconvert_exporter": "python",
   "pygments_lexer": "ipython3",
   "version": "3.7.2"
  }
 },
 "nbformat": 4,
 "nbformat_minor": 2
}
