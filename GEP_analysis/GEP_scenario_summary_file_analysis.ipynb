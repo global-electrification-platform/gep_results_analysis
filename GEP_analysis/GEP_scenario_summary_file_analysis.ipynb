{
 "cells": [
  {
   "cell_type": "markdown",
   "metadata": {},
   "source": [
    "# Comparing GEP results\n",
    "For each country, results are defined by the geographic and secnario summary files. In this script, results are downloaded, extracted, and analyzed to see how the scenarios affect results"
   ]
  },
  {
   "cell_type": "code",
   "execution_count": 1,
   "metadata": {},
   "outputs": [],
   "source": [
    "import os, sys, importlib, shutil, zipfile\n",
    "import pandas as pd\n",
    "import numpy as np\n",
    "import matplotlib.pyplot as plt\n",
    "\n",
    "import GEP\n",
    "from GEP import gepResults\n",
    "\n",
    "importlib.reload(GEP)\n",
    "\n",
    "pd.set_option('display.float_format', lambda x: '%.3f' % x)"
   ]
  },
  {
   "cell_type": "code",
   "execution_count": 2,
   "metadata": {},
   "outputs": [
    {
     "data": {
      "text/plain": [
       "['Population growth: High',\n",
       " 'Electricity demand target: Top-down low',\n",
       " 'Intermediate investment: No connections cap',\n",
       " 'Grid generation cost: High',\n",
       " 'PV cost: Estimated',\n",
       " 'Rollout: Least-cost nationwide']"
      ]
     },
     "execution_count": 2,
     "metadata": {},
     "output_type": "execute_result"
    }
   ],
   "source": [
    "importlib.reload(GEP)\n",
    "GEP.get_assumptions(\"1_0_0_1_0_0\")"
   ]
  },
  {
   "cell_type": "code",
   "execution_count": 3,
   "metadata": {},
   "outputs": [],
   "source": [
    "resultsFolder = \"/media/gost/DATA1/GEP/Summaries/\"\n",
    "shapesFolder = \"/media/gost/DATA1/GEP/Clusters\"\n",
    "outFolder = \"/media/gost/DATA1/GEP/Summaries_Summary\"\n",
    "country_summaries_folder = \"/media/gost/DATA1/GEP/Country_Scenarios\"\n",
    "chart_folder = \"/media/gost/DATA1/GEP/CHARTS/Africa\"\n",
    "\n",
    "for x in [country_summaries_folder]:\n",
    "    if not os.path.exists(country_summaries_folder):\n",
    "        os.makedirs(country_summaries_folder)"
   ]
  },
  {
   "cell_type": "code",
   "execution_count": 4,
   "metadata": {},
   "outputs": [],
   "source": [
    "# Functions used throughout the code to re-classify variables\n",
    "def get_continent(x):\n",
    "    ''' classify power pools - used in pandas apply function\n",
    "    '''\n",
    "    EAPP = [f'{x}-1' for x in ['bi','dj','et','ke','ly','rw','sd','ss','ug']]\n",
    "    WAPP = [f'{x}-1' for x in ['bf','bj','ci','gh','gm','gn','gw','lr','ml','ng','sl','sn','tg']]\n",
    "    SAPP = [f'{x}-1' for x in ['ao','bw','ls','mw','mz','na','sz','tz','za','zm','zw']]\n",
    "    AFR =  [f'{x}-1' for x in ['cd','cg','cf','cm','er','ga','gq','km','mg','mr','ne','so','st','td']]\n",
    "    if x in EAPP:\n",
    "        return('AFR')\n",
    "    if x in WAPP:\n",
    "        return('AFR')\n",
    "    if x in SAPP:\n",
    "        return('AFR')\n",
    "    if x in AFR:\n",
    "        return('AFR')\n",
    "    return(\"other\")\n",
    "\n",
    "def get_pp(x):\n",
    "    ''' classify power pools - used in pandas apply function\n",
    "    '''\n",
    "    EAPP = [f'{x}-1' for x in ['bi','dj','et','ke','ly','rw','sd','ss','ug']]\n",
    "    WAPP = [f'{x}-1' for x in ['bf','bj','ci','gh','gm','gn','gw','lr','ml','ng','sl','sn','tg']]\n",
    "    SAPP = [f'{x}-1' for x in ['ao','bw','ls','mw','mz','na','sz','tz','za','zm','zw']]\n",
    "    AFR = [f'{x}-1' for x in ['cd','cg','cf','cm','er','ga','gq','km','mg','mr','ne','so','st','td']]\n",
    "    if x in EAPP:\n",
    "        return('EAPP')\n",
    "    if x in WAPP:\n",
    "        return('WAPP')\n",
    "    if x in SAPP:\n",
    "        return('SAPP')\n",
    "    if x in AFR:\n",
    "        return('AFR')\n",
    "    return(\"other\")\n",
    "\n",
    "def get_tech(x):\n",
    "    ''' Convert TECH column in GRID, OFF-GRID (SA and MG)\n",
    "    '''\n",
    "    x_spl = x.split(\"_\")\n",
    "    if x_spl[-1] == \"Grid\":\n",
    "        return(\"GRID\")\n",
    "    else:\n",
    "        return(x_spl[-2])\n",
    "    \n"
   ]
  },
  {
   "cell_type": "code",
   "execution_count": 6,
   "metadata": {},
   "outputs": [],
   "source": [
    "# Create summary output table containing all the summary files stacked together\n",
    "resultsFolder = \"/media/gost/DATA1/GEP/Summaries/\"\n",
    "all_results = []\n",
    "for root, dirs, files in os.walk(resultsFolder):\n",
    "    for f in files:\n",
    "        if \"summary.csv\" in f:\n",
    "            all_results.append(os.path.join(root, f))"
   ]
  },
  {
   "cell_type": "code",
   "execution_count": null,
   "metadata": {},
   "outputs": [],
   "source": []
  },
  {
   "cell_type": "code",
   "execution_count": 34,
   "metadata": {},
   "outputs": [
    {
     "data": {
      "text/plain": [
       "dict_keys(['ao-1-0_0_0_0_0_0'])"
      ]
     },
     "execution_count": 34,
     "metadata": {},
     "output_type": "execute_result"
    }
   ],
   "source": [
    "broken_res.keys()"
   ]
  },
  {
   "cell_type": "code",
   "execution_count": 33,
   "metadata": {},
   "outputs": [],
   "source": [
    "try:\n",
    "    del(final)\n",
    "except:\n",
    "    pass\n",
    "all_res = {}\n",
    "broken_res = {}\n",
    "for x in all_results:\n",
    "    xx = GEP.gep_summary(x)\n",
    "    tempD = xx.get_data()\n",
    "    if tempD.shape[1] == 5:\n",
    "        all_res[x.split(\"/\")[-1][:16]] = tempD\n",
    "        try:\n",
    "            final = final.append(tempD)\n",
    "        except:\n",
    "            final = tempD\n",
    "    else:\n",
    "        broken_res[x.split(\"/\")[-1][:16]] = tempD\n",
    "        \n",
    "final.columns = ['Attribute','2025','2030','Country','Scenario']\n",
    "final['Attr'] = final['Attribute'].apply(lambda x: x[:1])\n",
    "final = final.loc[final['Attr'] != 'M',]\n",
    "final['Tech'] = final['Attribute'].apply(lambda x: get_tech(x))\n",
    "final['PP'] = final['Country'].apply(lambda x: get_pp(x))"
   ]
  },
  {
   "cell_type": "code",
   "execution_count": 35,
   "metadata": {},
   "outputs": [],
   "source": [
    "final['2030Sum'] = final['2025'] + final['2030']\n",
    "africa = final.loc[final['PP'] != \"other\"]"
   ]
  },
  {
   "cell_type": "code",
   "execution_count": 36,
   "metadata": {},
   "outputs": [
    {
     "data": {
      "text/plain": [
       "array(['gw-1', 'ao-1', 'bd-1', 'bf-1', 'bi-1', 'bj-1', 'bw-1', 'cd-1',\n",
       "       'cf-1', 'cg-1', 'ci-1', 'cm-1', 'dj-1', 'er-1', 'et-1', 'fm-1',\n",
       "       'ga-1', 'gh-1', 'gm-1', 'gn-1', 'gq-1', 'hn-1', 'ht-1', 'ke-1',\n",
       "       'kh-1', 'km-1', 'lr-1', 'ls-1', 'mg-1', 'ml-1', 'mm-1', 'mn-1',\n",
       "       'mr-1', 'mw-1', 'mz-1', 'na-1', 'ne-1', 'ng-1', 'ni-1', 'pg-1',\n",
       "       'pk-1', 'rw-1', 'sb-1', 'sd-1', 'sl-1', 'sn-1', 'so-1', 'ss-1',\n",
       "       'st-1', 'sz-1', 'td-1', 'tg-1', 'tl-1', 'tz-1', 'ug-1', 'vu-1',\n",
       "       'za-1', 'zm-1', 'zw-1'], dtype=object)"
      ]
     },
     "execution_count": 36,
     "metadata": {},
     "output_type": "execute_result"
    }
   ],
   "source": [
    "final['Country'].unique()"
   ]
  },
  {
   "cell_type": "code",
   "execution_count": 42,
   "metadata": {},
   "outputs": [
    {
     "data": {
      "text/plain": [
       "array(['gw-1', 'ao-1', 'bf-1', 'bi-1', 'bj-1', 'bw-1', 'cd-1', 'cf-1',\n",
       "       'cg-1', 'ci-1', 'cm-1', 'dj-1', 'er-1', 'et-1', 'ga-1', 'gh-1',\n",
       "       'gm-1', 'gn-1', 'gq-1', 'ke-1', 'km-1', 'lr-1', 'ls-1', 'mg-1',\n",
       "       'ml-1', 'mr-1', 'mw-1', 'mz-1', 'na-1', 'ne-1', 'ng-1', 'rw-1',\n",
       "       'sd-1', 'sl-1', 'sn-1', 'so-1', 'ss-1', 'st-1', 'sz-1', 'td-1',\n",
       "       'tg-1', 'tz-1', 'ug-1', 'za-1', 'zm-1', 'zw-1'], dtype=object)"
      ]
     },
     "execution_count": 42,
     "metadata": {},
     "output_type": "execute_result"
    }
   ],
   "source": [
    "africa['Country'].unique()\n",
    "#africa['Scenario'].unique()"
   ]
  },
  {
   "cell_type": "markdown",
   "metadata": {},
   "source": [
    "# Calculate wide-averages\n",
    "Summarize scenarios across Africa and across the entire datasets. We want to calculate the following\n",
    "\n",
    "1. Total new connections between start and 2030 for all technologies\n",
    "a. Africa only\n",
    "b. Global\n"
   ]
  },
  {
   "cell_type": "code",
   "execution_count": 43,
   "metadata": {},
   "outputs": [],
   "source": [
    "res_folder = \"/media/gost/DATA1/GEP/Analytic_Results\"\n",
    "if not os.path.exists(res_folder):\n",
    "    os.makedirs(res_folder)"
   ]
  },
  {
   "cell_type": "code",
   "execution_count": null,
   "metadata": {},
   "outputs": [],
   "source": [
    "### Global summary of percentage of new connections that are MG\n",
    "attr='2'\n",
    "tech='SA'\n",
    "### Summarize across technologies\n",
    "ag = final.loc[(final['Attr'] == attr) & (final['Tech'] == tech)].groupby(['Scenario','Attr','Tech'])\n",
    "summed_ag = ag.sum()\n",
    "summed_ag = summed_ag.loc[summed_ag['2030Sum'] > 0]\n",
    "max_mg_new_connections = summed_ag.sort_values(['2030Sum'], ascending=False).iloc[0,]\n",
    "min_mg_new_connections = summed_ag.sort_values(['2030Sum'], ascending=True ).iloc[0,]\n",
    "pd.DataFrame([max_mg_new_connections,min_mg_new_connections])"
   ]
  },
  {
   "cell_type": "code",
   "execution_count": 46,
   "metadata": {},
   "outputs": [
    {
     "data": {
      "text/plain": [
       "\"\\nmax_mg_new_connections = summed_ag.sort_values(['2030Sum'], ascending=False).iloc[0,]\\nmin_mg_new_connections = summed_ag.sort_values(['2030Sum'], ascending=True ).iloc[0,]\\npd.DataFrame([max_mg_new_connections,min_mg_new_connections])\\n\""
      ]
     },
     "execution_count": 46,
     "metadata": {},
     "output_type": "execute_result"
    }
   ],
   "source": [
    "### africa summary of percentage of new connections that are MG\n",
    "attr='2'\n",
    "tech='MG'\n",
    "for attr in africa['Attr'].unique():\n",
    "    for tech in africa['Tech'].unique():\n",
    "        ### Summarize across technologies\n",
    "        ag = africa.loc[(africa['Attr'] == attr) & (africa['Tech'] == tech)].groupby(['Scenario','Attr','Tech'])\n",
    "        summed_ag = ag.sum()\n",
    "        summed_ag = summed_ag.loc[summed_ag['2030Sum'] > 0]\n",
    "        summed_ag.to_csv(os.path.join(res_folder, f\"AFRICA_{attr}_{tech}.csv\"))\n",
    "'''\n",
    "max_mg_new_connections = summed_ag.sort_values(['2030Sum'], ascending=False).iloc[0,]\n",
    "min_mg_new_connections = summed_ag.sort_values(['2030Sum'], ascending=True ).iloc[0,]\n",
    "pd.DataFrame([max_mg_new_connections,min_mg_new_connections])\n",
    "'''"
   ]
  },
  {
   "cell_type": "code",
   "execution_count": 49,
   "metadata": {},
   "outputs": [],
   "source": [
    "### africa compare all technologies \n",
    "ag = africa.groupby(['Scenario','Attr','Tech'])\n",
    "summed_ag = ag.sum()\n",
    "summed_ag = summed_ag.loc[summed_ag['2030Sum'] > 0]\n",
    "summed_ag.to_csv(os.path.join(res_folder, f\"AFRICA_compare_everything.csv\"))"
   ]
  },
  {
   "cell_type": "markdown",
   "metadata": {},
   "source": [
    "# Compare 2025 and 2030 new connections"
   ]
  },
  {
   "cell_type": "code",
   "execution_count": null,
   "metadata": {},
   "outputs": [],
   "source": [
    "### Global summary of percentage of new connections that are MG\n",
    "attr='2'\n",
    "tech='MG'\n",
    "### Summarize across technologies\n",
    "ag = final.loc[(final['Attr'] == attr) & (final['Tech'] == tech)].groupby(['Country','Scenario','Attr','Tech'])\n",
    "for name, group in ag:\n",
    "    if group['2025'].sum() > group['2030'].sum() and name[1] == \"1_1_0_1_1_0\":\n",
    "        break"
   ]
  },
  {
   "cell_type": "markdown",
   "metadata": {},
   "source": [
    "# Create plots"
   ]
  },
  {
   "cell_type": "code",
   "execution_count": null,
   "metadata": {},
   "outputs": [],
   "source": [
    "importlib.reload(GEP)\n",
    "# Create plots describing all costs for all separate scenarios\n",
    "attributes = joined_data.index.get_level_values(0)\n",
    "scenarios = joined_data.index.get_level_values(1)\n",
    "for selected_attribute in ['1','2','3','4']:\n",
    "    for selected_scenario in scenarios:\n",
    "        if selected_scenario[-1] == '0':\n",
    "            GEP.extract_plot(joined_data, selected_attribute, selected_scenario, \"Africa\", chart_folder)\n",
    "            GEP.extract_plot(wapp_data,   selected_attribute, selected_scenario, \"WAPP\", chart_folder)\n",
    "            GEP.extract_plot(eapp_data,   selected_attribute, selected_scenario, \"EAPP\", chart_folder)\n",
    "            GEP.extract_plot(sapp_data,   selected_attribute, selected_scenario, \"SAPP\", chart_folder)\n",
    "            break"
   ]
  },
  {
   "cell_type": "code",
   "execution_count": null,
   "metadata": {},
   "outputs": [],
   "source": [
    "importlib.reload(GEP)\n",
    "# Create boxplots of scenarios for selected countries\n",
    "countries = ['ht-1']\n",
    "for country in countries:        \n",
    "    inD = final.loc[final['Country'] == country]\n",
    "    inD = inD.loc[inD['Scenario'].apply(lambda x: int(x[-1]) == 0)]\n",
    "    chart_folder = '/media/gost/DATA1/GEP/CHARTS/Box_Plot'\n",
    "    for selected_attribute in ['1','2','3','4']:\n",
    "        res = GEP.box_plot(inD, selected_attribute, f'{chart_folder}/boxPlot_{country}_{selected_attribute}.png')\n",
    "        "
   ]
  },
  {
   "cell_type": "code",
   "execution_count": null,
   "metadata": {},
   "outputs": [],
   "source": [
    "wapp_data = pd.DataFrame(final[final['Country'].isin(WAPP)].groupby(['Attribute','Scenario']).sum())\n",
    "wapp_data.reset_index(inplace=True)\n",
    "eapp_data = pd.DataFrame(final[final['Country'].isin(EAPP)].groupby(['Attribute','Scenario']).sum())\n",
    "eapp_data.reset_index(inplace=True)\n",
    "sapp_data = pd.DataFrame(final[final['Country'].isin(SAPP)].groupby(['Attribute','Scenario']).sum())\n",
    "sapp_data.reset_index(inplace=True)\n",
    "\n",
    "for selected_attribute in ['1','2','3','4']:\n",
    "    res = box_plot(wapp_data, selected_attribute, f'{chart_folder}/boxPlot_WAPP_{selected_attribute}.png')\n",
    "    res = box_plot(eapp_data, selected_attribute, f'{chart_folder}/boxPlot_EAPP_{selected_attribute}.png')\n",
    "    res = box_plot(sapp_data, selected_attribute, f'{chart_folder}/boxPlot_SAPP_{selected_attribute}.png')"
   ]
  },
  {
   "cell_type": "markdown",
   "metadata": {},
   "source": [
    "# Summarize all scenarios for single country"
   ]
  },
  {
   "cell_type": "code",
   "execution_count": 50,
   "metadata": {},
   "outputs": [],
   "source": [
    "country = \"mz-1\""
   ]
  },
  {
   "cell_type": "code",
   "execution_count": 55,
   "metadata": {},
   "outputs": [
    {
     "name": "stderr",
     "output_type": "stream",
     "text": [
      "/home/gost/anaconda3/envs/Geog/lib/python3.7/site-packages/ipykernel_launcher.py:3: SettingWithCopyWarning: \n",
      "A value is trying to be set on a copy of a slice from a DataFrame.\n",
      "Try using .loc[row_indexer,col_indexer] = value instead\n",
      "\n",
      "See the caveats in the documentation: http://pandas.pydata.org/pandas-docs/stable/indexing.html#indexing-view-versus-copy\n",
      "  This is separate from the ipykernel package so we can avoid doing imports until\n"
     ]
    }
   ],
   "source": [
    "sel_data = final.loc[final['Country'] == country]\n",
    "#remove scenarios from final lever\n",
    "sel_data['GOOD'] = sel_data['Scenario'].apply(lambda x: x[-1])\n",
    "sel_data = sel_data.loc[sel_data['GOOD'] == '0']\n",
    "sel_grouped = sel_data.groupby(['Attr', 'Tech'])\n"
   ]
  },
  {
   "cell_type": "code",
   "execution_count": 74,
   "metadata": {},
   "outputs": [
    {
     "data": {
      "text/html": [
       "<div>\n",
       "<style scoped>\n",
       "    .dataframe tbody tr th:only-of-type {\n",
       "        vertical-align: middle;\n",
       "    }\n",
       "\n",
       "    .dataframe tbody tr th {\n",
       "        vertical-align: top;\n",
       "    }\n",
       "\n",
       "    .dataframe thead th {\n",
       "        text-align: right;\n",
       "    }\n",
       "</style>\n",
       "<table border=\"1\" class=\"dataframe\">\n",
       "  <thead>\n",
       "    <tr style=\"text-align: right;\">\n",
       "      <th></th>\n",
       "      <th>Attr</th>\n",
       "      <th>Tech</th>\n",
       "      <th>2025min</th>\n",
       "      <th>2025max</th>\n",
       "      <th>2030min</th>\n",
       "      <th>2030max</th>\n",
       "    </tr>\n",
       "  </thead>\n",
       "  <tbody>\n",
       "    <tr>\n",
       "      <th>0</th>\n",
       "      <td>1</td>\n",
       "      <td>GRID</td>\n",
       "      <td>13458707.000</td>\n",
       "      <td>26043279.085</td>\n",
       "      <td>19099579.053</td>\n",
       "      <td>34826328.864</td>\n",
       "    </tr>\n",
       "    <tr>\n",
       "      <th>1</th>\n",
       "      <td>1</td>\n",
       "      <td>MG</td>\n",
       "      <td>0.000</td>\n",
       "      <td>8681982.301</td>\n",
       "      <td>0.000</td>\n",
       "      <td>2924008.864</td>\n",
       "    </tr>\n",
       "    <tr>\n",
       "      <th>2</th>\n",
       "      <td>1</td>\n",
       "      <td>SA</td>\n",
       "      <td>0.000</td>\n",
       "      <td>12806850.512</td>\n",
       "      <td>0.000</td>\n",
       "      <td>24122385.326</td>\n",
       "    </tr>\n",
       "    <tr>\n",
       "      <th>3</th>\n",
       "      <td>2</td>\n",
       "      <td>GRID</td>\n",
       "      <td>5215877.000</td>\n",
       "      <td>17800449.085</td>\n",
       "      <td>5640872.052</td>\n",
       "      <td>12433350.387</td>\n",
       "    </tr>\n",
       "    <tr>\n",
       "      <th>4</th>\n",
       "      <td>2</td>\n",
       "      <td>MG</td>\n",
       "      <td>0.000</td>\n",
       "      <td>8681982.301</td>\n",
       "      <td>0.000</td>\n",
       "      <td>2837062.246</td>\n",
       "    </tr>\n",
       "    <tr>\n",
       "      <th>5</th>\n",
       "      <td>2</td>\n",
       "      <td>SA</td>\n",
       "      <td>0.000</td>\n",
       "      <td>12806850.512</td>\n",
       "      <td>0.000</td>\n",
       "      <td>11627811.376</td>\n",
       "    </tr>\n",
       "    <tr>\n",
       "      <th>6</th>\n",
       "      <td>3</td>\n",
       "      <td>GRID</td>\n",
       "      <td>166035.753</td>\n",
       "      <td>1019536.085</td>\n",
       "      <td>192841.019</td>\n",
       "      <td>767450.044</td>\n",
       "    </tr>\n",
       "    <tr>\n",
       "      <th>7</th>\n",
       "      <td>3</td>\n",
       "      <td>MG</td>\n",
       "      <td>0.000</td>\n",
       "      <td>1084599.042</td>\n",
       "      <td>0.000</td>\n",
       "      <td>355240.869</td>\n",
       "    </tr>\n",
       "    <tr>\n",
       "      <th>8</th>\n",
       "      <td>3</td>\n",
       "      <td>SA</td>\n",
       "      <td>0.000</td>\n",
       "      <td>778716.558</td>\n",
       "      <td>0.000</td>\n",
       "      <td>927577.320</td>\n",
       "    </tr>\n",
       "    <tr>\n",
       "      <th>9</th>\n",
       "      <td>4</td>\n",
       "      <td>GRID</td>\n",
       "      <td>770824898.321</td>\n",
       "      <td>5116734078.120</td>\n",
       "      <td>477927700.683</td>\n",
       "      <td>2374228408.590</td>\n",
       "    </tr>\n",
       "    <tr>\n",
       "      <th>10</th>\n",
       "      <td>4</td>\n",
       "      <td>MG</td>\n",
       "      <td>0.000</td>\n",
       "      <td>4938618002.560</td>\n",
       "      <td>0.000</td>\n",
       "      <td>1074634973.530</td>\n",
       "    </tr>\n",
       "    <tr>\n",
       "      <th>11</th>\n",
       "      <td>4</td>\n",
       "      <td>SA</td>\n",
       "      <td>0.000</td>\n",
       "      <td>2610647259.210</td>\n",
       "      <td>0.000</td>\n",
       "      <td>2574792805.210</td>\n",
       "    </tr>\n",
       "  </tbody>\n",
       "</table>\n",
       "</div>"
      ],
      "text/plain": [
       "   Attr  Tech       2025min        2025max       2030min        2030max\n",
       "0     1  GRID  13458707.000   26043279.085  19099579.053   34826328.864\n",
       "1     1    MG         0.000    8681982.301         0.000    2924008.864\n",
       "2     1    SA         0.000   12806850.512         0.000   24122385.326\n",
       "3     2  GRID   5215877.000   17800449.085   5640872.052   12433350.387\n",
       "4     2    MG         0.000    8681982.301         0.000    2837062.246\n",
       "5     2    SA         0.000   12806850.512         0.000   11627811.376\n",
       "6     3  GRID    166035.753    1019536.085    192841.019     767450.044\n",
       "7     3    MG         0.000    1084599.042         0.000     355240.869\n",
       "8     3    SA         0.000     778716.558         0.000     927577.320\n",
       "9     4  GRID 770824898.321 5116734078.120 477927700.683 2374228408.590\n",
       "10    4    MG         0.000 4938618002.560         0.000 1074634973.530\n",
       "11    4    SA         0.000 2610647259.210         0.000 2574792805.210"
      ]
     },
     "execution_count": 74,
     "metadata": {},
     "output_type": "execute_result"
    }
   ],
   "source": [
    "def get_vals(x):\n",
    "    return(\n",
    "        x['2025'].min(),\n",
    "        x['2030'].max(),\n",
    "        x['2025'].min(),\n",
    "        x['2030'].max()\n",
    "    )\n",
    "\n",
    "    \n",
    "#results = pd.DataFrame(sel_grouped.apply(get_vals))\n",
    "\n",
    "results = pd.DataFrame([sel_grouped['2025'].min(),\n",
    "                      sel_grouped['2025'].max(),\n",
    "                      sel_grouped['2030'].min(),\n",
    "                      sel_grouped['2030'].max(),\n",
    "                     ]).transpose()\n",
    "results.reset_index(inplace=True)\n",
    "results.columns = ['Attr','Tech','2025min','2025max','2030min','2030max']\n",
    "results"
   ]
  },
  {
   "cell_type": "markdown",
   "metadata": {},
   "source": [
    "# Summarize scenarios across countries"
   ]
  },
  {
   "cell_type": "code",
   "execution_count": null,
   "metadata": {},
   "outputs": [],
   "source": [
    "### Generate national summary table - as simple as possible\n",
    "scenario = \"1_1_1_1_1_0\"\n",
    "\n",
    "attr = '2'\n",
    "summaryData = final.loc[(final['Scenario'] == scenario) & (final['Attr'] == attr),]\n",
    "#summaryData.loc[summaryData['2025'] != summaryData['2030'],]\n",
    "\n",
    "summaryData['Attr'] = summaryData['Attribute'].apply(lambda x: x[:1])\n",
    "summaryData = summaryData.loc[summaryData['Attr'] != 'M',]\n",
    "summaryData['Tech'] = summaryData['Attribute'].apply(lambda x: get_tech(x))\n",
    "summaryData['PP'] = summaryData['Country'].apply(lambda x: get_pp(x))\n",
    "summaryData['Continent'] = summaryData['Country'].apply(lambda x: get_continent(x)) \n",
    "\n",
    "#summary_grouped = summaryData.groupby(['Country','Attr','Tech'])\n",
    "#pd.DataFrame(summary_grouped.mean()).to_csv(f\"{chart_folder}_country_breakdown_{scenario}.csv\")\n",
    "\n",
    "summary_grouped = summaryData.groupby(['Continent','Attr','Tech'])\n",
    "#pd.DataFrame(summary_grouped.mean()).to_csv(f\"{chart_folder}_PP_breakdown_{scenario}.csv\")\n",
    "summary_grouped.sum()"
   ]
  },
  {
   "cell_type": "code",
   "execution_count": null,
   "metadata": {},
   "outputs": [],
   "source": [
    "# Generate output table of Country with population (1) and investment (4) by grid and off grid\n",
    "scenario = scenario #\"0_0_0_0_0_0\"\n",
    "summaryData = final.loc[final['Scenario'] == scenario,]\n",
    "summaryData['Attr'] = summaryData['Attribute'].apply(lambda x: x[:1])\n",
    "summaryData = summaryData.loc[summaryData['Attr'] != 'M',]\n",
    "summaryData['Tech'] = summaryData['Attribute'].apply(lambda x: get_tech(x))\n",
    "summary_grouped = summaryData.groupby(['Country','Attr','Tech'])\n",
    "pd.DataFrame(summary_grouped.mean()).to_csv(f\"{chart_folder}_country_breakdown_GRID_OFFGRID.csv\")\n"
   ]
  },
  {
   "cell_type": "code",
   "execution_count": null,
   "metadata": {},
   "outputs": [],
   "source": [
    "# For a single country and scenario, generate description of scenario \n",
    "# with population (1) and investment (4) by grid, MG, off grid\n",
    "scenario = \"0_1_0_0_0_0\"\n",
    "country = 'bi-1'\n",
    "out_file = os.path.join(country_summaries_folder, f\"{country}_{scenario}\")\n",
    "\n",
    "summaryData = final.loc[(final['Scenario'] == scenario) & (final['Country'] == country),]\n",
    "summary_grouped = summaryData.groupby(['Attr','Tech'])\n",
    "grouped_vals = pd.DataFrame(summary_grouped.mean())\n",
    "\n",
    "#Print outputs to screen and or file\n",
    "grid_pop = grouped_vals.loc[(grouped_vals.index.get_level_values('Attr') == '1') & \n",
    "                            (grouped_vals.index.get_level_values('Tech') == 'GRID'),'2030'].iloc[0]\n",
    "off_grid_pop = grouped_vals.loc[(grouped_vals.index.get_level_values('Attr') == '1') & \n",
    "                            (grouped_vals.index.get_level_values('Tech') == 'SA'),'2030'].iloc[0]\n",
    "mini_grid_pop = grouped_vals.loc[(grouped_vals.index.get_level_values('Attr') == '1') & \n",
    "                            (grouped_vals.index.get_level_values('Tech') == 'MG'),'2030'].iloc[0]\n",
    "\n",
    "grid_i = grouped_vals.loc[(grouped_vals.index.get_level_values('Attr') == '4') & \n",
    "                            (grouped_vals.index.get_level_values('Tech') == 'GRID'),'2030Sum'].iloc[0]\n",
    "off_grid_i = grouped_vals.loc[(grouped_vals.index.get_level_values('Attr') == '4') & \n",
    "                            (grouped_vals.index.get_level_values('Tech') == 'SA'),'2030Sum'].iloc[0]\n",
    "mini_grid_i = grouped_vals.loc[(grouped_vals.index.get_level_values('Attr') == '4') & \n",
    "                            (grouped_vals.index.get_level_values('Tech') == 'MG'),'2030Sum'].iloc[0]\n",
    "\n",
    "scenario_description = GEP.get_assumptions(scenario)\n",
    "\n",
    "messages = []\n",
    "messages.append(f\"***Scenario {scenario}***\")\n",
    "messages.append(\"\\n\".join(scenario_description))\n",
    "messages.append(\"\\n\")\n",
    "messages.append(f'2030 Grid pop: \\t {round(grid_pop)} \\t Grid Investment {round(grid_i)}')\n",
    "messages.append(f'2030 Offgrid pop: \\t {round(off_grid_pop)} \\t Grid Investment {round(off_grid_i)}')\n",
    "messages.append(f'2030 Mini grid pop: \\t {round(mini_grid_pop)} \\t Grid Investment {round(mini_grid_i)}')\n",
    "\n",
    "if out_file != '':\n",
    "    with open(out_file, 'w') as output_file:\n",
    "        for m in messages:\n",
    "            output_file.write(m)\n",
    "            output_file.write(\"\\n\")\n",
    "\n",
    "for m in messages:\n",
    "    print(m)"
   ]
  },
  {
   "cell_type": "code",
   "execution_count": 75,
   "metadata": {},
   "outputs": [
    {
     "name": "stdout",
     "output_type": "stream",
     "text": [
      "0_0_0_0_0_0 - 0.4207840565137332\n",
      "0_0_0_0_1_0 - 0.44316012321334963\n",
      "0_0_0_0_2_0 - 0.42054937519242763\n",
      "0_0_0_1_0_0 - 0.42582272836639684\n",
      "0_0_0_1_1_0 - 0.441839906940209\n",
      "0_0_0_1_2_0 - 0.41715708868456985\n",
      "0_0_1_0_0_0 - 0.4265105280699017\n",
      "0_0_1_0_1_0 - 0.43808271590495773\n",
      "0_0_1_0_2_0 - 0.42054937519242763\n",
      "0_0_1_1_1_0 - 0.43718903650188073\n",
      "0_0_1_1_2_0 - 0.41715708868456985\n",
      "0_1_0_0_0_0 - 0.7327929260758483\n",
      "0_1_0_0_1_0 - 0.7543031626452641\n",
      "0_1_0_0_2_0 - 0.6929173329590144\n",
      "0_1_0_1_0_0 - 0.723153873821864\n",
      "0_1_0_1_1_0 - 0.7481496711617864\n",
      "0_1_0_1_2_0 - 0.6782841730065392\n",
      "0_1_1_0_0_0 - 0.5966016112218074\n",
      "0_0_1_1_0_0 - 0.42560997244187054\n",
      "0_1_1_1_2_0 - 0.5725589926555446\n",
      "1_0_0_0_1_0 - 0.4583667012251782\n",
      "1_1_0_1_0_0 - 0.7294235271084275\n",
      "1_2_0_1_2_0 - 0.6114033744397896\n",
      "0_1_1_0_1_0 - 0.6116699146007565\n",
      "0_1_1_0_2_0 - 0.5836779404449048\n",
      "0_1_1_1_0_0 - 0.5903790268317124\n",
      "0_1_1_1_1_0 - 0.607645026190623\n",
      "0_2_0_0_0_0 - 0.6481171726017038\n",
      "0_2_0_0_1_0 - 0.6766621393804345\n",
      "0_2_0_0_2_0 - 0.6077218976421738\n",
      "0_2_0_1_0_0 - 0.6407551262033768\n",
      "0_2_0_1_1_0 - 0.672542615003592\n",
      "0_2_0_1_2_0 - 0.5984858613257531\n",
      "0_2_1_0_0_0 - 0.5846165265752289\n",
      "0_2_1_0_1_0 - 0.600179676580553\n",
      "0_2_1_0_2_0 - 0.5575999498135661\n",
      "0_2_1_1_0_0 - 0.5788635045904187\n",
      "0_2_1_1_1_0 - 0.5973376426276705\n",
      "0_2_1_1_2_0 - 0.5498303025637313\n",
      "1_0_0_0_0_0 - 0.44177926698880454\n",
      "1_0_0_0_2_0 - 0.4354705855692703\n",
      "1_0_0_1_0_0 - 0.4407897104719346\n",
      "1_0_0_1_1_0 - 0.45708302754598096\n",
      "1_0_0_1_2_0 - 0.43220590887812704\n",
      "1_0_1_0_0_0 - 0.44150991077535034\n",
      "1_0_1_0_1_0 - 0.45303904665312067\n",
      "1_0_1_0_2_0 - 0.43547058556927304\n",
      "1_0_1_1_0_0 - 0.44057163674636246\n",
      "1_0_1_1_1_0 - 0.45222157592154627\n",
      "1_0_1_1_2_0 - 0.43220590887812627\n",
      "1_1_0_0_0_0 - 0.7384867323253571\n",
      "1_1_0_0_1_0 - 0.764317243697267\n",
      "1_1_0_0_2_0 - 0.7031032979222386\n",
      "1_1_0_1_1_0 - 0.7582094350698474\n",
      "1_1_0_1_2_0 - 0.6886225689687742\n",
      "1_1_1_0_0_0 - 0.6089529978971382\n",
      "1_1_1_0_1_0 - 0.6246333396512382\n",
      "1_1_1_0_2_0 - 0.5955271237322701\n",
      "1_1_1_1_0_0 - 0.602897311968306\n",
      "1_1_1_1_1_0 - 0.6207865719361547\n",
      "1_1_1_1_2_0 - 0.5846052063830974\n",
      "1_2_0_0_0_0 - 0.6599863964458499\n",
      "1_2_0_0_1_0 - 0.6873919703616416\n",
      "1_2_0_0_2_0 - 0.6207505797782553\n",
      "1_2_0_1_0_0 - 0.6525395823280314\n",
      "1_2_0_1_1_0 - 0.6833983208045638\n",
      "1_2_1_0_0_0 - 0.5959874855367622\n",
      "1_2_1_0_1_0 - 0.6107173954708983\n",
      "1_2_1_0_2_0 - 0.5695618034862716\n",
      "1_2_1_1_0_0 - 0.5903529800847868\n",
      "1_2_1_1_1_0 - 0.6077374762550951\n",
      "1_2_1_1_2_0 - 0.5621208463884008\n",
      "***\n",
      "Maximum Grid: 1_1_0_0_1_0 - 0.764317243697267\n",
      "Minimum Grid: 0_0_0_1_2_0 - 0.41715708868456985\n"
     ]
    }
   ],
   "source": [
    "# Calculate the percentage of new connections that are GRID in each scenario\n",
    "maxConnect = 0\n",
    "minConnect = 1000\n",
    "attr = '2' # Looking at number of grid connections\n",
    "for scenario in final['Scenario'].unique():\n",
    "    if scenario[-1] == '0':\n",
    "        summaryData = final.loc[final['Scenario'] == scenario,]\n",
    "        allConnect  = summaryData.loc[summaryData['Attr'] == attr,'2030Sum'].sum()\n",
    "        gridConnect = summaryData.loc[summaryData['Attribute'] == '2.New_Connections_Grid', '2030Sum'].sum()\n",
    "        gridTotal = gridConnect / allConnect\n",
    "        if gridTotal > maxConnect:\n",
    "            maxConnect = gridTotal\n",
    "            maxScenario = scenario\n",
    "        if gridTotal < minConnect:\n",
    "            minConnect = gridTotal\n",
    "            minScenario = scenario\n",
    "        print(f'{scenario} - {gridTotal}')\n",
    "print('***')\n",
    "print(f'Maximum Grid: {maxScenario} - {maxConnect}')\n",
    "print(f'Minimum Grid: {minScenario} - {minConnect}')"
   ]
  },
  {
   "cell_type": "code",
   "execution_count": null,
   "metadata": {},
   "outputs": [],
   "source": [
    "# Calculate the percentage of new connections that are SA in each scenario in 2030\n",
    "maxConnect = 0\n",
    "minConnect = 1000\n",
    "attr = '2' # Looking at number of grid connections\n",
    "for scenario in final['Scenario'].unique():\n",
    "    if scenario[-1] == '0':\n",
    "        summaryData = final.loc[final['Scenario'] == scenario,]\n",
    "        allConnect  = summaryData.loc[summaryData['Attr'] == attr,'2030'].sum()\n",
    "        SAConnect = summaryData.loc[summaryData['Attribute'] == '2.New_Connections_SA_PV', '2030'].sum()\n",
    "        SATotal = SAConnect / allConnect\n",
    "        if SATotal > maxConnect:\n",
    "            maxConnect = SATotal\n",
    "            maxScenario = scenario\n",
    "        if SATotal < minConnect:\n",
    "            minConnect = SATotal\n",
    "            minScenario = scenario\n",
    "        print(f'{scenario} - {gridTotal}')\n",
    "print('***')\n",
    "print(f'Maximum SA: {maxScenario} - {maxConnect}')\n",
    "print(f'Minimum SA: {minScenario} - {minConnect}')"
   ]
  },
  {
   "cell_type": "code",
   "execution_count": null,
   "metadata": {},
   "outputs": [],
   "source": []
  }
 ],
 "metadata": {
  "kernelspec": {
   "display_name": "Python 3",
   "language": "python",
   "name": "python3"
  },
  "language_info": {
   "codemirror_mode": {
    "name": "ipython",
    "version": 3
   },
   "file_extension": ".py",
   "mimetype": "text/x-python",
   "name": "python",
   "nbconvert_exporter": "python",
   "pygments_lexer": "ipython3",
   "version": "3.7.2"
  }
 },
 "nbformat": 4,
 "nbformat_minor": 2
}
