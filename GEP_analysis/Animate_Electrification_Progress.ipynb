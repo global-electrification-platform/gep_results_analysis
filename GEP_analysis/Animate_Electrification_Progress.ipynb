{
 "cells": [
  {
   "cell_type": "markdown",
   "metadata": {},
   "source": [
    "# Generate animated map of electrification evolution\n",
    "\n",
    "Following the animation generation example in the [Nighttime lights work here](https://github.com/worldbank/GOST_PublicGoods/blob/master/Implementations/FY21/ZON_ETH_IPNighttimeLights/ZON_ETH_NighttimeLights.ipynb)"
   ]
  },
  {
   "cell_type": "code",
   "execution_count": 1,
   "metadata": {},
   "outputs": [
    {
     "ename": "ModuleNotFoundError",
     "evalue": "No module named 'xarray'",
     "output_type": "error",
     "traceback": [
      "\u001b[0;31m---------------------------------------------------------------------------\u001b[0m",
      "\u001b[0;31mModuleNotFoundError\u001b[0m                       Traceback (most recent call last)",
      "\u001b[0;32m<ipython-input-1-dc64792d5235>\u001b[0m in \u001b[0;36m<module>\u001b[0;34m\u001b[0m\n\u001b[1;32m      5\u001b[0m \u001b[0;32mimport\u001b[0m \u001b[0mgeopandas\u001b[0m \u001b[0;32mas\u001b[0m \u001b[0mgpd\u001b[0m\u001b[0;34m\u001b[0m\u001b[0;34m\u001b[0m\u001b[0m\n\u001b[1;32m      6\u001b[0m \u001b[0;32mimport\u001b[0m \u001b[0mmatplotlib\u001b[0m\u001b[0;34m.\u001b[0m\u001b[0mpyplot\u001b[0m \u001b[0;32mas\u001b[0m \u001b[0mplt\u001b[0m\u001b[0;34m\u001b[0m\u001b[0;34m\u001b[0m\u001b[0m\n\u001b[0;32m----> 7\u001b[0;31m \u001b[0;32mimport\u001b[0m \u001b[0mxarray\u001b[0m \u001b[0;32mas\u001b[0m \u001b[0mxr\u001b[0m\u001b[0;34m\u001b[0m\u001b[0;34m\u001b[0m\u001b[0m\n\u001b[0m\u001b[1;32m      8\u001b[0m \u001b[0;32mimport\u001b[0m \u001b[0mrioxarray\u001b[0m \u001b[0;32mas\u001b[0m \u001b[0mrxr\u001b[0m\u001b[0;34m\u001b[0m\u001b[0;34m\u001b[0m\u001b[0m\n\u001b[1;32m      9\u001b[0m \u001b[0;34m\u001b[0m\u001b[0m\n",
      "\u001b[0;31mModuleNotFoundError\u001b[0m: No module named 'xarray'"
     ]
    }
   ],
   "source": [
    "import sys, os, importlib\n",
    "import rasterio, boto3, imageio\n",
    "\n",
    "import pandas as pd\n",
    "import geopandas as gpd\n",
    "import matplotlib.pyplot as plt\n",
    "import xarray as xr\n",
    "import rioxarray as rxr\n",
    "\n",
    "sys.path.append(\"../../gostrocks/src\")\n",
    "\n",
    "import GOSTRocks.rasterMisc as rMisc\n",
    "import GOSTRocks \n",
    "from GOSTRocks.misc import tPrint"
   ]
  },
  {
   "cell_type": "code",
   "execution_count": null,
   "metadata": {},
   "outputs": [],
   "source": [
    "raster_file = '/media/gost/DATA1/GEP/rasterized_yearly/zw-2-0_0_0_0_1_0_electrification_evolution_CurrentMVLineDist.tif'\n",
    "#raster_file = '/media/gost/DATA1/GEP/GEP_VRTs/combined_gep_yearly_evolution_LakeVictoria.tif'\n",
    "inR = rasterio.open(raster_file)\n",
    "inD = inR.read()"
   ]
  },
  {
   "cell_type": "code",
   "execution_count": null,
   "metadata": {},
   "outputs": [],
   "source": [
    "out_folder = \"/media/gost/DATA1/GEP/temp\"\n",
    "\n",
    "fig = plt.figure()\n",
    "ax = fig.add_subplot(111)\n",
    "ax.grid(False)\n",
    "ax.set_xticks([])\n",
    "ax.set_yticks([])\n",
    "all_imgs = []\n",
    "for idx in range(1, inD.max() + 1):\n",
    "    out_file = os.path.join(out_folder, f'viirs_{idx}.png')\n",
    "    all_imgs.append(out_file)\n",
    "    plt.imshow((inD[0,:,:] != 0) & (inD[0,:,:] <= idx), plt.get_cmap('magma'))\n",
    "    fig.savefig(out_file, dpi=96,bbox_inches='tight', pad_inches=0)"
   ]
  },
  {
   "cell_type": "code",
   "execution_count": null,
   "metadata": {},
   "outputs": [],
   "source": [
    "images = []\n",
    "kwargs = {'duration':0.3}\n",
    "for filename in all_imgs:\n",
    "    images.append(imageio.imread(filename))\n",
    "    \n",
    "imageio.mimsave(os.path.join(out_folder, \"lake_victoria_annimation.gif\"), images, **kwargs)\n",
    "    "
   ]
  },
  {
   "cell_type": "code",
   "execution_count": null,
   "metadata": {},
   "outputs": [],
   "source": []
  },
  {
   "cell_type": "code",
   "execution_count": null,
   "metadata": {},
   "outputs": [],
   "source": []
  }
 ],
 "metadata": {
  "kernelspec": {
   "display_name": "Python Geog",
   "language": "python",
   "name": "geog"
  },
  "language_info": {
   "codemirror_mode": {
    "name": "ipython",
    "version": 3
   },
   "file_extension": ".py",
   "mimetype": "text/x-python",
   "name": "python",
   "nbconvert_exporter": "python",
   "pygments_lexer": "ipython3",
   "version": "3.7.2"
  }
 },
 "nbformat": 4,
 "nbformat_minor": 2
}
