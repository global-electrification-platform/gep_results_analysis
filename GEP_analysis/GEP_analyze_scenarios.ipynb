{
 "cells": [
  {
   "cell_type": "code",
   "execution_count": null,
   "metadata": {},
   "outputs": [],
   "source": [
    "import os, sys, logging, importlib, math\n",
    "import rasterio, affine\n",
    "\n",
    "import geopandas as gpd\n",
    "import pandas as pd\n",
    "\n",
    "from zipfile import ZipFile\n",
    "from affine import Affine\n",
    "from rasterio import features\n",
    "from rasterio.mask import mask\n",
    "from rasterio.features import rasterize\n",
    "\n",
    "import GEP\n",
    "from GEP import gep_results"
   ]
  },
  {
   "cell_type": "markdown",
   "metadata": {},
   "source": [
    "# Summarize scenario results\n",
    "\n",
    "Individual scenarios are large, complicated files; this script will examine scenario results and perform some interesting summary results"
   ]
  },
  {
   "cell_type": "code",
   "execution_count": null,
   "metadata": {},
   "outputs": [],
   "source": [
    "importlib.reload(GEP)\n",
    "\n",
    "country = 'gh-1'\n",
    "clustersFolder = '/media/gost/DATA/GEP/Clusters'\n",
    "scenarios_folder = '/media/gost/DATA/GEP/Scenarios'\n",
    "\n",
    "gep = gep_results(country, \n",
    "                 clustersFolder = clustersFolder,\n",
    "                 scenariosFolder = scenarios_folder)"
   ]
  },
  {
   "cell_type": "code",
   "execution_count": null,
   "metadata": {},
   "outputs": [],
   "source": [
    "res = gep.join_results()"
   ]
  },
  {
   "cell_type": "code",
   "execution_count": null,
   "metadata": {},
   "outputs": [],
   "source": [
    "elec_fields = ['EnergyPerSettlement2030','MG_Hydro2030','MG_PV2030','MG_Wind2030','MG_Diesel2030','SA_Diesel2030','SA_PV2030','Grid2030']\n",
    "res[res['FinalElecCode2030'].isin([2,4,5,6,7])].head()"
   ]
  },
  {
   "cell_type": "code",
   "execution_count": null,
   "metadata": {},
   "outputs": [],
   "source": []
  },
  {
   "cell_type": "code",
   "execution_count": null,
   "metadata": {},
   "outputs": [],
   "source": [
    "[print(x) for x in res.columns]"
   ]
  },
  {
   "cell_type": "code",
   "execution_count": null,
   "metadata": {},
   "outputs": [],
   "source": []
  }
 ],
 "metadata": {
  "kernelspec": {
   "display_name": "Python Geog",
   "language": "python",
   "name": "geog"
  },
  "language_info": {
   "codemirror_mode": {
    "name": "ipython",
    "version": 3
   },
   "file_extension": ".py",
   "mimetype": "text/x-python",
   "name": "python",
   "nbconvert_exporter": "python",
   "pygments_lexer": "ipython3",
   "version": "3.7.2"
  }
 },
 "nbformat": 4,
 "nbformat_minor": 2
}
