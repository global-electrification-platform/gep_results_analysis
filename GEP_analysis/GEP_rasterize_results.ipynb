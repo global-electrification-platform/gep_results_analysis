{
 "cells": [
  {
   "cell_type": "code",
   "execution_count": 2,
   "metadata": {},
   "outputs": [],
   "source": [
    "import os, sys, logging, importlib, math\n",
    "import rasterio, affine\n",
    "\n",
    "import geopandas as gpd\n",
    "import pandas as pd\n",
    "\n",
    "from zipfile import ZipFile\n",
    "from affine import Affine\n",
    "from rasterio import features\n",
    "from rasterio.mask import mask\n",
    "from rasterio.features import rasterize\n",
    "\n",
    "from GEP import gep_results"
   ]
  },
  {
   "cell_type": "markdown",
   "metadata": {},
   "source": [
    "# Mapping electrification\n",
    "We need to convert certain fields in the results to a raster; these fields need to be calculated from the existing data\n",
    "\n",
    "1. Population already electrified 2030\n",
    "    a. Rasterize field **ElecPop**\n",
    "2. New population electrified by grid 2030\n",
    "    a. Filter data where **FinalElecCode2030** == 1.0\n",
    "    b. Set **NewConnections2025** = 0 where **FinalElecCode2025** == 99.0\n",
    "    c. Combine **NewConnections2030** with **NewConnections2025**\n",
    "3. New population electrified by off grid 2030\n",
    "    a. Filter data where **FinalElecCode2030** != 1.0\n",
    "    b. Set **NewConnections2025** = 0 where **FinalElecCode2025** != **FinalElecCode2030**\n",
    "    c. Combine **NewConnections2030** with **NewConnections2025**"
   ]
  },
  {
   "cell_type": "code",
   "execution_count": 3,
   "metadata": {},
   "outputs": [],
   "source": [
    "# Identify countries to process\n",
    "clustersFolder = '/media/gost/DATA1/GEP/Clusters'\n",
    "zipFiles = []\n",
    "processedCountries = []\n",
    "for root, folders, files in os.walk(clustersFolder):    \n",
    "    processedCountries.append([f for f in folders])\n",
    "    for f in files:\n",
    "        if f[-4:] == \".zip\":\n",
    "            zipFiles.append(f[:-4])\n",
    "            \n",
    "processedCountries = [item for sublist in processedCountries for item in sublist]"
   ]
  },
  {
   "cell_type": "code",
   "execution_count": 10,
   "metadata": {},
   "outputs": [
    {
     "data": {
      "text/plain": [
       "5.2194929122924805"
      ]
     },
     "execution_count": 10,
     "metadata": {},
     "output_type": "execute_result"
    }
   ],
   "source": [
    "res['Pop2030'].min()"
   ]
  },
  {
   "cell_type": "code",
   "execution_count": 11,
   "metadata": {},
   "outputs": [
    {
     "name": "stdout",
     "output_type": "stream",
     "text": [
      "(300503, 129)\n",
      "(270215, 129)\n"
     ]
    }
   ],
   "source": [
    "print(res.shape)\n",
    "res2 = res.loc[res['Pop2030'] > 10,]\n",
    "print(res2.shape)"
   ]
  },
  {
   "cell_type": "code",
   "execution_count": 13,
   "metadata": {},
   "outputs": [
    {
     "name": "stdout",
     "output_type": "stream",
     "text": [
      "Processing ao-1\n",
      "Processing bd-1\n",
      "Processing bf-1\n",
      "Processing bi-1\n",
      "Processing bj-1\n",
      "Processing bw-1\n",
      "Processing cd-1\n",
      "Processing gw-1\n",
      "Processing hn-1\n",
      "Processing ht-1\n",
      "Processing ke-1\n",
      "Processing kh-1\n",
      "Processing km-1\n",
      "Processing lr-1\n",
      "Processing ls-1\n",
      "Processing mg-1\n",
      "Processing ml-1\n",
      "Processing mm-1\n",
      "Processing mn-1\n",
      "Processing mr-1\n",
      "Processing mw-1\n",
      "Processing mz-1\n",
      "Processing na-1\n",
      "Processing ne-1\n",
      "Processing ni-1\n",
      "Processing pg-1\n",
      "Processing pk-1\n",
      "Processing rw-1\n",
      "Processing sb-1\n"
     ]
    },
    {
     "name": "stderr",
     "output_type": "stream",
     "text": [
      "/home/gost/anaconda3/envs/Geog/lib/python3.7/site-packages/pandas/core/reshape/merge.py:946: UserWarning: You are merging on int and float columns where the float values are not equal to their int representation\n",
      "  'representation', UserWarning)\n"
     ]
    },
    {
     "name": "stdout",
     "output_type": "stream",
     "text": [
      "Processing sd-1\n",
      "Processing sl-1\n",
      "Processing sn-1\n",
      "Processing cg-1\n",
      "Processing ci-1\n",
      "Processing cm-1\n",
      "Processing dj-1\n",
      "Processing er-1\n",
      "Processing et-1\n",
      "Processing fm-1\n",
      "Processing gh-1\n",
      "Processing gm-1\n",
      "Processing gn-1\n",
      "Processing cf-1\n",
      "Processing ga-1\n",
      "Processing gq-1\n",
      "Processing ng-1\n",
      "Processing so-1\n",
      "Processing ss-1\n",
      "Processing st-1\n",
      "Processing sz-1\n",
      "Processing td-1\n",
      "Processing tg-1\n",
      "Processing tl-1\n",
      "Processing tz-1\n",
      "Processing ug-1\n",
      "Processing vu-1\n",
      "Processing za-1\n"
     ]
    },
    {
     "name": "stderr",
     "output_type": "stream",
     "text": [
      "/home/gost/anaconda3/envs/Geog/lib/python3.7/site-packages/IPython/core/interactiveshell.py:3214: DtypeWarning: Columns (23) have mixed types. Specify dtype option on import or set low_memory=False.\n",
      "  if (yield from self.run_code(code, result)):\n"
     ]
    },
    {
     "name": "stdout",
     "output_type": "stream",
     "text": [
      "Processing zm-1\n",
      "Processing zw-1\n"
     ]
    }
   ],
   "source": [
    "import GEP\n",
    "importlib.reload(GEP)\n",
    "from GEP import gep_results\n",
    "\n",
    "resolution = 0.01\n",
    "scenario = \"0_1_0_0_0_0\"\n",
    "elecRate = 0.9\n",
    "\n",
    "for country in processedCountries:\n",
    "    print(f\"Processing {country}\")\n",
    "    #try:\n",
    "    xx_so = gep_results(country, \n",
    "                scenariosFolder='/media/gost/DATA1/GEP/Scenario_0_1_0_0_0_0',\n",
    "                clustersFolder = '/media/gost/DATA1/GEP/Clusters',\n",
    "                scenario=scenario)\n",
    "    outFile = os.path.join(xx_so.countryClustersFolder, \"rasterized_gep_%s_%s_gt10.tif\" % (resolution, scenario))\n",
    "    res = xx_so.join_results()\n",
    "    res = res.loc[res['Pop2030'] > 10,]\n",
    "    res['already_electrified'] = (res['ElecPop'] / res['Pop']) > elecRate\n",
    "    res.loc[res['already_electrified'] == 1, 'FinalElecCode2030'] = 99\n",
    "    xx_so.rasterize_results(res, outFile, res=resolution)\n",
    "    #except:\n",
    "    #    print(f'error processing {country}')"
   ]
  },
  {
   "cell_type": "code",
   "execution_count": null,
   "metadata": {},
   "outputs": [],
   "source": [
    "# Convert 0 in data to no data\n",
    "allImages = []\n",
    "for root, folders, files in os.walk(clustersFolder):\n",
    "    for f in files:\n",
    "        if \"%s_%s.tif\" % (resolution, scenario) in f:\n",
    "            allImages.append(os.path.join(root, f))\n",
    "\n",
    "for inFile in allImages:\n",
    "    outFile = inFile.replace(\".tif\", \"_noData.tif\")\n",
    "    print(f'gdal_translate -of GTiff -a_nodata 0 {inFile} {outFile}')"
   ]
  },
  {
   "cell_type": "code",
   "execution_count": null,
   "metadata": {},
   "outputs": [],
   "source": [
    "print(f'find /media/gost/DATA/GEP/Clusters -name \"*{resolution}_{scenario}_noData.tif\" > tifFiles.txt')\n",
    "print(f\"gdalbuildvrt combined_gep_rasterized_{resolution}_{scenario}.vrt -input_file_list tifFiles.txt\")"
   ]
  },
  {
   "cell_type": "code",
   "execution_count": null,
   "metadata": {},
   "outputs": [],
   "source": []
  }
 ],
 "metadata": {
  "kernelspec": {
   "display_name": "Python Geog",
   "language": "python",
   "name": "geog"
  },
  "language_info": {
   "codemirror_mode": {
    "name": "ipython",
    "version": 3
   },
   "file_extension": ".py",
   "mimetype": "text/x-python",
   "name": "python",
   "nbconvert_exporter": "python",
   "pygments_lexer": "ipython3",
   "version": "3.7.2"
  }
 },
 "nbformat": 4,
 "nbformat_minor": 2
}
