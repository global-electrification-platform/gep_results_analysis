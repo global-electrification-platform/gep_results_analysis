{
 "cells": [
  {
   "cell_type": "code",
   "execution_count": 1,
   "metadata": {},
   "outputs": [],
   "source": [
    "import os, sys, logging, importlib, math, time, subprocess\n",
    "import rasterio, affine\n",
    "\n",
    "import geopandas as gpd\n",
    "import pandas as pd\n",
    "\n",
    "from zipfile import ZipFile\n",
    "from affine import Affine\n",
    "from rasterio import features\n",
    "from rasterio.mask import mask\n",
    "from rasterio.features import rasterize\n",
    "\n",
    "import GEP\n",
    "\n",
    "'''prints the time along with the message'''\n",
    "def tPrint(s):\n",
    "    print(\"%s\\t%s\" % (time.strftime(\"%H:%M:%S\"), s))"
   ]
  },
  {
   "cell_type": "markdown",
   "metadata": {},
   "source": [
    "# Mapping electrification\n",
    "Code to download results from S3\n",
    "\n",
    "We need to convert certain fields in the results to a raster; these fields need to be calculated \n",
    "\n",
    "1. Population already electrified 2030  \n",
    "    a. Rasterize field **ElecPop**\n",
    "2. New population electrified by grid 2030  \n",
    "    a. Filter data where **FinalElecCode2030** == 1.0  \n",
    "    b. Set **NewConnections2025** = 0 where **FinalElecCode2025** == 99.0  \n",
    "    c. Combine **NewConnections2030** with **NewConnections2025**  \n",
    "3. New population electrified by off grid 2030  \n",
    "    a. Filter data where **FinalElecCode2030** != 1.0  \n",
    "    b. Set **NewConnections2025** = 0 where **FinalElecCode2025** != **FinalElecCode2030**  \n",
    "    c. Combine **NewConnections2030** with **NewConnections2025**  "
   ]
  },
  {
   "cell_type": "code",
   "execution_count": 2,
   "metadata": {},
   "outputs": [
    {
     "data": {
      "text/plain": [
       "'all_rasters = []\\nfor root, dirs, files in os.walk(\\'/media/gost/DATA1/GEP/Clusters\\'):\\n    for f in files:\\n        if \"rasterized_gep\" in f:\\n            all_rasters.append(os.path.join(root, f))\\nfor f in all_rasters:\\n    os.remove(f)'"
      ]
     },
     "execution_count": 2,
     "metadata": {},
     "output_type": "execute_result"
    }
   ],
   "source": [
    "# delete all existing rasterized results\n",
    "'''all_rasters = []\n",
    "for root, dirs, files in os.walk('/media/gost/DATA1/GEP/Clusters'):\n",
    "    for f in files:\n",
    "        if \"rasterized_gep\" in f:\n",
    "            all_rasters.append(os.path.join(root, f))\n",
    "for f in all_rasters:\n",
    "    os.remove(f)'''"
   ]
  },
  {
   "cell_type": "code",
   "execution_count": 3,
   "metadata": {},
   "outputs": [],
   "source": [
    "resolution = 0.01 #Resolution of output raster in degrees\n",
    "elecRate = 0.90   #settlement electrification rate to be considered electrified\n",
    "year = 2030       #year of analysis \n",
    "cluster_folder = '/media/gost/DATA1/GEP/Clusters'\n",
    "scenario_base = '/media/gost/DATA1/GEP/Scenarios'\n",
    "raster_folder = '/media/gost/DATA1/GEP/rasterized_countries'\n",
    "vrt_folder = '/media/gost/DATA1/GEP/GEP_VRTs'\n"
   ]
  },
  {
   "cell_type": "code",
   "execution_count": 4,
   "metadata": {
    "scrolled": true
   },
   "outputs": [
    {
     "data": {
      "text/plain": [
       "['gh-2-0_0_0_0_1_0',\n",
       " 'mw-2-0_0_0_0_1_0',\n",
       " 'ao-2-0_0_0_0_1_0',\n",
       " 'bd-2-0_0_0_0_1_0',\n",
       " 'bf-2-0_0_0_0_1_0',\n",
       " 'bi-2-0_0_0_0_1_0',\n",
       " 'bj-2-0_0_0_0_1_0',\n",
       " 'bw-2-0_0_0_0_1_0',\n",
       " 'cd-2-0_0_0_0_1_0',\n",
       " 'cf-2-0_0_0_0_1_0',\n",
       " 'cg-2-0_0_0_0_1_0',\n",
       " 'ci-2-0_0_0_0_1_0',\n",
       " 'cm-2-0_0_0_0_1_0',\n",
       " 'dj-2-0_0_0_0_1_0',\n",
       " 'er-2-0_0_0_0_1_0',\n",
       " 'et-2-0_0_0_0_1_0',\n",
       " 'fm-2-0_0_0_0_1_0',\n",
       " 'ga-2-0_0_0_0_1_0',\n",
       " 'gm-2-0_0_0_0_1_0',\n",
       " 'gn-2-0_0_0_0_1_0',\n",
       " 'gq-2-0_0_0_0_1_0',\n",
       " 'gw-2-0_0_0_0_1_0',\n",
       " 'hn-2-0_0_0_0_1_0',\n",
       " 'ht-2-0_0_0_0_1_0',\n",
       " 'ke-2-0_0_0_0_1_0',\n",
       " 'kh-2-0_0_0_0_1_0',\n",
       " 'km-2-0_0_0_0_1_0',\n",
       " 'lr-2-0_0_0_0_1_0',\n",
       " 'ls-2-0_0_0_0_1_0',\n",
       " 'mg-2-0_0_0_0_1_0',\n",
       " 'ml-2-0_0_0_0_1_0',\n",
       " 'mm-2-0_0_0_0_1_0',\n",
       " 'mr-2-0_0_0_0_1_0',\n",
       " 'mz-2-0_0_0_0_1_0',\n",
       " 'na-2-0_0_0_0_1_0',\n",
       " 'ne-2-0_0_0_0_1_0',\n",
       " 'ng-2-0_0_0_0_1_0',\n",
       " 'ni-2-0_0_0_0_1_0',\n",
       " 'pg-2-0_0_0_0_1_0',\n",
       " 'pk-2-0_0_0_0_1_0',\n",
       " 'rw-2-0_0_0_0_1_0',\n",
       " 'sb-2-0_0_0_0_1_0',\n",
       " 'sd-2-0_0_0_0_1_0',\n",
       " 'sl-2-0_0_0_0_1_0',\n",
       " 'sn-2-0_0_0_0_1_0',\n",
       " 'so-2-0_0_0_0_1_0',\n",
       " 'ss-2-0_0_0_0_1_0',\n",
       " 'st-2-0_0_0_0_1_0',\n",
       " 'sz-2-0_0_0_0_1_0',\n",
       " 'td-2-0_0_0_0_1_0',\n",
       " 'tg-2-0_0_0_0_1_0',\n",
       " 'tl-2-0_0_0_0_1_0',\n",
       " 'tz-2-0_0_0_0_1_0',\n",
       " 'ug-2-0_0_0_0_1_0',\n",
       " 'vu-2-0_0_0_0_1_0',\n",
       " 'za-2-0_0_0_0_1_0',\n",
       " 'zm-2-0_0_0_0_1_0',\n",
       " 'zw-2-0_0_0_0_1_0']"
      ]
     },
     "execution_count": 4,
     "metadata": {},
     "output_type": "execute_result"
    }
   ],
   "source": [
    "importlib.reload(GEP)\n",
    "scenario = \"0_0_0_0_1_0\"\n",
    "scenario_folder = os.path.join(scenario_base, f'{scenario}')\n",
    "# Identify countries to process\n",
    "zipFiles = []\n",
    "processedCountries = []\n",
    "for root, folders, files in os.walk(scenario_folder):    \n",
    "    processedCountries.append([f for f in folders])\n",
    "    for f in files:\n",
    "        if f[-4:] == \".csv\":\n",
    "            zipFiles.append(f[:-4])\n",
    "processedCountries = [item[:4] for item in zipFiles]\n",
    "zipFiles #list of country/scenarios to process"
   ]
  },
  {
   "cell_type": "code",
   "execution_count": 5,
   "metadata": {
    "scrolled": true
   },
   "outputs": [
    {
     "name": "stdout",
     "output_type": "stream",
     "text": [
      "10:11:36\tgh-2 already rasterized\n",
      "10:11:36\tmw-2 already rasterized\n",
      "10:11:36\tao-2 already rasterized\n",
      "10:11:36\tbd-2 already rasterized\n",
      "10:11:36\tbf-2 already rasterized\n",
      "10:11:36\tbi-2 already rasterized\n",
      "10:11:36\tbj-2 already rasterized\n",
      "10:11:36\tbw-2 already rasterized\n",
      "10:11:36\tcd-2 already rasterized\n",
      "10:11:36\tcf-2 already rasterized\n",
      "10:11:36\tcg-2 already rasterized\n",
      "10:11:36\tci-2 already rasterized\n",
      "10:11:36\tcm-2 already rasterized\n",
      "10:11:36\tdj-2 already rasterized\n",
      "10:11:36\ter-2 already rasterized\n",
      "10:11:36\tet-2 already rasterized\n",
      "10:11:36\tfm-2 already rasterized\n",
      "10:11:36\tga-2 already rasterized\n",
      "10:11:36\tgm-2 already rasterized\n",
      "10:11:36\tgn-2 already rasterized\n",
      "10:11:36\tgq-2 already rasterized\n",
      "10:11:36\tgw-2 already rasterized\n",
      "10:11:36\thn-2 already rasterized\n",
      "10:11:36\tht-2 already rasterized\n",
      "10:11:36\tke-2 already rasterized\n",
      "10:11:36\tkh-2 already rasterized\n",
      "10:11:36\tkm-2 already rasterized\n",
      "10:11:36\tlr-2 already rasterized\n",
      "10:11:36\tls-2 already rasterized\n",
      "10:11:36\tmg-2 already rasterized\n",
      "10:11:36\tml-2 already rasterized\n",
      "10:11:36\tmm-2 already rasterized\n",
      "10:11:36\tmr-2 already rasterized\n",
      "10:11:36\tmz-2 already rasterized\n",
      "10:11:36\tna-2 already rasterized\n",
      "10:11:36\tne-2 already rasterized\n",
      "10:11:36\tng-2 already rasterized\n",
      "10:11:36\tni-2 already rasterized\n",
      "10:11:36\tpg-2 already rasterized\n",
      "10:11:36\tpk-2 already rasterized\n",
      "10:11:36\trw-2 already rasterized\n",
      "10:11:36\tsb-2 already rasterized\n",
      "10:11:36\tsd-2 already rasterized\n",
      "10:11:36\tsl-2 already rasterized\n",
      "10:11:36\tsn-2 already rasterized\n",
      "10:11:36\tso-2 already rasterized\n",
      "10:11:36\tss-2 already rasterized\n",
      "10:11:36\tst-2 already rasterized\n",
      "10:11:36\tsz-2 already rasterized\n",
      "10:11:36\ttd-2 already rasterized\n",
      "10:11:36\ttg-2 already rasterized\n",
      "10:11:36\ttl-2 already rasterized\n",
      "10:11:36\ttz-2 already rasterized\n",
      "10:11:36\tug-2 already rasterized\n",
      "10:11:36\tvu-2 already rasterized\n",
      "10:11:36\tza-2 already rasterized\n",
      "10:11:36\tzm-2 already rasterized\n",
      "10:11:36\tzw-2 already rasterized\n"
     ]
    }
   ],
   "source": [
    "importlib.reload(GEP)\n",
    "# Loop through all countries and rasterize\n",
    "minPop = 100\n",
    "for country in processedCountries:\n",
    "    xx_so = GEP.gep_results(country[:4], \n",
    "                scenariosFolder=scenario_base,\n",
    "                clustersFolder = cluster_folder,\n",
    "                scenario=scenario)\n",
    "    outFile = os.path.join(raster_folder, f\"{country[:2]}_rasterized_gep_{resolution}_{scenario}_{year}_gt{minPop}.tif\")    \n",
    "    if not os.path.exists(outFile):\n",
    "        tPrint(f\"Processing {country}\")    \n",
    "        res = xx_so.join_results()\n",
    "        res = res.loc[res['Pop2030'] > minPop,]\n",
    "        # Identify already electrified settlements and set value to 98\n",
    "        res['already_electrified'] = (res['ElecPopCalib'] / res['Pop2020']) > elecRate\n",
    "        res.loc[res['already_electrified'] == 1, 'FinalElecCode%s' % year] = 98\n",
    "        xx_so.rasterize_results(res, outFile, res=resolution, field='FinalElecCode%s' % year)\n",
    "    else:\n",
    "        tPrint(f\"{country} already rasterized\")    "
   ]
  },
  {
   "cell_type": "code",
   "execution_count": 18,
   "metadata": {},
   "outputs": [],
   "source": [
    "### Run a series of GDAL commands to create No Data rasters and stack them\n",
    "command_file = os.path.join(vrt_folder, f'create_vrt_{resolution}_{scenario}_{year}.sh')\n",
    "with open(command_file, 'w') as vrt_file:\n",
    "    vrt_file.write('#!/bin/sh \\n')\n",
    "    # Convert 0 in data to no data\n",
    "    outFolder = raster_folder\n",
    "    allImages = []\n",
    "    for root, folders, files in os.walk(outFolder):\n",
    "        for f in files:\n",
    "            if \"%s_%s_%s_gt%s.tif\" % (resolution, scenario, year, minPop) in f and f.endswith(\".tif\"):\n",
    "                allImages.append(os.path.join(root, f))\n",
    "\n",
    "    for inFile in allImages:\n",
    "        outFile = inFile.replace(\".tif\", \".tif\")\n",
    "        vrt_file.write(f'gdal_translate -of GTiff -a_nodata 0 {inFile} {outFile}')\n",
    "        vrt_file.write(\"\\n\")\n",
    "    vrt_file.write(f'find {raster_folder} -name \"*{resolution}_{scenario}_{year}_gt{minPop}_noData.tif\" > tifFiles.txt')\n",
    "    vrt_file.write(\"\\n\")\n",
    "    vrt_file.write(f\"gdalbuildvrt -input_file_list tifFiles.txt {vrt_folder}/combined_gep_rasterized_{resolution}_{scenario}_{year}.vrt\")\n",
    "    vrt_file.write(\"\\n\")\n",
    "subprocess.call(command_file)"
   ]
  },
  {
   "cell_type": "markdown",
   "metadata": {},
   "source": [
    "# DEbugging"
   ]
  },
  {
   "cell_type": "code",
   "execution_count": null,
   "metadata": {},
   "outputs": [],
   "source": []
  }
 ],
 "metadata": {
  "kernelspec": {
   "display_name": "Python Geog",
   "language": "python",
   "name": "geog"
  },
  "language_info": {
   "codemirror_mode": {
    "name": "ipython",
    "version": 3
   },
   "file_extension": ".py",
   "mimetype": "text/x-python",
   "name": "python",
   "nbconvert_exporter": "python",
   "pygments_lexer": "ipython3",
   "version": "3.7.2"
  }
 },
 "nbformat": 4,
 "nbformat_minor": 2
}
