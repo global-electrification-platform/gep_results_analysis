{
 "cells": [
  {
   "cell_type": "code",
   "execution_count": 2,
   "metadata": {},
   "outputs": [],
   "source": [
    "import os, sys, logging, importlib, math, time, subprocess\n",
    "import rasterio, affine\n",
    "\n",
    "import geopandas as gpd\n",
    "import pandas as pd\n",
    "\n",
    "from zipfile import ZipFile\n",
    "from affine import Affine\n",
    "from rasterio import features\n",
    "from rasterio.mask import mask\n",
    "from rasterio.features import rasterize\n",
    "\n",
    "import GEP\n",
    "\n",
    "'''prints the time along with the message'''\n",
    "def tPrint(s):\n",
    "    print(\"%s\\t%s\" % (time.strftime(\"%H:%M:%S\"), s))"
   ]
  },
  {
   "cell_type": "markdown",
   "metadata": {},
   "source": [
    "# Mapping electrification\n",
    "Code to download results from S3\n",
    "\n",
    "We need to convert certain fields in the results to a raster; these fields need to be calculated \n",
    "\n",
    "1. Population already electrified 2030  \n",
    "    a. Rasterize field **ElecPop**\n",
    "2. New population electrified by grid 2030  \n",
    "    a. Filter data where **FinalElecCode2030** == 1.0  \n",
    "    b. Set **NewConnections2025** = 0 where **FinalElecCode2025** == 99.0  \n",
    "    c. Combine **NewConnections2030** with **NewConnections2025**  \n",
    "3. New population electrified by off grid 2030  \n",
    "    a. Filter data where **FinalElecCode2030** != 1.0  \n",
    "    b. Set **NewConnections2025** = 0 where **FinalElecCode2025** != **FinalElecCode2030**  \n",
    "    c. Combine **NewConnections2030** with **NewConnections2025**  "
   ]
  },
  {
   "cell_type": "code",
   "execution_count": 3,
   "metadata": {},
   "outputs": [
    {
     "data": {
      "text/plain": [
       "'all_rasters = []\\nfor root, dirs, files in os.walk(\\'/media/gost/DATA1/GEP/Clusters\\'):\\n    for f in files:\\n        if \"rasterized_gep\" in f:\\n            all_rasters.append(os.path.join(root, f))\\nfor f in all_rasters:\\n    os.remove(f)'"
      ]
     },
     "execution_count": 3,
     "metadata": {},
     "output_type": "execute_result"
    }
   ],
   "source": [
    "# delete all existing rasterized results\n",
    "'''all_rasters = []\n",
    "for root, dirs, files in os.walk('/media/gost/DATA1/GEP/Clusters'):\n",
    "    for f in files:\n",
    "        if \"rasterized_gep\" in f:\n",
    "            all_rasters.append(os.path.join(root, f))\n",
    "for f in all_rasters:\n",
    "    os.remove(f)'''"
   ]
  },
  {
   "cell_type": "code",
   "execution_count": 4,
   "metadata": {},
   "outputs": [],
   "source": [
    "resolution = 0.01 #Resolution of output raster in degrees\n",
    "elecRate = 0.90   #settlement electrification rate to be considered electrified\n",
    "year = 2030       #year of analysis \n",
    "cluster_folder = '/media/gost/DATA1/GEP/Clusters'\n",
    "scenario_base = '/media/gost/DATA1/GEP/Scenarios'\n",
    "raster_folder = '/media/gost/DATA1/GEP/rasterized_countries'\n",
    "vrt_folder = '/media/gost/DATA1/GEP/GEP_VRTs'\n"
   ]
  },
  {
   "cell_type": "code",
   "execution_count": 5,
   "metadata": {
    "scrolled": true
   },
   "outputs": [
    {
     "data": {
      "text/plain": [
       "['gh-2-0_0_0_0_1_0',\n",
       " 'mw-2-0_0_0_0_1_0',\n",
       " 'ao-2-0_0_0_0_1_0',\n",
       " 'bd-2-0_0_0_0_1_0',\n",
       " 'bf-2-0_0_0_0_1_0',\n",
       " 'bi-2-0_0_0_0_1_0',\n",
       " 'bj-2-0_0_0_0_1_0',\n",
       " 'bw-2-0_0_0_0_1_0',\n",
       " 'cd-2-0_0_0_0_1_0',\n",
       " 'cf-2-0_0_0_0_1_0',\n",
       " 'cg-2-0_0_0_0_1_0',\n",
       " 'ci-2-0_0_0_0_1_0',\n",
       " 'cm-2-0_0_0_0_1_0',\n",
       " 'dj-2-0_0_0_0_1_0',\n",
       " 'er-2-0_0_0_0_1_0',\n",
       " 'et-2-0_0_0_0_1_0',\n",
       " 'fm-2-0_0_0_0_1_0',\n",
       " 'ga-2-0_0_0_0_1_0',\n",
       " 'gm-2-0_0_0_0_1_0',\n",
       " 'gn-2-0_0_0_0_1_0',\n",
       " 'gq-2-0_0_0_0_1_0',\n",
       " 'gw-2-0_0_0_0_1_0',\n",
       " 'hn-2-0_0_0_0_1_0',\n",
       " 'ht-2-0_0_0_0_1_0',\n",
       " 'ke-2-0_0_0_0_1_0',\n",
       " 'kh-2-0_0_0_0_1_0',\n",
       " 'km-2-0_0_0_0_1_0',\n",
       " 'lr-2-0_0_0_0_1_0',\n",
       " 'ls-2-0_0_0_0_1_0',\n",
       " 'mg-2-0_0_0_0_1_0',\n",
       " 'ml-2-0_0_0_0_1_0',\n",
       " 'mm-2-0_0_0_0_1_0',\n",
       " 'mr-2-0_0_0_0_1_0',\n",
       " 'mz-2-0_0_0_0_1_0',\n",
       " 'na-2-0_0_0_0_1_0',\n",
       " 'ne-2-0_0_0_0_1_0',\n",
       " 'ng-2-0_0_0_0_1_0',\n",
       " 'ni-2-0_0_0_0_1_0',\n",
       " 'pg-2-0_0_0_0_1_0',\n",
       " 'pk-2-0_0_0_0_1_0',\n",
       " 'rw-2-0_0_0_0_1_0',\n",
       " 'sb-2-0_0_0_0_1_0',\n",
       " 'sd-2-0_0_0_0_1_0',\n",
       " 'sl-2-0_0_0_0_1_0',\n",
       " 'sn-2-0_0_0_0_1_0',\n",
       " 'so-2-0_0_0_0_1_0',\n",
       " 'ss-2-0_0_0_0_1_0',\n",
       " 'st-2-0_0_0_0_1_0',\n",
       " 'sz-2-0_0_0_0_1_0',\n",
       " 'td-2-0_0_0_0_1_0',\n",
       " 'tg-2-0_0_0_0_1_0',\n",
       " 'tl-2-0_0_0_0_1_0',\n",
       " 'tz-2-0_0_0_0_1_0',\n",
       " 'ug-2-0_0_0_0_1_0',\n",
       " 'vu-2-0_0_0_0_1_0',\n",
       " 'za-2-0_0_0_0_1_0',\n",
       " 'zm-2-0_0_0_0_1_0',\n",
       " 'zw-2-0_0_0_0_1_0']"
      ]
     },
     "execution_count": 5,
     "metadata": {},
     "output_type": "execute_result"
    }
   ],
   "source": [
    "importlib.reload(GEP)\n",
    "scenario = \"0_0_0_0_1_0\"\n",
    "scenario_folder = os.path.join(scenario_base, f'{scenario}')\n",
    "# Identify countries to process\n",
    "zipFiles = []\n",
    "processedCountries = []\n",
    "for root, folders, files in os.walk(scenario_folder):    \n",
    "    processedCountries.append([f for f in folders])\n",
    "    for f in files:\n",
    "        if f[-4:] == \".csv\":\n",
    "            zipFiles.append(f[:-4])\n",
    "processedCountries = [item[:4] for item in zipFiles]\n",
    "zipFiles #list of country/scenarios to process"
   ]
  },
  {
   "cell_type": "code",
   "execution_count": 4,
   "metadata": {
    "scrolled": true
   },
   "outputs": [],
   "source": [
    "importlib.reload(GEP)\n",
    "# Loop through all countries and rasterize\n",
    "minPop = 100\n",
    "for country in processedCountries:\n",
    "    xx_so = GEP.gep_results(country[:4], \n",
    "                scenariosFolder=scenario_base,\n",
    "                clustersFolder = cluster_folder,\n",
    "                scenario=scenario)\n",
    "    break\n",
    "    outFile = os.path.join(raster_folder, f\"{country[:2]}_rasterized_gep_{resolution}_{scenario}_{year}_gt{minPop}.tif\")    \n",
    "    if not os.path.exists(outFile):\n",
    "        tPrint(f\"Processing {country}\")    \n",
    "        res = xx_so.join_results()\n",
    "        res = res.loc[res['Pop2030'] > minPop,]\n",
    "        # Identify already electrified settlements and set value to 98\n",
    "        res['already_electrified'] = (res['ElecPopCalib'] / res['Pop2020']) > elecRate\n",
    "        res.loc[res['already_electrified'] == 1, 'FinalElecCode%s' % year] = 98\n",
    "        xx_so.rasterize_results(res, outFile, res=resolution, field='FinalElecCode%s' % year)\n",
    "    else:\n",
    "        tPrint(f\"{country} already rasterized\")    "
   ]
  },
  {
   "cell_type": "code",
   "execution_count": null,
   "metadata": {},
   "outputs": [],
   "source": [
    "### Run a series of GDAL commands to create No Data rasters and stack them\n",
    "command_file = os.path.join(vrt_folder, f'create_vrt_{resolution}_{scenario}_{year}.sh')\n",
    "with open(command_file, 'w') as vrt_file:\n",
    "    vrt_file.write('#!/bin/sh \\n')\n",
    "    # Convert 0 in data to no data\n",
    "    outFolder = raster_folder\n",
    "    allImages = []\n",
    "    for root, folders, files in os.walk(outFolder):\n",
    "        for f in files:\n",
    "            if \"%s_%s_%s_gt%s.tif\" % (resolution, scenario, year, minPop) in f and f.endswith(\".tif\"):\n",
    "                allImages.append(os.path.join(root, f))\n",
    "\n",
    "    for inFile in allImages:\n",
    "        outFile = inFile.replace(\".tif\", \".tif\")\n",
    "        vrt_file.write(f'gdal_translate -of GTiff -a_nodata 0 {inFile} {outFile}')\n",
    "        vrt_file.write(\"\\n\")\n",
    "    vrt_file.write(f'find {raster_folder} -name \"*{resolution}_{scenario}_{year}_gt{minPop}_noData.tif\" > tifFiles.txt')\n",
    "    vrt_file.write(\"\\n\")\n",
    "    vrt_file.write(f\"gdalbuildvrt -input_file_list tifFiles.txt {vrt_folder}/combined_gep_rasterized_{resolution}_{scenario}_{year}.vrt\")\n",
    "    vrt_file.write(\"\\n\")\n",
    "subprocess.call(command_file)"
   ]
  },
  {
   "cell_type": "markdown",
   "metadata": {},
   "source": [
    "# Mapping annual electrification breakdown\n",
    "The GEP results contain information describing the electrification status in 2020, 2025, and 2030 (ElecStart,ElecStatusIn2025, ElecStatusIn2030). Based on these we can separate the dataset into three groups:\n",
    "\n",
    "1. Electrified\n",
    "2. Electrified first - electrified between 2020 and 2025\n",
    "3. Electrified second - electrified between 2025 and 2030\n",
    "\n",
    "For the second and third groups, we can approximate the year they were electrified in that range based on other variables. In the example below, we use the distance to MV lines, under the assumption that places closer to MV lines will be electrified first.\n",
    "\n",
    "The code works by take the two groups separately, sorting them according the the predictive variable, and then assigning the year of electrification sequentially."
   ]
  },
  {
   "cell_type": "code",
   "execution_count": 6,
   "metadata": {},
   "outputs": [
    {
     "data": {
      "text/plain": [
       "[2, 2, 3, 3, 4, 4, 5, 5, 6, 6]"
      ]
     },
     "execution_count": 6,
     "metadata": {},
     "output_type": "execute_result"
    }
   ],
   "source": [
    "def get_years(shp, start_year, end_year):\n",
    "    '''    \n",
    "        Get a list of numbers between start_year and end_year of length shp    \n",
    "    '''\n",
    "    n_years = round(shp/(end_year - start_year + 1))\n",
    "    yr = [x for x in range(start_year, end_year + 1) for _ in range(n_years)]\n",
    "    if len(yr) > shp:\n",
    "        return(yr[:shp])\n",
    "    while len(yr) < shp:\n",
    "        yr.append(end_year)        \n",
    "    return(yr)\n",
    "\n",
    "get_years(10, 2, 6)"
   ]
  },
  {
   "cell_type": "code",
   "execution_count": 7,
   "metadata": {
    "scrolled": true
   },
   "outputs": [
    {
     "data": {
      "text/plain": [
       "['gh-2-0_0_0_0_1_0',\n",
       " 'mw-2-0_0_0_0_1_0',\n",
       " 'ao-2-0_0_0_0_1_0',\n",
       " 'bd-2-0_0_0_0_1_0',\n",
       " 'bf-2-0_0_0_0_1_0',\n",
       " 'bi-2-0_0_0_0_1_0',\n",
       " 'bj-2-0_0_0_0_1_0',\n",
       " 'bw-2-0_0_0_0_1_0',\n",
       " 'cd-2-0_0_0_0_1_0',\n",
       " 'cf-2-0_0_0_0_1_0',\n",
       " 'cg-2-0_0_0_0_1_0',\n",
       " 'ci-2-0_0_0_0_1_0',\n",
       " 'cm-2-0_0_0_0_1_0',\n",
       " 'dj-2-0_0_0_0_1_0',\n",
       " 'er-2-0_0_0_0_1_0',\n",
       " 'et-2-0_0_0_0_1_0',\n",
       " 'fm-2-0_0_0_0_1_0',\n",
       " 'ga-2-0_0_0_0_1_0',\n",
       " 'gm-2-0_0_0_0_1_0',\n",
       " 'gn-2-0_0_0_0_1_0',\n",
       " 'gq-2-0_0_0_0_1_0',\n",
       " 'gw-2-0_0_0_0_1_0',\n",
       " 'hn-2-0_0_0_0_1_0',\n",
       " 'ht-2-0_0_0_0_1_0',\n",
       " 'ke-2-0_0_0_0_1_0',\n",
       " 'kh-2-0_0_0_0_1_0',\n",
       " 'km-2-0_0_0_0_1_0',\n",
       " 'lr-2-0_0_0_0_1_0',\n",
       " 'ls-2-0_0_0_0_1_0',\n",
       " 'mg-2-0_0_0_0_1_0',\n",
       " 'ml-2-0_0_0_0_1_0',\n",
       " 'mm-2-0_0_0_0_1_0',\n",
       " 'mr-2-0_0_0_0_1_0',\n",
       " 'mz-2-0_0_0_0_1_0',\n",
       " 'na-2-0_0_0_0_1_0',\n",
       " 'ne-2-0_0_0_0_1_0',\n",
       " 'ng-2-0_0_0_0_1_0',\n",
       " 'ni-2-0_0_0_0_1_0',\n",
       " 'pg-2-0_0_0_0_1_0',\n",
       " 'pk-2-0_0_0_0_1_0',\n",
       " 'rw-2-0_0_0_0_1_0',\n",
       " 'sb-2-0_0_0_0_1_0',\n",
       " 'sd-2-0_0_0_0_1_0',\n",
       " 'sl-2-0_0_0_0_1_0',\n",
       " 'sn-2-0_0_0_0_1_0',\n",
       " 'so-2-0_0_0_0_1_0',\n",
       " 'ss-2-0_0_0_0_1_0',\n",
       " 'st-2-0_0_0_0_1_0',\n",
       " 'sz-2-0_0_0_0_1_0',\n",
       " 'td-2-0_0_0_0_1_0',\n",
       " 'tg-2-0_0_0_0_1_0',\n",
       " 'tl-2-0_0_0_0_1_0',\n",
       " 'tz-2-0_0_0_0_1_0',\n",
       " 'ug-2-0_0_0_0_1_0',\n",
       " 'vu-2-0_0_0_0_1_0',\n",
       " 'za-2-0_0_0_0_1_0',\n",
       " 'zm-2-0_0_0_0_1_0',\n",
       " 'zw-2-0_0_0_0_1_0']"
      ]
     },
     "execution_count": 7,
     "metadata": {},
     "output_type": "execute_result"
    }
   ],
   "source": [
    "# Get a list of all countries for the selected scenario\n",
    "importlib.reload(GEP)\n",
    "scenario = \"0_0_0_0_1_0\"\n",
    "scenario_folder = os.path.join(scenario_base, f'{scenario}')\n",
    "# Identify countries to process\n",
    "zipFiles = []\n",
    "processedCountries = []\n",
    "for root, folders, files in os.walk(scenario_folder):    \n",
    "    processedCountries.append([f for f in folders])\n",
    "    for f in files:\n",
    "        if f[-4:] == \".csv\":\n",
    "            zipFiles.append(f[:-4])\n",
    "processedCountries = [item[:4] for item in zipFiles]\n",
    "zipFiles #list of country/scenarios to process"
   ]
  },
  {
   "cell_type": "code",
   "execution_count": 8,
   "metadata": {},
   "outputs": [],
   "source": [
    "# This will run for a single country, but could be looped over as is done above\n",
    "country = 'zw-2'\n",
    "sort_column = 'CurrentMVLineDist'"
   ]
  },
  {
   "cell_type": "code",
   "execution_count": 11,
   "metadata": {
    "scrolled": true
   },
   "outputs": [
    {
     "name": "stdout",
     "output_type": "stream",
     "text": [
      "15:57:32\tzw-2-0_0_0_0_1_0\n"
     ]
    }
   ],
   "source": [
    "importlib.reload(GEP)\n",
    "out_folder = '/media/gost/DATA1/GEP/rasterized_yearly'\n",
    "for country in ['zw-2-0_0_0_0_1_0']: #zipFiles:    \n",
    "    outFile = os.path.join(out_folder, f\"{country}_electrification_evolution_{sort_column}.tif\")\n",
    "    popFile = os.path.join(out_folder, f\"{country}_Pop2030_{sort_column}.tif\")\n",
    "    if True: #not os.path.exists(outFile):\n",
    "        tPrint(country)\n",
    "        xx_so = GEP.gep_results(country[:4], \n",
    "                    scenariosFolder=scenario_base,\n",
    "                    clustersFolder = cluster_folder,\n",
    "                    scenario=scenario)\n",
    "    \n",
    "        res = xx_so.join_results()        \n",
    "        res['perElec'] = (res['ElecPopCalib'] / res['Pop2020'])\n",
    "        sel_res = res.loc[:,['id','ElecStart','ElecStatusIn2025','ElecStatusIn2030','CurrentMVLineDist','perElec','Pop2030','geometry']]\n",
    "        # Set the default value (already electrified)\n",
    "        sel_res['year_elec'] = 2018\n",
    "        # Select features that are electrified between 2020 and 2025\n",
    "        first = sel_res.loc[(sel_res['ElecStart'] == 0) & (sel_res['ElecStatusIn2025'] == 1)]\n",
    "        first = first.sort_values([sort_column]) #Sort by the predictive column\n",
    "        first['year_elec'] = get_years(first.shape[0], 2019, 2024)\n",
    "        # Select features that are electrified between 2025 and 2030\n",
    "        second = sel_res.loc[(sel_res['ElecStatusIn2025'] == 0) & (sel_res['ElecStatusIn2030'] == 1)]\n",
    "        second = second.sort_values([sort_column])\n",
    "        second['year_elec'] = get_years(second.shape[0], 2025, 2030)\n",
    "\n",
    "        sel_res.loc[first.index, 'year_elec'] = first['year_elec']\n",
    "        sel_res.loc[second.index, 'year_elec'] = second['year_elec']\n",
    "\n",
    "        sel_res['year_elec'] = sel_res['year_elec'] - sel_res['year_elec'].min() + 1\n",
    "\n",
    "        #Before rasterizing, sort by year of electrification; I am not convinced this does anything\n",
    "        sel_res = sel_res.sort_values(['year_elec'], ascending=\"year_elec\")\n",
    "        xx_so.rasterize_results(sel_res, outFile, res=resolution, field='year_elec')\n",
    "        xx_so.rasterize_results(sel_res, popFile, res=resolution, field='Pop2030', dtype=\"float32\", merge_alg=\"ADD\")"
   ]
  },
  {
   "cell_type": "code",
   "execution_count": 13,
   "metadata": {},
   "outputs": [
    {
     "data": {
      "text/plain": [
       "Index(['id', 'geometry', 'Unnamed: 0', 'AgriDemand', 'CommercialDemand',\n",
       "       'Country', 'CurrentHVLineDist', 'CurrentMVLineDist', 'EducationDemand',\n",
       "       'GHI', 'GridCellArea', 'HealthDemand', 'HydropowerDist', 'IsUrban',\n",
       "       'NightLights', 'PerCapitaDemand', 'PlannedHVLineDist',\n",
       "       'PlannedMVLineDist', 'Pop', 'ResidentialDemandTierCustom', 'RoadDist',\n",
       "       'SubstationDist', 'TransformerDist', 'TravelHours', 'X_deg', 'Y_deg',\n",
       "       'Admin1', 'Cat_1', 'Cat_2', 'Cat_3', 'Unc', 'Prim', 'Sec',\n",
       "       'GridPenalty', 'WindCF', 'PopStartYear', 'ElecPopCalib', 'Pop2025',\n",
       "       'Pop2030', 'Pop2020', 'ElecStart', 'GridDistCalibElec',\n",
       "       'FinalElecCode2020', 'Commercial_Multiplier', 'MVConnectDist',\n",
       "       'NewConnections2025', 'NumPeoplePerHH', 'EnergyPerSettlement2025',\n",
       "       'TotalEnergyPerCell', 'Tier', 'MG_PV_Hybrid2025', 'MG_Wind_Hybrid2025',\n",
       "       'MG_Hydro2025', 'SA_PV2025', 'Grid2025', 'MinGridDist2025',\n",
       "       'ElectrificationOrder2025', 'MinimumOverall2025',\n",
       "       'MinimumOverallLCOE2025', 'MinimumOverallCode2025',\n",
       "       'InvestmentCost2025', 'ElecStatusIn2025', 'InvestmentCapita2025',\n",
       "       'FinalElecCode2025', 'NewCapacity2025', 'NewConnections2030',\n",
       "       'EnergyPerSettlement2030', 'MG_PV_Hybrid2030', 'MG_Wind_Hybrid2030',\n",
       "       'MG_Hydro2030', 'SA_PV2030', 'Grid2030', 'MinGridDist2030',\n",
       "       'ElectrificationOrder2030', 'MinimumOverall2030',\n",
       "       'MinimumOverallLCOE2030', 'MinimumOverallCode2030',\n",
       "       'InvestmentCost2030', 'ElecStatusIn2030', 'InvestmentCapita2030',\n",
       "       'FinalElecCode2030', 'NewCapacity2030', 'GridPop2030',\n",
       "       'OffGridPop2030'],\n",
       "      dtype='object')"
      ]
     },
     "execution_count": 13,
     "metadata": {},
     "output_type": "execute_result"
    }
   ],
   "source": [
    "res.columns"
   ]
  },
  {
   "cell_type": "code",
   "execution_count": null,
   "metadata": {},
   "outputs": [],
   "source": [
    "raster_folder = '/media/gost/DATA1/GEP/rasterized_yearly'\n",
    "\n",
    "### Run a series of GDAL commands to create No Data rasters and stack them\n",
    "command_file = os.path.join(vrt_folder, f'create_vrt_{sort_column}_yearly.sh')\n",
    "with open(command_file, 'w') as vrt_file:\n",
    "    vrt_file.write('#!/bin/sh \\n')\n",
    "    # Convert 0 in data to no data\n",
    "    outFolder = raster_folder\n",
    "    allImages = []\n",
    "    for root, folders, files in os.walk(out_folder):\n",
    "        for f in files:\n",
    "            if f.endswith(f\"{sort_column}.tif\"):\n",
    "                allImages.append(os.path.join(root, f))\n",
    "\n",
    "    for inFile in allImages:\n",
    "        outFile = inFile.replace(\".tif\", \".tif\")\n",
    "        vrt_file.write(f'gdal_translate -of GTiff -a_nodata 0 {inFile} {outFile}')\n",
    "        vrt_file.write(\"\\n\")\n",
    "    vrt_file.write(f'find {raster_folder} -name \"*.tif\" > tifFiles.txt')\n",
    "    vrt_file.write(\"\\n\")\n",
    "    vrt_file.write(f\"gdalbuildvrt -input_file_list tifFiles.txt {vrt_folder}/combined_gep_{sort_column}_yearly.vrt\")\n",
    "    vrt_file.write(\"\\n\")\n",
    "subprocess.call(command_file)"
   ]
  },
  {
   "cell_type": "markdown",
   "metadata": {},
   "source": []
  },
  {
   "cell_type": "code",
   "execution_count": null,
   "metadata": {},
   "outputs": [],
   "source": []
  }
 ],
 "metadata": {
  "kernelspec": {
   "display_name": "Python Geog",
   "language": "python",
   "name": "geog"
  },
  "language_info": {
   "codemirror_mode": {
    "name": "ipython",
    "version": 3
   },
   "file_extension": ".py",
   "mimetype": "text/x-python",
   "name": "python",
   "nbconvert_exporter": "python",
   "pygments_lexer": "ipython3",
   "version": "3.7.2"
  }
 },
 "nbformat": 4,
 "nbformat_minor": 2
}
