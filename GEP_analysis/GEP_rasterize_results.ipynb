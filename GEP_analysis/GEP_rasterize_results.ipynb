{
 "cells": [
  {
   "cell_type": "code",
   "execution_count": 1,
   "metadata": {},
   "outputs": [],
   "source": [
    "import os, sys, logging, importlib, math\n",
    "import rasterio, affine\n",
    "\n",
    "import geopandas as gpd\n",
    "import pandas as pd\n",
    "\n",
    "from zipfile import ZipFile\n",
    "from affine import Affine\n",
    "from rasterio import features\n",
    "from rasterio.mask import mask\n",
    "from rasterio.features import rasterize\n",
    "\n",
    "from gep_results import gep_results"
   ]
  },
  {
   "cell_type": "markdown",
   "metadata": {},
   "source": [
    "# Mapping electrification\n",
    "We need to convert certain fields in the results to a raster; these fields need to be calculated from the existing data\n",
    "\n",
    "1. Population already electrified 2030\n",
    "    a. Rasterize field **ElecPop**\n",
    "2. New population electrified by grid 2030\n",
    "    a. Filter data where **FinalElecCode2030** == 1.0\n",
    "    b. Set **NewConnections2025** = 0 where **FinalElecCode2025** == 99.0\n",
    "    c. Combine **NewConnections2030** with **NewConnections2025**\n",
    "3. New population electrified by off grid 2030\n",
    "    a. Filter data where **FinalElecCode2030** != 1.0\n",
    "    b. Set **NewConnections2025** = 0 where **FinalElecCode2025** != **FinalElecCode2030**\n",
    "    c. Combine **NewConnections2030** with **NewConnections2025**"
   ]
  },
  {
   "cell_type": "code",
   "execution_count": null,
   "metadata": {},
   "outputs": [],
   "source": [
    "xx_so = gep_results('et-1')\n",
    "result = xx_so.join_results()"
   ]
  },
  {
   "cell_type": "code",
   "execution_count": null,
   "metadata": {},
   "outputs": [],
   "source": [
    "for field in ['ElecPop','GridPop2030','OffGridPop2030']:\n",
    "    res = 0.05\n",
    "    outFile = os.path.join(xx_so.countryClustersFolder, \"rasterized_gep_%s_%s.tif\" % (field, res))\n",
    "    xx_so.rasterize_results(result, outFile, field=field, res=res, dtype='float64')"
   ]
  },
  {
   "cell_type": "code",
   "execution_count": null,
   "metadata": {},
   "outputs": [],
   "source": [
    "subset = result[['geometry','ElecPop','Pop','Pop2030','GridPop2030','OffGridPop2030','FinalElecCode2030']]\n",
    "origShape = subset.shape[0]\n",
    "origPop = subset['Pop2030'].sum()\n",
    "for pop in [10, 100, 1000, 10000]:\n",
    "    curSub = subset[subset['Pop2030'] > pop]\n",
    "    print(\"%s - %s\" % (curSub.shape[0]/origShape, curSub['Pop2030'].sum()/origPop))"
   ]
  },
  {
   "cell_type": "code",
   "execution_count": null,
   "metadata": {},
   "outputs": [],
   "source": [
    "curSub = subset[subset['Pop2030'] > 100]\n",
    "curSub.to_file('/media/gost/DATA1/GEP/Clusters/et-1/final_clusters_minPop_100.shp')"
   ]
  },
  {
   "cell_type": "code",
   "execution_count": null,
   "metadata": {},
   "outputs": [],
   "source": [
    "[print(x) for x in result.columns]"
   ]
  },
  {
   "cell_type": "code",
   "execution_count": null,
   "metadata": {},
   "outputs": [],
   "source": [
    "xx_et = gep_results('et-1')\n",
    "#etRes = xx_et.join_results()\n",
    "outFile = os.path.join(xx_et.countryClustersFolder, \"rasterized_gep_sorted2.tif\")\n",
    "xx_et.rasterize_results(etRes, outFile, res=0.01)\n",
    "\n"
   ]
  },
  {
   "cell_type": "code",
   "execution_count": 12,
   "metadata": {},
   "outputs": [
    {
     "name": "stderr",
     "output_type": "stream",
     "text": [
      "/home/gost/anaconda3/envs/Geog/lib/python3.7/site-packages/ipykernel_launcher.py:75: SettingWithCopyWarning: \n",
      "A value is trying to be set on a copy of a slice from a DataFrame\n",
      "\n",
      "See the caveats in the documentation: http://pandas.pydata.org/pandas-docs/stable/indexing.html#indexing-view-versus-copy\n"
     ]
    }
   ],
   "source": [
    "xx_so = gep_results('ke-1')\n",
    "res = xx_so.join_results()\n",
    "\n",
    "for resolution in [0.01]:\n",
    "    outFile = os.path.join(xx_so.countryClustersFolder, \"rasterized_gep_%s.tif\" % resolution)\n",
    "    xx_so.rasterize_results(res, outFile, res=resolution)"
   ]
  },
  {
   "cell_type": "code",
   "execution_count": 29,
   "metadata": {},
   "outputs": [],
   "source": [
    "# process all remaining countries\n",
    "clustersFolder = '/media/gost/DATA/GEP/Clusters'\n",
    "zipFiles = []\n",
    "processedCountries = []\n",
    "for root, folders, files in os.walk(clustersFolder):    \n",
    "    processedCountries.append([f for f in folders])\n",
    "    for f in files:\n",
    "        if f[-4:] == \".zip\":\n",
    "            zipFiles.append(f[:-4])\n",
    "            \n",
    "processedCountries = [item for sublist in processedCountries for item in sublist]"
   ]
  },
  {
   "cell_type": "code",
   "execution_count": 30,
   "metadata": {},
   "outputs": [
    {
     "name": "stdout",
     "output_type": "stream",
     "text": [
      "Processing id-1\n",
      "error processing id-1\n",
      "Processing kh-1\n"
     ]
    },
    {
     "name": "stderr",
     "output_type": "stream",
     "text": [
      "/home/gost/anaconda3/envs/Geog/lib/python3.7/site-packages/ipykernel_launcher.py:75: SettingWithCopyWarning: \n",
      "A value is trying to be set on a copy of a slice from a DataFrame\n",
      "\n",
      "See the caveats in the documentation: http://pandas.pydata.org/pandas-docs/stable/indexing.html#indexing-view-versus-copy\n"
     ]
    },
    {
     "name": "stdout",
     "output_type": "stream",
     "text": [
      "Processing km-1\n"
     ]
    },
    {
     "name": "stderr",
     "output_type": "stream",
     "text": [
      "/home/gost/anaconda3/envs/Geog/lib/python3.7/site-packages/ipykernel_launcher.py:75: SettingWithCopyWarning: \n",
      "A value is trying to be set on a copy of a slice from a DataFrame\n",
      "\n",
      "See the caveats in the documentation: http://pandas.pydata.org/pandas-docs/stable/indexing.html#indexing-view-versus-copy\n"
     ]
    },
    {
     "name": "stdout",
     "output_type": "stream",
     "text": [
      "Processing lr-1\n"
     ]
    },
    {
     "name": "stderr",
     "output_type": "stream",
     "text": [
      "/home/gost/anaconda3/envs/Geog/lib/python3.7/site-packages/ipykernel_launcher.py:75: SettingWithCopyWarning: \n",
      "A value is trying to be set on a copy of a slice from a DataFrame\n",
      "\n",
      "See the caveats in the documentation: http://pandas.pydata.org/pandas-docs/stable/indexing.html#indexing-view-versus-copy\n"
     ]
    },
    {
     "name": "stdout",
     "output_type": "stream",
     "text": [
      "Processing ls-1\n"
     ]
    },
    {
     "name": "stderr",
     "output_type": "stream",
     "text": [
      "/home/gost/anaconda3/envs/Geog/lib/python3.7/site-packages/ipykernel_launcher.py:75: SettingWithCopyWarning: \n",
      "A value is trying to be set on a copy of a slice from a DataFrame\n",
      "\n",
      "See the caveats in the documentation: http://pandas.pydata.org/pandas-docs/stable/indexing.html#indexing-view-versus-copy\n"
     ]
    },
    {
     "name": "stdout",
     "output_type": "stream",
     "text": [
      "Processing mg-1\n"
     ]
    },
    {
     "name": "stderr",
     "output_type": "stream",
     "text": [
      "/home/gost/anaconda3/envs/Geog/lib/python3.7/site-packages/ipykernel_launcher.py:75: SettingWithCopyWarning: \n",
      "A value is trying to be set on a copy of a slice from a DataFrame\n",
      "\n",
      "See the caveats in the documentation: http://pandas.pydata.org/pandas-docs/stable/indexing.html#indexing-view-versus-copy\n"
     ]
    },
    {
     "name": "stdout",
     "output_type": "stream",
     "text": [
      "Processing ml-1\n"
     ]
    },
    {
     "name": "stderr",
     "output_type": "stream",
     "text": [
      "/home/gost/anaconda3/envs/Geog/lib/python3.7/site-packages/ipykernel_launcher.py:75: SettingWithCopyWarning: \n",
      "A value is trying to be set on a copy of a slice from a DataFrame\n",
      "\n",
      "See the caveats in the documentation: http://pandas.pydata.org/pandas-docs/stable/indexing.html#indexing-view-versus-copy\n"
     ]
    },
    {
     "name": "stdout",
     "output_type": "stream",
     "text": [
      "Processing mm-1\n"
     ]
    },
    {
     "name": "stderr",
     "output_type": "stream",
     "text": [
      "/home/gost/anaconda3/envs/Geog/lib/python3.7/site-packages/ipykernel_launcher.py:75: SettingWithCopyWarning: \n",
      "A value is trying to be set on a copy of a slice from a DataFrame\n",
      "\n",
      "See the caveats in the documentation: http://pandas.pydata.org/pandas-docs/stable/indexing.html#indexing-view-versus-copy\n"
     ]
    },
    {
     "name": "stdout",
     "output_type": "stream",
     "text": [
      "Processing mn-1\n"
     ]
    },
    {
     "name": "stderr",
     "output_type": "stream",
     "text": [
      "/home/gost/anaconda3/envs/Geog/lib/python3.7/site-packages/ipykernel_launcher.py:75: SettingWithCopyWarning: \n",
      "A value is trying to be set on a copy of a slice from a DataFrame\n",
      "\n",
      "See the caveats in the documentation: http://pandas.pydata.org/pandas-docs/stable/indexing.html#indexing-view-versus-copy\n"
     ]
    },
    {
     "name": "stdout",
     "output_type": "stream",
     "text": [
      "Processing mr-1\n"
     ]
    },
    {
     "name": "stderr",
     "output_type": "stream",
     "text": [
      "/home/gost/anaconda3/envs/Geog/lib/python3.7/site-packages/ipykernel_launcher.py:75: SettingWithCopyWarning: \n",
      "A value is trying to be set on a copy of a slice from a DataFrame\n",
      "\n",
      "See the caveats in the documentation: http://pandas.pydata.org/pandas-docs/stable/indexing.html#indexing-view-versus-copy\n"
     ]
    },
    {
     "name": "stdout",
     "output_type": "stream",
     "text": [
      "Processing mw-1\n"
     ]
    },
    {
     "name": "stderr",
     "output_type": "stream",
     "text": [
      "/home/gost/anaconda3/envs/Geog/lib/python3.7/site-packages/ipykernel_launcher.py:75: SettingWithCopyWarning: \n",
      "A value is trying to be set on a copy of a slice from a DataFrame\n",
      "\n",
      "See the caveats in the documentation: http://pandas.pydata.org/pandas-docs/stable/indexing.html#indexing-view-versus-copy\n"
     ]
    },
    {
     "name": "stdout",
     "output_type": "stream",
     "text": [
      "Processing mz-1\n"
     ]
    },
    {
     "name": "stderr",
     "output_type": "stream",
     "text": [
      "/home/gost/anaconda3/envs/Geog/lib/python3.7/site-packages/ipykernel_launcher.py:75: SettingWithCopyWarning: \n",
      "A value is trying to be set on a copy of a slice from a DataFrame\n",
      "\n",
      "See the caveats in the documentation: http://pandas.pydata.org/pandas-docs/stable/indexing.html#indexing-view-versus-copy\n"
     ]
    },
    {
     "name": "stdout",
     "output_type": "stream",
     "text": [
      "Processing na-1\n"
     ]
    },
    {
     "name": "stderr",
     "output_type": "stream",
     "text": [
      "/home/gost/anaconda3/envs/Geog/lib/python3.7/site-packages/ipykernel_launcher.py:75: SettingWithCopyWarning: \n",
      "A value is trying to be set on a copy of a slice from a DataFrame\n",
      "\n",
      "See the caveats in the documentation: http://pandas.pydata.org/pandas-docs/stable/indexing.html#indexing-view-versus-copy\n"
     ]
    },
    {
     "name": "stdout",
     "output_type": "stream",
     "text": [
      "Processing ng-1\n"
     ]
    },
    {
     "name": "stderr",
     "output_type": "stream",
     "text": [
      "/home/gost/anaconda3/envs/Geog/lib/python3.7/site-packages/ipykernel_launcher.py:75: SettingWithCopyWarning: \n",
      "A value is trying to be set on a copy of a slice from a DataFrame\n",
      "\n",
      "See the caveats in the documentation: http://pandas.pydata.org/pandas-docs/stable/indexing.html#indexing-view-versus-copy\n"
     ]
    },
    {
     "name": "stdout",
     "output_type": "stream",
     "text": [
      "Processing ni-1\n"
     ]
    },
    {
     "name": "stderr",
     "output_type": "stream",
     "text": [
      "/home/gost/anaconda3/envs/Geog/lib/python3.7/site-packages/ipykernel_launcher.py:75: SettingWithCopyWarning: \n",
      "A value is trying to be set on a copy of a slice from a DataFrame\n",
      "\n",
      "See the caveats in the documentation: http://pandas.pydata.org/pandas-docs/stable/indexing.html#indexing-view-versus-copy\n"
     ]
    },
    {
     "name": "stdout",
     "output_type": "stream",
     "text": [
      "Processing pg-1\n"
     ]
    },
    {
     "name": "stderr",
     "output_type": "stream",
     "text": [
      "/home/gost/anaconda3/envs/Geog/lib/python3.7/site-packages/ipykernel_launcher.py:75: SettingWithCopyWarning: \n",
      "A value is trying to be set on a copy of a slice from a DataFrame\n",
      "\n",
      "See the caveats in the documentation: http://pandas.pydata.org/pandas-docs/stable/indexing.html#indexing-view-versus-copy\n"
     ]
    },
    {
     "name": "stdout",
     "output_type": "stream",
     "text": [
      "Processing ph-1\n",
      "error processing ph-1\n",
      "Processing pk-1\n"
     ]
    },
    {
     "name": "stderr",
     "output_type": "stream",
     "text": [
      "/home/gost/anaconda3/envs/Geog/lib/python3.7/site-packages/ipykernel_launcher.py:75: SettingWithCopyWarning: \n",
      "A value is trying to be set on a copy of a slice from a DataFrame\n",
      "\n",
      "See the caveats in the documentation: http://pandas.pydata.org/pandas-docs/stable/indexing.html#indexing-view-versus-copy\n"
     ]
    },
    {
     "name": "stdout",
     "output_type": "stream",
     "text": [
      "Processing rw-1\n"
     ]
    },
    {
     "name": "stderr",
     "output_type": "stream",
     "text": [
      "/home/gost/anaconda3/envs/Geog/lib/python3.7/site-packages/ipykernel_launcher.py:75: SettingWithCopyWarning: \n",
      "A value is trying to be set on a copy of a slice from a DataFrame\n",
      "\n",
      "See the caveats in the documentation: http://pandas.pydata.org/pandas-docs/stable/indexing.html#indexing-view-versus-copy\n"
     ]
    },
    {
     "name": "stdout",
     "output_type": "stream",
     "text": [
      "Processing sb-1\n"
     ]
    },
    {
     "name": "stderr",
     "output_type": "stream",
     "text": [
      "/home/gost/anaconda3/envs/Geog/lib/python3.7/site-packages/pandas/core/reshape/merge.py:946: UserWarning: You are merging on int and float columns where the float values are not equal to their int representation\n",
      "  'representation', UserWarning)\n",
      "/home/gost/anaconda3/envs/Geog/lib/python3.7/site-packages/ipykernel_launcher.py:75: SettingWithCopyWarning: \n",
      "A value is trying to be set on a copy of a slice from a DataFrame\n",
      "\n",
      "See the caveats in the documentation: http://pandas.pydata.org/pandas-docs/stable/indexing.html#indexing-view-versus-copy\n"
     ]
    },
    {
     "name": "stdout",
     "output_type": "stream",
     "text": [
      "Processing sd-1\n"
     ]
    },
    {
     "name": "stderr",
     "output_type": "stream",
     "text": [
      "/home/gost/anaconda3/envs/Geog/lib/python3.7/site-packages/ipykernel_launcher.py:75: SettingWithCopyWarning: \n",
      "A value is trying to be set on a copy of a slice from a DataFrame\n",
      "\n",
      "See the caveats in the documentation: http://pandas.pydata.org/pandas-docs/stable/indexing.html#indexing-view-versus-copy\n"
     ]
    },
    {
     "name": "stdout",
     "output_type": "stream",
     "text": [
      "Processing sl-1\n"
     ]
    },
    {
     "name": "stderr",
     "output_type": "stream",
     "text": [
      "/home/gost/anaconda3/envs/Geog/lib/python3.7/site-packages/ipykernel_launcher.py:75: SettingWithCopyWarning: \n",
      "A value is trying to be set on a copy of a slice from a DataFrame\n",
      "\n",
      "See the caveats in the documentation: http://pandas.pydata.org/pandas-docs/stable/indexing.html#indexing-view-versus-copy\n"
     ]
    },
    {
     "name": "stdout",
     "output_type": "stream",
     "text": [
      "Processing sn-1\n"
     ]
    },
    {
     "name": "stderr",
     "output_type": "stream",
     "text": [
      "/home/gost/anaconda3/envs/Geog/lib/python3.7/site-packages/ipykernel_launcher.py:75: SettingWithCopyWarning: \n",
      "A value is trying to be set on a copy of a slice from a DataFrame\n",
      "\n",
      "See the caveats in the documentation: http://pandas.pydata.org/pandas-docs/stable/indexing.html#indexing-view-versus-copy\n"
     ]
    },
    {
     "name": "stdout",
     "output_type": "stream",
     "text": [
      "Processing ss-1\n"
     ]
    },
    {
     "name": "stderr",
     "output_type": "stream",
     "text": [
      "/home/gost/anaconda3/envs/Geog/lib/python3.7/site-packages/ipykernel_launcher.py:75: SettingWithCopyWarning: \n",
      "A value is trying to be set on a copy of a slice from a DataFrame\n",
      "\n",
      "See the caveats in the documentation: http://pandas.pydata.org/pandas-docs/stable/indexing.html#indexing-view-versus-copy\n"
     ]
    },
    {
     "name": "stdout",
     "output_type": "stream",
     "text": [
      "Processing st-1\n"
     ]
    },
    {
     "name": "stderr",
     "output_type": "stream",
     "text": [
      "/home/gost/anaconda3/envs/Geog/lib/python3.7/site-packages/ipykernel_launcher.py:75: SettingWithCopyWarning: \n",
      "A value is trying to be set on a copy of a slice from a DataFrame\n",
      "\n",
      "See the caveats in the documentation: http://pandas.pydata.org/pandas-docs/stable/indexing.html#indexing-view-versus-copy\n"
     ]
    },
    {
     "name": "stdout",
     "output_type": "stream",
     "text": [
      "Processing sz-1\n"
     ]
    },
    {
     "name": "stderr",
     "output_type": "stream",
     "text": [
      "/home/gost/anaconda3/envs/Geog/lib/python3.7/site-packages/ipykernel_launcher.py:75: SettingWithCopyWarning: \n",
      "A value is trying to be set on a copy of a slice from a DataFrame\n",
      "\n",
      "See the caveats in the documentation: http://pandas.pydata.org/pandas-docs/stable/indexing.html#indexing-view-versus-copy\n"
     ]
    },
    {
     "name": "stdout",
     "output_type": "stream",
     "text": [
      "Processing td-1\n"
     ]
    },
    {
     "name": "stderr",
     "output_type": "stream",
     "text": [
      "/home/gost/anaconda3/envs/Geog/lib/python3.7/site-packages/ipykernel_launcher.py:75: SettingWithCopyWarning: \n",
      "A value is trying to be set on a copy of a slice from a DataFrame\n",
      "\n",
      "See the caveats in the documentation: http://pandas.pydata.org/pandas-docs/stable/indexing.html#indexing-view-versus-copy\n"
     ]
    },
    {
     "name": "stdout",
     "output_type": "stream",
     "text": [
      "Processing tg-1\n"
     ]
    },
    {
     "name": "stderr",
     "output_type": "stream",
     "text": [
      "/home/gost/anaconda3/envs/Geog/lib/python3.7/site-packages/ipykernel_launcher.py:75: SettingWithCopyWarning: \n",
      "A value is trying to be set on a copy of a slice from a DataFrame\n",
      "\n",
      "See the caveats in the documentation: http://pandas.pydata.org/pandas-docs/stable/indexing.html#indexing-view-versus-copy\n"
     ]
    },
    {
     "name": "stdout",
     "output_type": "stream",
     "text": [
      "Processing tl-1\n"
     ]
    },
    {
     "name": "stderr",
     "output_type": "stream",
     "text": [
      "/home/gost/anaconda3/envs/Geog/lib/python3.7/site-packages/ipykernel_launcher.py:75: SettingWithCopyWarning: \n",
      "A value is trying to be set on a copy of a slice from a DataFrame\n",
      "\n",
      "See the caveats in the documentation: http://pandas.pydata.org/pandas-docs/stable/indexing.html#indexing-view-versus-copy\n"
     ]
    },
    {
     "name": "stdout",
     "output_type": "stream",
     "text": [
      "Processing tz-1\n"
     ]
    },
    {
     "name": "stderr",
     "output_type": "stream",
     "text": [
      "/home/gost/anaconda3/envs/Geog/lib/python3.7/site-packages/ipykernel_launcher.py:75: SettingWithCopyWarning: \n",
      "A value is trying to be set on a copy of a slice from a DataFrame\n",
      "\n",
      "See the caveats in the documentation: http://pandas.pydata.org/pandas-docs/stable/indexing.html#indexing-view-versus-copy\n"
     ]
    },
    {
     "name": "stdout",
     "output_type": "stream",
     "text": [
      "Processing ug-1\n"
     ]
    },
    {
     "name": "stderr",
     "output_type": "stream",
     "text": [
      "/home/gost/anaconda3/envs/Geog/lib/python3.7/site-packages/ipykernel_launcher.py:75: SettingWithCopyWarning: \n",
      "A value is trying to be set on a copy of a slice from a DataFrame\n",
      "\n",
      "See the caveats in the documentation: http://pandas.pydata.org/pandas-docs/stable/indexing.html#indexing-view-versus-copy\n"
     ]
    },
    {
     "name": "stdout",
     "output_type": "stream",
     "text": [
      "Processing vu-1\n"
     ]
    },
    {
     "name": "stderr",
     "output_type": "stream",
     "text": [
      "/home/gost/anaconda3/envs/Geog/lib/python3.7/site-packages/ipykernel_launcher.py:75: SettingWithCopyWarning: \n",
      "A value is trying to be set on a copy of a slice from a DataFrame\n",
      "\n",
      "See the caveats in the documentation: http://pandas.pydata.org/pandas-docs/stable/indexing.html#indexing-view-versus-copy\n"
     ]
    },
    {
     "name": "stdout",
     "output_type": "stream",
     "text": [
      "Processing za-1\n"
     ]
    },
    {
     "name": "stderr",
     "output_type": "stream",
     "text": [
      "/home/gost/anaconda3/envs/Geog/lib/python3.7/site-packages/IPython/core/interactiveshell.py:3214: DtypeWarning: Columns (23) have mixed types. Specify dtype option on import or set low_memory=False.\n",
      "  if (yield from self.run_code(code, result)):\n",
      "/home/gost/anaconda3/envs/Geog/lib/python3.7/site-packages/ipykernel_launcher.py:75: SettingWithCopyWarning: \n",
      "A value is trying to be set on a copy of a slice from a DataFrame\n",
      "\n",
      "See the caveats in the documentation: http://pandas.pydata.org/pandas-docs/stable/indexing.html#indexing-view-versus-copy\n"
     ]
    },
    {
     "name": "stdout",
     "output_type": "stream",
     "text": [
      "Processing zm-1\n"
     ]
    },
    {
     "name": "stderr",
     "output_type": "stream",
     "text": [
      "/home/gost/anaconda3/envs/Geog/lib/python3.7/site-packages/ipykernel_launcher.py:75: SettingWithCopyWarning: \n",
      "A value is trying to be set on a copy of a slice from a DataFrame\n",
      "\n",
      "See the caveats in the documentation: http://pandas.pydata.org/pandas-docs/stable/indexing.html#indexing-view-versus-copy\n"
     ]
    },
    {
     "name": "stdout",
     "output_type": "stream",
     "text": [
      "Processing zw-1\n"
     ]
    },
    {
     "name": "stderr",
     "output_type": "stream",
     "text": [
      "/home/gost/anaconda3/envs/Geog/lib/python3.7/site-packages/ipykernel_launcher.py:75: SettingWithCopyWarning: \n",
      "A value is trying to be set on a copy of a slice from a DataFrame\n",
      "\n",
      "See the caveats in the documentation: http://pandas.pydata.org/pandas-docs/stable/indexing.html#indexing-view-versus-copy\n"
     ]
    },
    {
     "name": "stdout",
     "output_type": "stream",
     "text": [
      "Processing cf-1\n"
     ]
    },
    {
     "name": "stderr",
     "output_type": "stream",
     "text": [
      "/home/gost/anaconda3/envs/Geog/lib/python3.7/site-packages/ipykernel_launcher.py:75: SettingWithCopyWarning: \n",
      "A value is trying to be set on a copy of a slice from a DataFrame\n",
      "\n",
      "See the caveats in the documentation: http://pandas.pydata.org/pandas-docs/stable/indexing.html#indexing-view-versus-copy\n"
     ]
    },
    {
     "name": "stdout",
     "output_type": "stream",
     "text": [
      "Processing cg-1\n"
     ]
    },
    {
     "name": "stderr",
     "output_type": "stream",
     "text": [
      "/home/gost/anaconda3/envs/Geog/lib/python3.7/site-packages/ipykernel_launcher.py:75: SettingWithCopyWarning: \n",
      "A value is trying to be set on a copy of a slice from a DataFrame\n",
      "\n",
      "See the caveats in the documentation: http://pandas.pydata.org/pandas-docs/stable/indexing.html#indexing-view-versus-copy\n"
     ]
    },
    {
     "name": "stdout",
     "output_type": "stream",
     "text": [
      "Processing ci-1\n"
     ]
    },
    {
     "name": "stderr",
     "output_type": "stream",
     "text": [
      "/home/gost/anaconda3/envs/Geog/lib/python3.7/site-packages/ipykernel_launcher.py:75: SettingWithCopyWarning: \n",
      "A value is trying to be set on a copy of a slice from a DataFrame\n",
      "\n",
      "See the caveats in the documentation: http://pandas.pydata.org/pandas-docs/stable/indexing.html#indexing-view-versus-copy\n"
     ]
    },
    {
     "name": "stdout",
     "output_type": "stream",
     "text": [
      "Processing cm-1\n"
     ]
    },
    {
     "name": "stderr",
     "output_type": "stream",
     "text": [
      "/home/gost/anaconda3/envs/Geog/lib/python3.7/site-packages/ipykernel_launcher.py:75: SettingWithCopyWarning: \n",
      "A value is trying to be set on a copy of a slice from a DataFrame\n",
      "\n",
      "See the caveats in the documentation: http://pandas.pydata.org/pandas-docs/stable/indexing.html#indexing-view-versus-copy\n"
     ]
    },
    {
     "name": "stdout",
     "output_type": "stream",
     "text": [
      "Processing dj-1\n"
     ]
    },
    {
     "name": "stderr",
     "output_type": "stream",
     "text": [
      "/home/gost/anaconda3/envs/Geog/lib/python3.7/site-packages/ipykernel_launcher.py:75: SettingWithCopyWarning: \n",
      "A value is trying to be set on a copy of a slice from a DataFrame\n",
      "\n",
      "See the caveats in the documentation: http://pandas.pydata.org/pandas-docs/stable/indexing.html#indexing-view-versus-copy\n"
     ]
    },
    {
     "name": "stdout",
     "output_type": "stream",
     "text": [
      "Processing er-1\n"
     ]
    },
    {
     "name": "stderr",
     "output_type": "stream",
     "text": [
      "/home/gost/anaconda3/envs/Geog/lib/python3.7/site-packages/ipykernel_launcher.py:75: SettingWithCopyWarning: \n",
      "A value is trying to be set on a copy of a slice from a DataFrame\n",
      "\n",
      "See the caveats in the documentation: http://pandas.pydata.org/pandas-docs/stable/indexing.html#indexing-view-versus-copy\n"
     ]
    },
    {
     "name": "stdout",
     "output_type": "stream",
     "text": [
      "Processing ga-1\n"
     ]
    },
    {
     "name": "stderr",
     "output_type": "stream",
     "text": [
      "/home/gost/anaconda3/envs/Geog/lib/python3.7/site-packages/ipykernel_launcher.py:75: SettingWithCopyWarning: \n",
      "A value is trying to be set on a copy of a slice from a DataFrame\n",
      "\n",
      "See the caveats in the documentation: http://pandas.pydata.org/pandas-docs/stable/indexing.html#indexing-view-versus-copy\n"
     ]
    },
    {
     "name": "stdout",
     "output_type": "stream",
     "text": [
      "Processing gh-1\n"
     ]
    },
    {
     "name": "stderr",
     "output_type": "stream",
     "text": [
      "/home/gost/anaconda3/envs/Geog/lib/python3.7/site-packages/ipykernel_launcher.py:75: SettingWithCopyWarning: \n",
      "A value is trying to be set on a copy of a slice from a DataFrame\n",
      "\n",
      "See the caveats in the documentation: http://pandas.pydata.org/pandas-docs/stable/indexing.html#indexing-view-versus-copy\n"
     ]
    },
    {
     "name": "stdout",
     "output_type": "stream",
     "text": [
      "Processing gm-1\n"
     ]
    },
    {
     "name": "stderr",
     "output_type": "stream",
     "text": [
      "/home/gost/anaconda3/envs/Geog/lib/python3.7/site-packages/ipykernel_launcher.py:75: SettingWithCopyWarning: \n",
      "A value is trying to be set on a copy of a slice from a DataFrame\n",
      "\n",
      "See the caveats in the documentation: http://pandas.pydata.org/pandas-docs/stable/indexing.html#indexing-view-versus-copy\n"
     ]
    },
    {
     "name": "stdout",
     "output_type": "stream",
     "text": [
      "Processing cd-1\n"
     ]
    },
    {
     "name": "stderr",
     "output_type": "stream",
     "text": [
      "/home/gost/anaconda3/envs/Geog/lib/python3.7/site-packages/ipykernel_launcher.py:75: SettingWithCopyWarning: \n",
      "A value is trying to be set on a copy of a slice from a DataFrame\n",
      "\n",
      "See the caveats in the documentation: http://pandas.pydata.org/pandas-docs/stable/indexing.html#indexing-view-versus-copy\n"
     ]
    },
    {
     "name": "stdout",
     "output_type": "stream",
     "text": [
      "Processing fm-1\n"
     ]
    },
    {
     "name": "stderr",
     "output_type": "stream",
     "text": [
      "/home/gost/anaconda3/envs/Geog/lib/python3.7/site-packages/ipykernel_launcher.py:75: SettingWithCopyWarning: \n",
      "A value is trying to be set on a copy of a slice from a DataFrame\n",
      "\n",
      "See the caveats in the documentation: http://pandas.pydata.org/pandas-docs/stable/indexing.html#indexing-view-versus-copy\n"
     ]
    },
    {
     "name": "stdout",
     "output_type": "stream",
     "text": [
      "Processing gn-1\n"
     ]
    },
    {
     "name": "stderr",
     "output_type": "stream",
     "text": [
      "/home/gost/anaconda3/envs/Geog/lib/python3.7/site-packages/ipykernel_launcher.py:75: SettingWithCopyWarning: \n",
      "A value is trying to be set on a copy of a slice from a DataFrame\n",
      "\n",
      "See the caveats in the documentation: http://pandas.pydata.org/pandas-docs/stable/indexing.html#indexing-view-versus-copy\n"
     ]
    },
    {
     "name": "stdout",
     "output_type": "stream",
     "text": [
      "Processing ne-1\n"
     ]
    },
    {
     "name": "stderr",
     "output_type": "stream",
     "text": [
      "/home/gost/anaconda3/envs/Geog/lib/python3.7/site-packages/ipykernel_launcher.py:75: SettingWithCopyWarning: \n",
      "A value is trying to be set on a copy of a slice from a DataFrame\n",
      "\n",
      "See the caveats in the documentation: http://pandas.pydata.org/pandas-docs/stable/indexing.html#indexing-view-versus-copy\n"
     ]
    }
   ],
   "source": [
    "for country in zipFiles:\n",
    "    if not country in processedCountries:\n",
    "        print(f\"Processing {country}\")\n",
    "        try:\n",
    "            xx_so = gep_results(country)\n",
    "            res = xx_so.join_results()\n",
    "            outFile = os.path.join(xx_so.countryClustersFolder, \"rasterized_gep_%s.tif\" % resolution)\n",
    "            xx_so.rasterize_results(res, outFile, res=resolution)\n",
    "        except:\n",
    "            print(f'error processing {country}')"
   ]
  },
  {
   "cell_type": "code",
   "execution_count": 32,
   "metadata": {},
   "outputs": [
    {
     "name": "stdout",
     "output_type": "stream",
     "text": [
      "gdal_translate -of GTiff -a_nodata 0 /media/gost/DATA/GEP/Clusters/ao-1/rasterized_gep_0.01.tif /media/gost/DATA/GEP/Clusters/ao-1/rasterized_gep_0.01_noData.tif\n",
      "gdal_translate -of GTiff -a_nodata 0 /media/gost/DATA/GEP/Clusters/bd-1/rasterized_gep_0.01.tif /media/gost/DATA/GEP/Clusters/bd-1/rasterized_gep_0.01_noData.tif\n",
      "gdal_translate -of GTiff -a_nodata 0 /media/gost/DATA/GEP/Clusters/bf-1/rasterized_gep_0.01.tif /media/gost/DATA/GEP/Clusters/bf-1/rasterized_gep_0.01_noData.tif\n",
      "gdal_translate -of GTiff -a_nodata 0 /media/gost/DATA/GEP/Clusters/bi-1/rasterized_gep_0.01.tif /media/gost/DATA/GEP/Clusters/bi-1/rasterized_gep_0.01_noData.tif\n",
      "gdal_translate -of GTiff -a_nodata 0 /media/gost/DATA/GEP/Clusters/bj-1/rasterized_gep_0.01.tif /media/gost/DATA/GEP/Clusters/bj-1/rasterized_gep_0.01_noData.tif\n",
      "gdal_translate -of GTiff -a_nodata 0 /media/gost/DATA/GEP/Clusters/bw-1/rasterized_gep_0.01.tif /media/gost/DATA/GEP/Clusters/bw-1/rasterized_gep_0.01_noData.tif\n",
      "gdal_translate -of GTiff -a_nodata 0 /media/gost/DATA/GEP/Clusters/cd-1/rasterized_gep_0.01.tif /media/gost/DATA/GEP/Clusters/cd-1/rasterized_gep_0.01_noData.tif\n",
      "gdal_translate -of GTiff -a_nodata 0 /media/gost/DATA/GEP/Clusters/gq-1/rasterized_gep_0.01.tif /media/gost/DATA/GEP/Clusters/gq-1/rasterized_gep_0.01_noData.tif\n",
      "gdal_translate -of GTiff -a_nodata 0 /media/gost/DATA/GEP/Clusters/gw-1/rasterized_gep_0.01.tif /media/gost/DATA/GEP/Clusters/gw-1/rasterized_gep_0.01_noData.tif\n",
      "gdal_translate -of GTiff -a_nodata 0 /media/gost/DATA/GEP/Clusters/hn-1/rasterized_gep_0.01.tif /media/gost/DATA/GEP/Clusters/hn-1/rasterized_gep_0.01_noData.tif\n",
      "gdal_translate -of GTiff -a_nodata 0 /media/gost/DATA/GEP/Clusters/ht-1/rasterized_gep_0.01.tif /media/gost/DATA/GEP/Clusters/ht-1/rasterized_gep_0.01_noData.tif\n",
      "gdal_translate -of GTiff -a_nodata 0 /media/gost/DATA/GEP/Clusters/ke-1/rasterized_gep_0.01.tif /media/gost/DATA/GEP/Clusters/ke-1/rasterized_gep_0.01_noData.tif\n",
      "gdal_translate -of GTiff -a_nodata 0 /media/gost/DATA/GEP/Clusters/kh-1/rasterized_gep_0.01.tif /media/gost/DATA/GEP/Clusters/kh-1/rasterized_gep_0.01_noData.tif\n",
      "gdal_translate -of GTiff -a_nodata 0 /media/gost/DATA/GEP/Clusters/km-1/rasterized_gep_0.01.tif /media/gost/DATA/GEP/Clusters/km-1/rasterized_gep_0.01_noData.tif\n",
      "gdal_translate -of GTiff -a_nodata 0 /media/gost/DATA/GEP/Clusters/lr-1/rasterized_gep_0.01.tif /media/gost/DATA/GEP/Clusters/lr-1/rasterized_gep_0.01_noData.tif\n",
      "gdal_translate -of GTiff -a_nodata 0 /media/gost/DATA/GEP/Clusters/ls-1/rasterized_gep_0.01.tif /media/gost/DATA/GEP/Clusters/ls-1/rasterized_gep_0.01_noData.tif\n",
      "gdal_translate -of GTiff -a_nodata 0 /media/gost/DATA/GEP/Clusters/mg-1/rasterized_gep_0.01.tif /media/gost/DATA/GEP/Clusters/mg-1/rasterized_gep_0.01_noData.tif\n",
      "gdal_translate -of GTiff -a_nodata 0 /media/gost/DATA/GEP/Clusters/ml-1/rasterized_gep_0.01.tif /media/gost/DATA/GEP/Clusters/ml-1/rasterized_gep_0.01_noData.tif\n",
      "gdal_translate -of GTiff -a_nodata 0 /media/gost/DATA/GEP/Clusters/mm-1/rasterized_gep_0.01.tif /media/gost/DATA/GEP/Clusters/mm-1/rasterized_gep_0.01_noData.tif\n",
      "gdal_translate -of GTiff -a_nodata 0 /media/gost/DATA/GEP/Clusters/mn-1/rasterized_gep_0.01.tif /media/gost/DATA/GEP/Clusters/mn-1/rasterized_gep_0.01_noData.tif\n",
      "gdal_translate -of GTiff -a_nodata 0 /media/gost/DATA/GEP/Clusters/mr-1/rasterized_gep_0.01.tif /media/gost/DATA/GEP/Clusters/mr-1/rasterized_gep_0.01_noData.tif\n",
      "gdal_translate -of GTiff -a_nodata 0 /media/gost/DATA/GEP/Clusters/mw-1/rasterized_gep_0.01.tif /media/gost/DATA/GEP/Clusters/mw-1/rasterized_gep_0.01_noData.tif\n",
      "gdal_translate -of GTiff -a_nodata 0 /media/gost/DATA/GEP/Clusters/mz-1/rasterized_gep_0.01.tif /media/gost/DATA/GEP/Clusters/mz-1/rasterized_gep_0.01_noData.tif\n",
      "gdal_translate -of GTiff -a_nodata 0 /media/gost/DATA/GEP/Clusters/na-1/rasterized_gep_0.01.tif /media/gost/DATA/GEP/Clusters/na-1/rasterized_gep_0.01_noData.tif\n",
      "gdal_translate -of GTiff -a_nodata 0 /media/gost/DATA/GEP/Clusters/ne-1/rasterized_gep_0.01.tif /media/gost/DATA/GEP/Clusters/ne-1/rasterized_gep_0.01_noData.tif\n",
      "gdal_translate -of GTiff -a_nodata 0 /media/gost/DATA/GEP/Clusters/ng-1/rasterized_gep_0.01.tif /media/gost/DATA/GEP/Clusters/ng-1/rasterized_gep_0.01_noData.tif\n",
      "gdal_translate -of GTiff -a_nodata 0 /media/gost/DATA/GEP/Clusters/ni-1/rasterized_gep_0.01.tif /media/gost/DATA/GEP/Clusters/ni-1/rasterized_gep_0.01_noData.tif\n",
      "gdal_translate -of GTiff -a_nodata 0 /media/gost/DATA/GEP/Clusters/pg-1/rasterized_gep_0.01.tif /media/gost/DATA/GEP/Clusters/pg-1/rasterized_gep_0.01_noData.tif\n",
      "gdal_translate -of GTiff -a_nodata 0 /media/gost/DATA/GEP/Clusters/pk-1/rasterized_gep_0.01.tif /media/gost/DATA/GEP/Clusters/pk-1/rasterized_gep_0.01_noData.tif\n",
      "gdal_translate -of GTiff -a_nodata 0 /media/gost/DATA/GEP/Clusters/rw-1/rasterized_gep_0.01.tif /media/gost/DATA/GEP/Clusters/rw-1/rasterized_gep_0.01_noData.tif\n",
      "gdal_translate -of GTiff -a_nodata 0 /media/gost/DATA/GEP/Clusters/sb-1/rasterized_gep_0.01.tif /media/gost/DATA/GEP/Clusters/sb-1/rasterized_gep_0.01_noData.tif\n",
      "gdal_translate -of GTiff -a_nodata 0 /media/gost/DATA/GEP/Clusters/sd-1/rasterized_gep_0.01.tif /media/gost/DATA/GEP/Clusters/sd-1/rasterized_gep_0.01_noData.tif\n",
      "gdal_translate -of GTiff -a_nodata 0 /media/gost/DATA/GEP/Clusters/sl-1/rasterized_gep_0.01.tif /media/gost/DATA/GEP/Clusters/sl-1/rasterized_gep_0.01_noData.tif\n",
      "gdal_translate -of GTiff -a_nodata 0 /media/gost/DATA/GEP/Clusters/sn-1/rasterized_gep_0.01.tif /media/gost/DATA/GEP/Clusters/sn-1/rasterized_gep_0.01_noData.tif\n",
      "gdal_translate -of GTiff -a_nodata 0 /media/gost/DATA/GEP/Clusters/cf-1/rasterized_gep_0.01.tif /media/gost/DATA/GEP/Clusters/cf-1/rasterized_gep_0.01_noData.tif\n",
      "gdal_translate -of GTiff -a_nodata 0 /media/gost/DATA/GEP/Clusters/cg-1/rasterized_gep_0.01.tif /media/gost/DATA/GEP/Clusters/cg-1/rasterized_gep_0.01_noData.tif\n",
      "gdal_translate -of GTiff -a_nodata 0 /media/gost/DATA/GEP/Clusters/ci-1/rasterized_gep_0.01.tif /media/gost/DATA/GEP/Clusters/ci-1/rasterized_gep_0.01_noData.tif\n",
      "gdal_translate -of GTiff -a_nodata 0 /media/gost/DATA/GEP/Clusters/cm-1/rasterized_gep_0.01.tif /media/gost/DATA/GEP/Clusters/cm-1/rasterized_gep_0.01_noData.tif\n",
      "gdal_translate -of GTiff -a_nodata 0 /media/gost/DATA/GEP/Clusters/dj-1/rasterized_gep_0.01.tif /media/gost/DATA/GEP/Clusters/dj-1/rasterized_gep_0.01_noData.tif\n",
      "gdal_translate -of GTiff -a_nodata 0 /media/gost/DATA/GEP/Clusters/er-1/rasterized_gep_0.01.tif /media/gost/DATA/GEP/Clusters/er-1/rasterized_gep_0.01_noData.tif\n",
      "gdal_translate -of GTiff -a_nodata 0 /media/gost/DATA/GEP/Clusters/et-1/rasterized_gep_0.01.tif /media/gost/DATA/GEP/Clusters/et-1/rasterized_gep_0.01_noData.tif\n",
      "gdal_translate -of GTiff -a_nodata 0 /media/gost/DATA/GEP/Clusters/fm-1/rasterized_gep_0.01.tif /media/gost/DATA/GEP/Clusters/fm-1/rasterized_gep_0.01_noData.tif\n",
      "gdal_translate -of GTiff -a_nodata 0 /media/gost/DATA/GEP/Clusters/ga-1/rasterized_gep_0.01.tif /media/gost/DATA/GEP/Clusters/ga-1/rasterized_gep_0.01_noData.tif\n",
      "gdal_translate -of GTiff -a_nodata 0 /media/gost/DATA/GEP/Clusters/gh-1/rasterized_gep_0.01.tif /media/gost/DATA/GEP/Clusters/gh-1/rasterized_gep_0.01_noData.tif\n",
      "gdal_translate -of GTiff -a_nodata 0 /media/gost/DATA/GEP/Clusters/gm-1/rasterized_gep_0.01.tif /media/gost/DATA/GEP/Clusters/gm-1/rasterized_gep_0.01_noData.tif\n",
      "gdal_translate -of GTiff -a_nodata 0 /media/gost/DATA/GEP/Clusters/gn-1/rasterized_gep_0.01.tif /media/gost/DATA/GEP/Clusters/gn-1/rasterized_gep_0.01_noData.tif\n",
      "gdal_translate -of GTiff -a_nodata 0 /media/gost/DATA/GEP/Clusters/so-1/rasterized_gep_0.01.tif /media/gost/DATA/GEP/Clusters/so-1/rasterized_gep_0.01_noData.tif\n",
      "gdal_translate -of GTiff -a_nodata 0 /media/gost/DATA/GEP/Clusters/ss-1/rasterized_gep_0.01.tif /media/gost/DATA/GEP/Clusters/ss-1/rasterized_gep_0.01_noData.tif\n",
      "gdal_translate -of GTiff -a_nodata 0 /media/gost/DATA/GEP/Clusters/st-1/rasterized_gep_0.01.tif /media/gost/DATA/GEP/Clusters/st-1/rasterized_gep_0.01_noData.tif\n",
      "gdal_translate -of GTiff -a_nodata 0 /media/gost/DATA/GEP/Clusters/sz-1/rasterized_gep_0.01.tif /media/gost/DATA/GEP/Clusters/sz-1/rasterized_gep_0.01_noData.tif\n",
      "gdal_translate -of GTiff -a_nodata 0 /media/gost/DATA/GEP/Clusters/td-1/rasterized_gep_0.01.tif /media/gost/DATA/GEP/Clusters/td-1/rasterized_gep_0.01_noData.tif\n",
      "gdal_translate -of GTiff -a_nodata 0 /media/gost/DATA/GEP/Clusters/tg-1/rasterized_gep_0.01.tif /media/gost/DATA/GEP/Clusters/tg-1/rasterized_gep_0.01_noData.tif\n",
      "gdal_translate -of GTiff -a_nodata 0 /media/gost/DATA/GEP/Clusters/tl-1/rasterized_gep_0.01.tif /media/gost/DATA/GEP/Clusters/tl-1/rasterized_gep_0.01_noData.tif\n",
      "gdal_translate -of GTiff -a_nodata 0 /media/gost/DATA/GEP/Clusters/tz-1/rasterized_gep_0.01.tif /media/gost/DATA/GEP/Clusters/tz-1/rasterized_gep_0.01_noData.tif\n",
      "gdal_translate -of GTiff -a_nodata 0 /media/gost/DATA/GEP/Clusters/ug-1/rasterized_gep_0.01.tif /media/gost/DATA/GEP/Clusters/ug-1/rasterized_gep_0.01_noData.tif\n",
      "gdal_translate -of GTiff -a_nodata 0 /media/gost/DATA/GEP/Clusters/vu-1/rasterized_gep_0.01.tif /media/gost/DATA/GEP/Clusters/vu-1/rasterized_gep_0.01_noData.tif\n",
      "gdal_translate -of GTiff -a_nodata 0 /media/gost/DATA/GEP/Clusters/za-1/rasterized_gep_0.01.tif /media/gost/DATA/GEP/Clusters/za-1/rasterized_gep_0.01_noData.tif\n",
      "gdal_translate -of GTiff -a_nodata 0 /media/gost/DATA/GEP/Clusters/zm-1/rasterized_gep_0.01.tif /media/gost/DATA/GEP/Clusters/zm-1/rasterized_gep_0.01_noData.tif\n",
      "gdal_translate -of GTiff -a_nodata 0 /media/gost/DATA/GEP/Clusters/zw-1/rasterized_gep_0.01.tif /media/gost/DATA/GEP/Clusters/zw-1/rasterized_gep_0.01_noData.tif\n"
     ]
    }
   ],
   "source": [
    "# Convert 0 in data to no data\n",
    "allImages = []\n",
    "for root, folders, files in os.walk(clustersFolder):\n",
    "    for f in files:\n",
    "        if f[-6:] == \"01.tif\":\n",
    "            allImages.append(os.path.join(root, f))\n",
    "\n",
    "for inFile in allImages:\n",
    "    outFile = inFile.replace(\".tif\", \"_noData.tif\")\n",
    "    print(f'gdal_translate -of GTiff -a_nodata 0 {inFile} {outFile}')"
   ]
  },
  {
   "cell_type": "code",
   "execution_count": null,
   "metadata": {},
   "outputs": [],
   "source": [
    "find /media/gost/DATA/GEP/Clusters -name \"*0.01_noData.tif\" > tifFiles.txt\n",
    "gdalbuildvrt combined_gep_rasterized_01.vrt -input_file_list tifFiles.txt"
   ]
  }
 ],
 "metadata": {
  "kernelspec": {
   "display_name": "Python Geog",
   "language": "python",
   "name": "geog"
  },
  "language_info": {
   "codemirror_mode": {
    "name": "ipython",
    "version": 3
   },
   "file_extension": ".py",
   "mimetype": "text/x-python",
   "name": "python",
   "nbconvert_exporter": "python",
   "pygments_lexer": "ipython3",
   "version": "3.7.2"
  }
 },
 "nbformat": 4,
 "nbformat_minor": 2
}
